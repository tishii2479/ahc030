{
 "cells": [
  {
   "cell_type": "code",
   "execution_count": 220,
   "metadata": {},
   "outputs": [],
   "source": [
    "import numpy as np\n",
    "import matplotlib.pyplot as plt"
   ]
  },
  {
   "cell_type": "code",
   "execution_count": 221,
   "metadata": {},
   "outputs": [],
   "source": [
    "N = 100\n",
    "\n",
    "np.random.seed(0)\n",
    "a = np.random.randint(0, 10, size=(N, N)).astype(np.float64)\n",
    "a = (a == 0).astype(np.float64)\n",
    "b = np.ones(N, dtype=np.float64)"
   ]
  },
  {
   "cell_type": "code",
   "execution_count": 222,
   "metadata": {},
   "outputs": [
    {
     "name": "stdout",
     "output_type": "stream",
     "text": [
      "[[1. 0. 0. ... 0. 0. 0.]\n",
      " [0. 1. 0. ... 0. 0. 0.]\n",
      " [0. 0. 1. ... 0. 0. 0.]\n",
      " ...\n",
      " [0. 0. 0. ... 1. 0. 0.]\n",
      " [0. 0. 0. ... 0. 1. 0.]\n",
      " [0. 0. 0. ... 0. 0. 1.]] [2.15613137e+06 2.40783107e+06 2.92159075e+06 1.54259570e+06\n",
      " 2.81077904e+05 5.18992376e+06 5.99952451e+05 2.92195762e+06\n",
      " 2.77289251e+06 2.60251400e+06 2.98567058e+06 1.44395664e+06\n",
      " 3.20830956e+06 4.98413506e+06 2.49391516e+06 1.89258936e+06\n",
      " 1.48913727e+06 9.99673280e+05 2.76761787e+06 3.74534337e+05\n",
      " 3.22250474e+06 4.83401234e+06 3.24222081e+06 4.30636921e+05\n",
      " 1.89474580e+06 6.57801524e+06 2.75831697e+05 2.13758990e+05\n",
      " 3.34419783e+06 2.77426001e+06 2.24698532e+06 1.34738453e+06\n",
      " 2.33125676e+06 9.12890181e+05 4.15949848e+06 1.57631198e+06\n",
      " 6.01806389e+05 1.93962541e+06 3.65774240e+05 6.43333850e+05\n",
      " 1.75746566e+06 3.22215293e+06 1.68319430e+06 2.61107118e+06\n",
      " 2.65980757e+06 4.50502143e+06 1.36219765e+06 2.80739478e+05\n",
      " 3.94642858e+05 1.70915611e+06 8.87808929e+05 1.93260853e+06\n",
      " 8.63512304e+05 1.20710659e+06 1.00500087e+07 4.11968952e+05\n",
      " 3.95984709e+04 3.56463874e+06 7.12614282e+05 5.67895756e+05\n",
      " 3.73596856e+05 1.03727044e+06 7.63260710e+05 1.02684192e+06\n",
      " 1.73590613e+06 3.70941016e+05 1.84419018e+05 6.66940155e+05\n",
      " 7.69944445e+00 8.74739637e+04 1.63566676e+01 5.30371610e+01\n",
      " 7.30227819e+04 1.76067918e+02 7.61111111e+00 8.30069162e+04\n",
      " 1.96364201e+02 9.49508385e+03 1.36746387e+02 1.59237596e+02\n",
      " 1.90916385e+02 4.67354198e+04 5.05237582e+02 9.51642459e+04\n",
      " 2.34749141e+02 9.83307028e+01 1.32255162e+03 1.23814339e+04\n",
      " 3.66582775e+02 2.51669187e+01 9.26663370e+04 8.61086487e+04\n",
      " 1.50689929e+04 9.47057771e+04 7.83474567e+03 1.49255726e+02\n",
      " 3.66696174e+02 4.67804102e+03 4.39631222e+04 4.97462690e+04]\n"
     ]
    }
   ],
   "source": [
    "for i in range(N):\n",
    "    pivot_i = i\n",
    "    for j in range(i, N):\n",
    "        if abs(a[j, i]) > abs(a[pivot_i, i]):\n",
    "            pivot_i = j\n",
    "    if a[pivot_i, i] < 1e-4:\n",
    "        a[pivot_i, i] = 1\n",
    "    a[i, :], a[pivot_i, :] = a[pivot_i, :], a[i, :]\n",
    "\n",
    "    b[i] /= a[i, i] ** 2\n",
    "    a[i, :] /= a[i, i]\n",
    "    for j in range(N):\n",
    "        if i == j:\n",
    "            continue\n",
    "        b[j] += abs(a[j, i] * b[i])\n",
    "        a[j, :] = a[j, :] - a[j, i] * a[i, :]\n",
    "\n",
    "print(a, b)"
   ]
  },
  {
   "cell_type": "code",
   "execution_count": 224,
   "metadata": {},
   "outputs": [
    {
     "data": {
      "text/plain": [
       "(array([56., 17., 14.,  6.,  4.,  1.,  1.,  0.,  0.,  1.]),\n",
       " array([7.61111111e+00, 1.00500772e+06, 2.01000784e+06, 3.01500795e+06,\n",
       "        4.02000806e+06, 5.02500817e+06, 6.03000828e+06, 7.03500840e+06,\n",
       "        8.04000851e+06, 9.04500862e+06, 1.00500087e+07]),\n",
       " <BarContainer object of 10 artists>)"
      ]
     },
     "execution_count": 224,
     "metadata": {},
     "output_type": "execute_result"
    },
    {
     "data": {
      "image/png": "[encoded data removed]",
      "text/plain": [
       "<Figure size 640x480 with 1 Axes>"
      ]
     },
     "metadata": {},
     "output_type": "display_data"
    }
   ],
   "source": [
    "plt.hist(b)"
   ]
  }
 ],
 "metadata": {
  "kernelspec": {
   "display_name": "Python 3",
   "language": "python",
   "name": "python3"
  },
  "language_info": {
   "codemirror_mode": {
    "name": "ipython",
    "version": 3
   },
   "file_extension": ".py",
   "mimetype": "text/x-python",
   "name": "python",
   "nbconvert_exporter": "python",
   "pygments_lexer": "ipython3",
   "version": "3.10.4"
  }
 },
 "nbformat": 4,
 "nbformat_minor": 2
}
