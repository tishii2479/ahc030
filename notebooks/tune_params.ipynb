{
 "cells": [
  {
   "cell_type": "code",
   "execution_count": 49,
   "metadata": {},
   "outputs": [],
   "source": [
    "import sys\n",
    "sys.path.append(\"../\")\n",
    "\n",
    "import subprocess\n",
    "import datetime\n",
    "from joblib import Parallel, delayed\n",
    "\n",
    "import json\n",
    "import os\n",
    "\n",
    "import matplotlib.pyplot as plt\n",
    "from tqdm import tqdm\n",
    "import optuna\n",
    "\n",
    "from run import *"
   ]
  },
  {
   "cell_type": "code",
   "execution_count": 50,
   "metadata": {},
   "outputs": [
    {
     "name": "stderr",
     "output_type": "stream",
     "text": [
      "    Finished release [optimized] target(s) in 0.01s\n",
      "\u001b[32m[I 2024-02-19 12:33:44,158]\u001b[0m A new study created in RDB with name: tune-anneal-02\u001b[0m\n"
     ]
    },
    {
     "name": "stdout",
     "output_type": "stream",
     "text": [
      "start optimize\n"
     ]
    },
    {
     "data": {
      "application/vnd.jupyter.widget-view+json": {
       "model_id": "77694b3463cb4448b6b94d4afd56f9b0",
       "version_major": 2,
       "version_minor": 0
      },
      "text/plain": [
       "  0%|          | 0/100 [00:00<?, ?it/s]"
      ]
     },
     "metadata": {},
     "output_type": "display_data"
    },
    {
     "name": "stdout",
     "output_type": "stream",
     "text": [
      "\u001b[32m[I 2024-02-19 12:34:51,436]\u001b[0m Trial 0 finished with value: 0.47468504827740327 and parameters: {'delta_max_dist': 2, 'neighbor_p': 2.0, 'duplicate_min_d': 1, 'step_p': 1.0, 'out_step_size': 100.0, 'start_temp_coef': 1000.0, 'end_temp_coef': 100000.0}. Best is trial 0 with value: 0.47468504827740327.\u001b[0m\n",
      "\u001b[32m[I 2024-02-19 12:35:58,715]\u001b[0m Trial 1 finished with value: 0.3972344514080676 and parameters: {'delta_max_dist': 2, 'neighbor_p': 2.9513793481304513, 'duplicate_min_d': 4, 'step_p': 1.8563271555112155, 'out_step_size': 177.32376842179178, 'start_temp_coef': 3207.8509165162545, 'end_temp_coef': 262817.82791369304}. Best is trial 0 with value: 0.47468504827740327.\u001b[0m\n",
      "\u001b[32m[I 2024-02-19 12:37:19,738]\u001b[0m Trial 2 finished with value: 0.3780410731344945 and parameters: {'delta_max_dist': 2, 'neighbor_p': 2.9103571666669956, 'duplicate_min_d': 3, 'step_p': 0.9856006924038068, 'out_step_size': 140.40842440770595, 'start_temp_coef': 6280.566064171002, 'end_temp_coef': 460605.6518207593}. Best is trial 0 with value: 0.47468504827740327.\u001b[0m\n",
      "\u001b[32m[I 2024-02-19 12:38:34,553]\u001b[0m Trial 3 finished with value: 0.43621566256670496 and parameters: {'delta_max_dist': 1, 'neighbor_p': 1.7982087537304772, 'duplicate_min_d': 3, 'step_p': 0.756130935265225, 'out_step_size': 152.86019857174108, 'start_temp_coef': 2360.5926107101945, 'end_temp_coef': 881549.1703000756}. Best is trial 0 with value: 0.47468504827740327.\u001b[0m\n",
      "\u001b[32m[I 2024-02-19 12:40:00,842]\u001b[0m Trial 4 finished with value: 0.32717064147550873 and parameters: {'delta_max_dist': 3, 'neighbor_p': 1.6868548476553131, 'duplicate_min_d': 5, 'step_p': 0.8378569957918609, 'out_step_size': 177.87574156367782, 'start_temp_coef': 5951.333561807483, 'end_temp_coef': 738909.1802181227}. Best is trial 0 with value: 0.47468504827740327.\u001b[0m\n",
      "\u001b[32m[I 2024-02-19 12:41:11,346]\u001b[0m Trial 5 finished with value: 0.4483049923304552 and parameters: {'delta_max_dist': 2, 'neighbor_p': 2.5718717632978425, 'duplicate_min_d': 4, 'step_p': 0.7986388665577164, 'out_step_size': 106.98183252591554, 'start_temp_coef': 249.72747402387913, 'end_temp_coef': 117261.08676392896}. Best is trial 0 with value: 0.47468504827740327.\u001b[0m\n",
      "\u001b[32m[I 2024-02-19 12:42:25,390]\u001b[0m Trial 6 finished with value: 0.4348343282921813 and parameters: {'delta_max_dist': 1, 'neighbor_p': 1.931462890540291, 'duplicate_min_d': 5, 'step_p': 0.696266589905509, 'out_step_size': 166.6799332204063, 'start_temp_coef': 2023.9484045668817, 'end_temp_coef': 851302.0798850628}. Best is trial 0 with value: 0.47468504827740327.\u001b[0m\n",
      "\u001b[32m[I 2024-02-19 12:43:40,284]\u001b[0m Trial 7 finished with value: 0.3472494669519965 and parameters: {'delta_max_dist': 3, 'neighbor_p': 2.0486905956194983, 'duplicate_min_d': 1, 'step_p': 1.9654379522723522, 'out_step_size': 188.65310991445804, 'start_temp_coef': 6645.459245938033, 'end_temp_coef': 968615.5290916044}. Best is trial 0 with value: 0.47468504827740327.\u001b[0m\n",
      "\u001b[32m[I 2024-02-19 12:45:05,044]\u001b[0m Trial 8 finished with value: 0.3229240400646214 and parameters: {'delta_max_dist': 1, 'neighbor_p': 1.023604632940961, 'duplicate_min_d': 1, 'step_p': 1.2687950089231483, 'out_step_size': 161.6086940502637, 'start_temp_coef': 8644.595734742083, 'end_temp_coef': 597089.5856026018}. Best is trial 0 with value: 0.47468504827740327.\u001b[0m\n",
      "\u001b[32m[I 2024-02-19 12:46:27,407]\u001b[0m Trial 9 finished with value: 0.3329839770551166 and parameters: {'delta_max_dist': 1, 'neighbor_p': 1.8064904796915846, 'duplicate_min_d': 4, 'step_p': 1.3680701533077477, 'out_step_size': 143.83454700608638, 'start_temp_coef': 7136.928122361276, 'end_temp_coef': 902641.4180862068}. Best is trial 0 with value: 0.47468504827740327.\u001b[0m\n",
      "\u001b[32m[I 2024-02-19 12:47:34,829]\u001b[0m Trial 10 finished with value: 0.41436681420562843 and parameters: {'delta_max_dist': 3, 'neighbor_p': 1.176849910817538, 'duplicate_min_d': 2, 'step_p': 1.56041987428818, 'out_step_size': 61.14062905622259, 'start_temp_coef': 133.31337763038687, 'end_temp_coef': 62128.566497899825}. Best is trial 0 with value: 0.47468504827740327.\u001b[0m\n",
      "\u001b[32m[I 2024-02-19 12:48:47,205]\u001b[0m Trial 11 finished with value: 0.44213850978130387 and parameters: {'delta_max_dist': 2, 'neighbor_p': 2.4434754158553718, 'duplicate_min_d': 2, 'step_p': 0.5125326095606417, 'out_step_size': 94.04504898642766, 'start_temp_coef': 182.64582370999085, 'end_temp_coef': 71075.95273530764}. Best is trial 0 with value: 0.47468504827740327.\u001b[0m\n",
      "\u001b[32m[I 2024-02-19 12:50:01,371]\u001b[0m Trial 12 finished with value: 0.4181162734480454 and parameters: {'delta_max_dist': 2, 'neighbor_p': 2.437883684050105, 'duplicate_min_d': 4, 'step_p': 1.0537303969374823, 'out_step_size': 103.9650151164584, 'start_temp_coef': 3930.0976792397596, 'end_temp_coef': 314671.3926610565}. Best is trial 0 with value: 0.47468504827740327.\u001b[0m\n",
      "\u001b[32m[I 2024-02-19 12:51:06,652]\u001b[0m Trial 13 finished with value: 0.4765861652633903 and parameters: {'delta_max_dist': 2, 'neighbor_p': 2.360602143905766, 'duplicate_min_d': 2, 'step_p': 1.1038020528456995, 'out_step_size': 108.97338575537303, 'start_temp_coef': 1295.4218733974935, 'end_temp_coef': 208296.8824269621}. Best is trial 13 with value: 0.4765861652633903.\u001b[0m\n",
      "\u001b[32m[I 2024-02-19 12:52:12,821]\u001b[0m Trial 14 finished with value: 0.4695046804686197 and parameters: {'delta_max_dist': 2, 'neighbor_p': 2.199986264766503, 'duplicate_min_d': 2, 'step_p': 1.0782444752235336, 'out_step_size': 73.27210503605227, 'start_temp_coef': 1543.964471834477, 'end_temp_coef': 261002.21896004828}. Best is trial 13 with value: 0.4765861652633903.\u001b[0m\n",
      "\u001b[32m[I 2024-02-19 12:53:23,686]\u001b[0m Trial 15 finished with value: 0.4092455843976271 and parameters: {'delta_max_dist': 3, 'neighbor_p': 1.5453204410924193, 'duplicate_min_d': 1, 'step_p': 1.5948330149208974, 'out_step_size': 122.69353329528612, 'start_temp_coef': 4617.5896039582585, 'end_temp_coef': 417131.52899930085}. Best is trial 13 with value: 0.4765861652633903.\u001b[0m\n",
      "\u001b[32m[I 2024-02-19 12:54:26,712]\u001b[0m Trial 16 finished with value: 0.46162237397133593 and parameters: {'delta_max_dist': 2, 'neighbor_p': 2.255320953871504, 'duplicate_min_d': 2, 'step_p': 1.3676983939070078, 'out_step_size': 83.18433579811547, 'start_temp_coef': 1435.5576585131062, 'end_temp_coef': 180216.2831257413}. Best is trial 13 with value: 0.4765861652633903.\u001b[0m\n",
      "\u001b[32m[I 2024-02-19 12:55:41,908]\u001b[0m Trial 17 finished with value: 0.41620319595585253 and parameters: {'delta_max_dist': 1, 'neighbor_p': 1.446002408090601, 'duplicate_min_d': 1, 'step_p': 1.1484790992717138, 'out_step_size': 120.28763306695173, 'start_temp_coef': 3321.0127633018915, 'end_temp_coef': 594841.3242988377}. Best is trial 13 with value: 0.4765861652633903.\u001b[0m\n",
      "\u001b[32m[I 2024-02-19 12:57:06,477]\u001b[0m Trial 18 finished with value: 0.3341153024184408 and parameters: {'delta_max_dist': 3, 'neighbor_p': 2.1434024964471012, 'duplicate_min_d': 2, 'step_p': 0.9623283731554747, 'out_step_size': 52.048562466108606, 'start_temp_coef': 9331.615065615228, 'end_temp_coef': 367372.4090425109}. Best is trial 13 with value: 0.4765861652633903.\u001b[0m\n",
      "\u001b[32m[I 2024-02-19 12:58:22,995]\u001b[0m Trial 19 finished with value: 0.401257600032126 and parameters: {'delta_max_dist': 2, 'neighbor_p': 2.663628383504528, 'duplicate_min_d': 1, 'step_p': 0.5898356442844557, 'out_step_size': 88.31993737943367, 'start_temp_coef': 5012.562188311409, 'end_temp_coef': 207818.02623698142}. Best is trial 13 with value: 0.4765861652633903.\u001b[0m\n",
      "\u001b[32m[I 2024-02-19 12:59:26,783]\u001b[0m Trial 20 finished with value: 0.4487842610213023 and parameters: {'delta_max_dist': 2, 'neighbor_p': 2.7306801727202603, 'duplicate_min_d': 3, 'step_p': 1.5278143894482086, 'out_step_size': 109.0793902435517, 'start_temp_coef': 2553.471541671353, 'end_temp_coef': 31247.563818945142}. Best is trial 13 with value: 0.4765861652633903.\u001b[0m\n",
      "\u001b[32m[I 2024-02-19 13:00:31,787]\u001b[0m Trial 21 finished with value: 0.4634710669298082 and parameters: {'delta_max_dist': 2, 'neighbor_p': 2.2809363047130433, 'duplicate_min_d': 2, 'step_p': 1.1677756870247755, 'out_step_size': 73.52751476532131, 'start_temp_coef': 1574.2289035328322, 'end_temp_coef': 169707.79156649613}. Best is trial 13 with value: 0.4765861652633903.\u001b[0m\n",
      "\u001b[32m[I 2024-02-19 13:01:38,202]\u001b[0m Trial 22 finished with value: 0.46630340639447726 and parameters: {'delta_max_dist': 2, 'neighbor_p': 2.2630215781759735, 'duplicate_min_d': 2, 'step_p': 0.9446981680208038, 'out_step_size': 67.51808283950791, 'start_temp_coef': 1092.1851197908004, 'end_temp_coef': 282987.2175213876}. Best is trial 13 with value: 0.4765861652633903.\u001b[0m\n",
      "\u001b[32m[I 2024-02-19 13:02:43,771]\u001b[0m Trial 23 finished with value: 0.46001798004073163 and parameters: {'delta_max_dist': 2, 'neighbor_p': 1.9347199726980657, 'duplicate_min_d': 3, 'step_p': 1.1123913874524067, 'out_step_size': 78.86139827085172, 'start_temp_coef': 974.0306045747585, 'end_temp_coef': 11769.85954975149}. Best is trial 13 with value: 0.4765861652633903.\u001b[0m\n",
      "\u001b[32m[I 2024-02-19 13:03:51,472]\u001b[0m Trial 24 finished with value: 0.44171186017234937 and parameters: {'delta_max_dist': 2, 'neighbor_p': 2.4242608949293656, 'duplicate_min_d': 1, 'step_p': 1.2682568728293737, 'out_step_size': 96.31158908012789, 'start_temp_coef': 2854.436130268791, 'end_temp_coef': 546063.9323882841}. Best is trial 13 with value: 0.4765861652633903.\u001b[0m\n",
      "\u001b[32m[I 2024-02-19 13:05:04,632]\u001b[0m Trial 25 finished with value: 0.40905634182434863 and parameters: {'delta_max_dist': 1, 'neighbor_p': 2.070864247831142, 'duplicate_min_d': 2, 'step_p': 1.396060832304137, 'out_step_size': 131.61713929269038, 'start_temp_coef': 3817.693040841369, 'end_temp_coef': 224040.41052220657}. Best is trial 13 with value: 0.4765861652633903.\u001b[0m\n",
      "\u001b[32m[I 2024-02-19 13:06:13,307]\u001b[0m Trial 26 finished with value: 0.45188516442470666 and parameters: {'delta_max_dist': 3, 'neighbor_p': 2.179513050439283, 'duplicate_min_d': 2, 'step_p': 0.887017229146781, 'out_step_size': 113.92253303467172, 'start_temp_coef': 1892.7953351647925, 'end_temp_coef': 129468.78603723762}. Best is trial 13 with value: 0.4765861652633903.\u001b[0m\n",
      "\u001b[32m[I 2024-02-19 13:07:20,060]\u001b[0m Trial 27 finished with value: 0.46656979131114973 and parameters: {'delta_max_dist': 2, 'neighbor_p': 2.3592945504382454, 'duplicate_min_d': 1, 'step_p': 1.0611455663880227, 'out_step_size': 97.39407647344144, 'start_temp_coef': 990.2030604341854, 'end_temp_coef': 338958.8376195906}. Best is trial 13 with value: 0.4765861652633903.\u001b[0m\n",
      "\u001b[32m[I 2024-02-19 13:08:37,723]\u001b[0m Trial 28 finished with value: 0.39797445624100514 and parameters: {'delta_max_dist': 2, 'neighbor_p': 2.560101740484361, 'duplicate_min_d': 3, 'step_p': 0.6804386207202802, 'out_step_size': 60.760464147556625, 'start_temp_coef': 4099.461089758582, 'end_temp_coef': 407466.37923759536}. Best is trial 13 with value: 0.4765861652633903.\u001b[0m\n",
      "\u001b[32m[I 2024-02-19 13:09:49,309]\u001b[0m Trial 29 finished with value: 0.4223383452257416 and parameters: {'delta_max_dist': 1, 'neighbor_p': 2.849696248108221, 'duplicate_min_d': 2, 'step_p': 1.2034412680290878, 'out_step_size': 82.00987858654278, 'start_temp_coef': 3240.5429066157612, 'end_temp_coef': 266637.14336484997}. Best is trial 13 with value: 0.4765861652633903.\u001b[0m\n",
      "\u001b[32m[I 2024-02-19 13:10:56,475]\u001b[0m Trial 30 finished with value: 0.44021080632017867 and parameters: {'delta_max_dist': 3, 'neighbor_p': 1.8156366142054159, 'duplicate_min_d': 1, 'step_p': 1.684334302638872, 'out_step_size': 129.59766895953976, 'start_temp_coef': 770.2058122235751, 'end_temp_coef': 121670.09831896548}. Best is trial 13 with value: 0.4765861652633903.\u001b[0m\n",
      "\u001b[32m[I 2024-02-19 13:12:01,826]\u001b[0m Trial 31 finished with value: 0.4738993189852325 and parameters: {'delta_max_dist': 2, 'neighbor_p': 2.352009680250746, 'duplicate_min_d': 1, 'step_p': 1.040860714858823, 'out_step_size': 98.55296117769176, 'start_temp_coef': 843.397319183491, 'end_temp_coef': 311019.2941855363}. Best is trial 13 with value: 0.4765861652633903.\u001b[0m\n",
      "\u001b[32m[I 2024-02-19 13:13:10,576]\u001b[0m Trial 32 finished with value: 0.477030427268685 and parameters: {'delta_max_dist': 2, 'neighbor_p': 2.1254406349541752, 'duplicate_min_d': 1, 'step_p': 1.01362848527563, 'out_step_size': 114.19018342057352, 'start_temp_coef': 1861.6443633120948, 'end_temp_coef': 247131.91496043012}. Best is trial 32 with value: 0.477030427268685.\u001b[0m\n",
      "\u001b[32m[I 2024-02-19 13:14:19,145]\u001b[0m Trial 33 finished with value: 0.4604543763667646 and parameters: {'delta_max_dist': 2, 'neighbor_p': 2.0106191453798896, 'duplicate_min_d': 1, 'step_p': 0.9840421672073673, 'out_step_size': 117.24259334423121, 'start_temp_coef': 2529.638876422509, 'end_temp_coef': 233580.86755672516}. Best is trial 32 with value: 0.477030427268685.\u001b[0m\n",
      "\u001b[32m[I 2024-02-19 13:15:26,498]\u001b[0m Trial 34 finished with value: 0.4660142969181955 and parameters: {'delta_max_dist': 2, 'neighbor_p': 2.5490031581677033, 'duplicate_min_d': 1, 'step_p': 0.9007452729001552, 'out_step_size': 136.214297573099, 'start_temp_coef': 2076.0681011482457, 'end_temp_coef': 455236.0890927145}. Best is trial 32 with value: 0.477030427268685.\u001b[0m\n",
      "\u001b[32m[I 2024-02-19 13:16:34,008]\u001b[0m Trial 35 finished with value: 0.4784719494281092 and parameters: {'delta_max_dist': 2, 'neighbor_p': 1.5641039414047968, 'duplicate_min_d': 1, 'step_p': 0.7608173300413019, 'out_step_size': 107.38459261776711, 'start_temp_coef': 545.132128920756, 'end_temp_coef': 145249.25791028846}. Best is trial 35 with value: 0.4784719494281092.\u001b[0m\n",
      "\u001b[32m[I 2024-02-19 13:17:42,356]\u001b[0m Trial 36 finished with value: 0.47737275885598285 and parameters: {'delta_max_dist': 2, 'neighbor_p': 1.601327506144882, 'duplicate_min_d': 1, 'step_p': 0.7834382134816031, 'out_step_size': 148.32834457364464, 'start_temp_coef': 440.29749806345785, 'end_temp_coef': 147113.81736220347}. Best is trial 35 with value: 0.4784719494281092.\u001b[0m\n",
      "\u001b[32m[I 2024-02-19 13:18:50,021]\u001b[0m Trial 37 finished with value: 0.4744128945546703 and parameters: {'delta_max_dist': 2, 'neighbor_p': 1.382750299533965, 'duplicate_min_d': 1, 'step_p': 0.7840526813692162, 'out_step_size': 147.88776405394609, 'start_temp_coef': 498.6007654037736, 'end_temp_coef': 155633.51784075057}. Best is trial 35 with value: 0.4784719494281092.\u001b[0m\n",
      "\u001b[32m[I 2024-02-19 13:19:57,313]\u001b[0m Trial 38 finished with value: 0.47921022963535603 and parameters: {'delta_max_dist': 2, 'neighbor_p': 1.6771935432547416, 'duplicate_min_d': 1, 'step_p': 0.665595265563938, 'out_step_size': 154.13995284400642, 'start_temp_coef': 1474.1650438403112, 'end_temp_coef': 88218.21461575298}. Best is trial 38 with value: 0.47921022963535603.\u001b[0m\n",
      "\u001b[32m[I 2024-02-19 13:21:15,658]\u001b[0m Trial 39 finished with value: 0.40681270568705696 and parameters: {'delta_max_dist': 2, 'neighbor_p': 1.6875366208231226, 'duplicate_min_d': 1, 'step_p': 0.6567229825754257, 'out_step_size': 157.3611528969317, 'start_temp_coef': 5808.198288857797, 'end_temp_coef': 85346.51583986919}. Best is trial 38 with value: 0.47921022963535603.\u001b[0m\n",
      "\u001b[32m[I 2024-02-19 13:22:26,920]\u001b[0m Trial 40 finished with value: 0.4631302431144396 and parameters: {'delta_max_dist': 2, 'neighbor_p': 1.5775908996329102, 'duplicate_min_d': 1, 'step_p': 0.8372381445787377, 'out_step_size': 171.6369409834934, 'start_temp_coef': 2155.9102698754064, 'end_temp_coef': 756128.2480253729}. Best is trial 38 with value: 0.47921022963535603.\u001b[0m\n",
      "\u001b[32m[I 2024-02-19 13:23:35,963]\u001b[0m Trial 41 finished with value: 0.47209718411667667 and parameters: {'delta_max_dist': 2, 'neighbor_p': 1.3281008471535432, 'duplicate_min_d': 1, 'step_p': 0.7256500955818717, 'out_step_size': 196.24366343678747, 'start_temp_coef': 1402.5460833454429, 'end_temp_coef': 191799.75209152306}. Best is trial 38 with value: 0.47921022963535603.\u001b[0m\n",
      "\u001b[32m[I 2024-02-19 13:24:45,002]\u001b[0m Trial 42 finished with value: 0.4699261801865643 and parameters: {'delta_max_dist': 2, 'neighbor_p': 1.6937760303945433, 'duplicate_min_d': 1, 'step_p': 0.6064379757460523, 'out_step_size': 150.9950284062039, 'start_temp_coef': 567.7327526932598, 'end_temp_coef': 83615.51019854544}. Best is trial 38 with value: 0.47921022963535603.\u001b[0m\n",
      "\u001b[32m[I 2024-02-19 13:25:56,092]\u001b[0m Trial 43 finished with value: 0.4602271204895114 and parameters: {'delta_max_dist': 2, 'neighbor_p': 1.2542541219588426, 'duplicate_min_d': 2, 'step_p': 0.5478576150572394, 'out_step_size': 140.70249338087424, 'start_temp_coef': 1740.6024737562627, 'end_temp_coef': 132123.31566530527}. Best is trial 38 with value: 0.47921022963535603.\u001b[0m\n",
      "\u001b[32m[I 2024-02-19 13:27:05,517]\u001b[0m Trial 44 finished with value: 0.46662207785998033 and parameters: {'delta_max_dist': 1, 'neighbor_p': 1.4833365773513814, 'duplicate_min_d': 1, 'step_p': 0.7711945264529976, 'out_step_size': 111.23154130118739, 'start_temp_coef': 311.3443224709444, 'end_temp_coef': 13491.044028326549}. Best is trial 38 with value: 0.47921022963535603.\u001b[0m\n",
      "\u001b[32m[I 2024-02-19 13:28:27,390]\u001b[0m Trial 45 finished with value: 0.37217056840946966 and parameters: {'delta_max_dist': 2, 'neighbor_p': 1.894660323806163, 'duplicate_min_d': 5, 'step_p': 0.8741834593931787, 'out_step_size': 130.45315939558444, 'start_temp_coef': 7809.74944316202, 'end_temp_coef': 64201.85323702553}. Best is trial 38 with value: 0.47921022963535603.\u001b[0m\n",
      "\u001b[32m[I 2024-02-19 13:29:40,019]\u001b[0m Trial 46 finished with value: 0.4542205703680395 and parameters: {'delta_max_dist': 2, 'neighbor_p': 1.653609425808911, 'duplicate_min_d': 1, 'step_p': 0.6590469770591243, 'out_step_size': 165.56953869344383, 'start_temp_coef': 2781.496582102736, 'end_temp_coef': 245511.0763324986}. Best is trial 38 with value: 0.47921022963535603.\u001b[0m\n",
      "\u001b[32m[I 2024-02-19 13:30:51,356]\u001b[0m Trial 47 finished with value: 0.4361979249033071 and parameters: {'delta_max_dist': 3, 'neighbor_p': 1.796382012422885, 'duplicate_min_d': 2, 'step_p': 0.8240082295317452, 'out_step_size': 103.47311021046673, 'start_temp_coef': 1044.7926637018577, 'end_temp_coef': 158020.46313766146}. Best is trial 38 with value: 0.47921022963535603.\u001b[0m\n",
      "\u001b[32m[I 2024-02-19 13:32:02,003]\u001b[0m Trial 48 finished with value: 0.46241779706414654 and parameters: {'delta_max_dist': 2, 'neighbor_p': 1.098938241323789, 'duplicate_min_d': 1, 'step_p': 0.7362301676121514, 'out_step_size': 181.97171395118065, 'start_temp_coef': 191.17732055357715, 'end_temp_coef': 381912.89087694493}. Best is trial 38 with value: 0.47921022963535603.\u001b[0m\n",
      "\u001b[32m[I 2024-02-19 13:33:08,584]\u001b[0m Trial 49 finished with value: 0.47674976297438965 and parameters: {'delta_max_dist': 1, 'neighbor_p': 1.5894065688580254, 'duplicate_min_d': 2, 'step_p': 1.0068349847732712, 'out_step_size': 123.86190284987022, 'start_temp_coef': 1285.7708192985235, 'end_temp_coef': 296613.4041191469}. Best is trial 38 with value: 0.47921022963535603.\u001b[0m\n",
      "\u001b[32m[I 2024-02-19 13:34:16,109]\u001b[0m Trial 50 finished with value: 0.4742687824486745 and parameters: {'delta_max_dist': 1, 'neighbor_p': 1.5910814837717706, 'duplicate_min_d': 1, 'step_p': 0.9322156870159016, 'out_step_size': 125.20400521667145, 'start_temp_coef': 2145.2956665850384, 'end_temp_coef': 107554.8183963658}. Best is trial 38 with value: 0.47921022963535603.\u001b[0m\n",
      "\u001b[32m[I 2024-02-19 13:35:23,328]\u001b[0m Trial 51 finished with value: 0.4733889479049099 and parameters: {'delta_max_dist': 1, 'neighbor_p': 1.4021333943937648, 'duplicate_min_d': 3, 'step_p': 0.9948617555333548, 'out_step_size': 116.5779368222944, 'start_temp_coef': 1165.5237238420275, 'end_temp_coef': 298886.848131684}. Best is trial 38 with value: 0.47921022963535603.\u001b[0m\n",
      "\u001b[32m[I 2024-02-19 13:36:31,078]\u001b[0m Trial 52 finished with value: 0.4579030754551808 and parameters: {'delta_max_dist': 1, 'neighbor_p': 1.7820636429895107, 'duplicate_min_d': 2, 'step_p': 1.2157684901270267, 'out_step_size': 155.39901012761942, 'start_temp_coef': 1501.154607239187, 'end_temp_coef': 201817.10644845353}. Best is trial 38 with value: 0.47921022963535603.\u001b[0m\n",
      "\u001b[32m[I 2024-02-19 13:37:43,053]\u001b[0m Trial 53 finished with value: 0.4445902170885555 and parameters: {'delta_max_dist': 2, 'neighbor_p': 1.2695041229343342, 'duplicate_min_d': 3, 'step_p': 0.6023222108096112, 'out_step_size': 105.89527969790015, 'start_temp_coef': 680.069175137076, 'end_temp_coef': 47406.32214452919}. Best is trial 38 with value: 0.47921022963535603.\u001b[0m\n",
      "\u001b[32m[I 2024-02-19 13:38:49,168]\u001b[0m Trial 54 finished with value: 0.456229686592578 and parameters: {'delta_max_dist': 2, 'neighbor_p': 2.1044397857271315, 'duplicate_min_d': 4, 'step_p': 1.3113681440781857, 'out_step_size': 91.40129268664306, 'start_temp_coef': 1737.566926795493, 'end_temp_coef': 168959.12626188106}. Best is trial 38 with value: 0.47921022963535603.\u001b[0m\n",
      "\u001b[32m[I 2024-02-19 13:40:00,056]\u001b[0m Trial 55 finished with value: 0.4552548943318889 and parameters: {'delta_max_dist': 1, 'neighbor_p': 1.9169351948038884, 'duplicate_min_d': 2, 'step_p': 1.120991559279565, 'out_step_size': 145.71893447185485, 'start_temp_coef': 149.19803184512324, 'end_temp_coef': 330351.4985825772}. Best is trial 38 with value: 0.47921022963535603.\u001b[0m\n",
      "\u001b[32m[I 2024-02-19 13:41:07,685]\u001b[0m Trial 56 finished with value: 0.46809534848615086 and parameters: {'delta_max_dist': 2, 'neighbor_p': 1.4907564325004112, 'duplicate_min_d': 1, 'step_p': 1.0161727355975332, 'out_step_size': 137.63848043240253, 'start_temp_coef': 1292.333466557478, 'end_temp_coef': 491771.8038211167}. Best is trial 38 with value: 0.47921022963535603.\u001b[0m\n",
      "\u001b[32m[I 2024-02-19 13:42:21,163]\u001b[0m Trial 57 finished with value: 0.429535181300032 and parameters: {'delta_max_dist': 3, 'neighbor_p': 1.6180314239769937, 'duplicate_min_d': 2, 'step_p': 0.8319459848034174, 'out_step_size': 124.11997126328566, 'start_temp_coef': 2963.3365211640285, 'end_temp_coef': 140425.669850457}. Best is trial 38 with value: 0.47921022963535603.\u001b[0m\n",
      "\u001b[32m[I 2024-02-19 13:43:30,300]\u001b[0m Trial 58 finished with value: 0.4660440445593994 and parameters: {'delta_max_dist': 2, 'neighbor_p': 1.8788151482143884, 'duplicate_min_d': 2, 'step_p': 0.9232954996206106, 'out_step_size': 112.50226171275663, 'start_temp_coef': 2440.513037596116, 'end_temp_coef': 220329.96726467417}. Best is trial 38 with value: 0.47921022963535603.\u001b[0m\n",
      "\u001b[32m[I 2024-02-19 13:44:44,690]\u001b[0m Trial 59 finished with value: 0.4436442784320958 and parameters: {'delta_max_dist': 2, 'neighbor_p': 1.7108813450920144, 'duplicate_min_d': 1, 'step_p': 0.5186322578469298, 'out_step_size': 121.65119807544218, 'start_temp_coef': 3531.8657184903323, 'end_temp_coef': 272200.23744397477}. Best is trial 38 with value: 0.47921022963535603.\u001b[0m\n",
      "\u001b[32m[I 2024-02-19 13:45:51,948]\u001b[0m Trial 60 finished with value: 0.47563143968366567 and parameters: {'delta_max_dist': 2, 'neighbor_p': 1.5037456169592935, 'duplicate_min_d': 1, 'step_p': 1.0948782111597313, 'out_step_size': 159.45543594423478, 'start_temp_coef': 599.4587844866185, 'end_temp_coef': 358377.7075812169}. Best is trial 38 with value: 0.47921022963535603.\u001b[0m\n",
      "\u001b[32m[I 2024-02-19 13:47:00,542]\u001b[0m Trial 61 finished with value: 0.4541779469366085 and parameters: {'delta_max_dist': 2, 'neighbor_p': 1.5229201269476365, 'duplicate_min_d': 1, 'step_p': 1.1652567866290038, 'out_step_size': 175.1211862900791, 'start_temp_coef': 523.2850754184192, 'end_temp_coef': 366497.8313964458}. Best is trial 38 with value: 0.47921022963535603.\u001b[0m\n",
      "\u001b[32m[I 2024-02-19 13:48:08,414]\u001b[0m Trial 62 finished with value: 0.472481328366316 and parameters: {'delta_max_dist': 2, 'neighbor_p': 1.7511193074939622, 'duplicate_min_d': 1, 'step_p': 1.0839006472901336, 'out_step_size': 163.41156106817348, 'start_temp_coef': 1283.4379411797474, 'end_temp_coef': 249710.41694994908}. Best is trial 38 with value: 0.47921022963535603.\u001b[0m\n",
      "\u001b[32m[I 2024-02-19 13:49:12,115]\u001b[0m Trial 63 finished with value: 0.43040247874401955 and parameters: {'delta_max_dist': 2, 'neighbor_p': 1.4178884271353136, 'duplicate_min_d': 1, 'step_p': 1.9685992826107457, 'out_step_size': 159.9799345036633, 'start_temp_coef': 811.2263807637651, 'end_temp_coef': 198245.30809412082}. Best is trial 38 with value: 0.47921022963535603.\u001b[0m\n",
      "\u001b[32m[I 2024-02-19 13:50:23,996]\u001b[0m Trial 64 finished with value: 0.4650835029341734 and parameters: {'delta_max_dist': 2, 'neighbor_p': 1.9770256939949873, 'duplicate_min_d': 1, 'step_p': 0.7095340075838684, 'out_step_size': 143.02603674362612, 'start_temp_coef': 1930.1311654669962, 'end_temp_coef': 446553.2485086742}. Best is trial 38 with value: 0.47921022963535603.\u001b[0m\n",
      "\u001b[32m[I 2024-02-19 13:51:33,668]\u001b[0m Trial 65 finished with value: 0.45830426410014663 and parameters: {'delta_max_dist': 2, 'neighbor_p': 1.3226732708446516, 'duplicate_min_d': 3, 'step_p': 0.8744193114789647, 'out_step_size': 153.32524227277293, 'start_temp_coef': 514.822692222252, 'end_temp_coef': 102949.23866010137}. Best is trial 38 with value: 0.47921022963535603.\u001b[0m\n",
      "\u001b[32m[I 2024-02-19 13:52:41,764]\u001b[0m Trial 66 finished with value: 0.46139508700160975 and parameters: {'delta_max_dist': 2, 'neighbor_p': 1.5739207383279894, 'duplicate_min_d': 2, 'step_p': 1.0199275657858118, 'out_step_size': 102.32821543822432, 'start_temp_coef': 1543.0561112393805, 'end_temp_coef': 344228.6957075348}. Best is trial 38 with value: 0.47921022963535603.\u001b[0m\n",
      "\u001b[32m[I 2024-02-19 13:53:49,886]\u001b[0m Trial 67 finished with value: 0.43993005474682023 and parameters: {'delta_max_dist': 3, 'neighbor_p': 1.1681794093651998, 'duplicate_min_d': 1, 'step_p': 1.2248016372158388, 'out_step_size': 135.10294085294603, 'start_temp_coef': 1064.1617661837859, 'end_temp_coef': 285855.4100210052}. Best is trial 38 with value: 0.47921022963535603.\u001b[0m\n",
      "\u001b[32m[I 2024-02-19 13:55:07,707]\u001b[0m Trial 68 finished with value: 0.3882014945681246 and parameters: {'delta_max_dist': 2, 'neighbor_p': 1.634792847308121, 'duplicate_min_d': 4, 'step_p': 1.0922316045910017, 'out_step_size': 169.7107283327979, 'start_temp_coef': 4393.970178855294, 'end_temp_coef': 686080.4994885218}. Best is trial 38 with value: 0.47921022963535603.\u001b[0m\n",
      "\u001b[32m[I 2024-02-19 13:56:18,075]\u001b[0m Trial 69 finished with value: 0.4290711251403526 and parameters: {'delta_max_dist': 1, 'neighbor_p': 1.480868870661336, 'duplicate_min_d': 1, 'step_p': 1.3253233551273316, 'out_step_size': 107.60935487384118, 'start_temp_coef': 2309.944291912555, 'end_temp_coef': 419708.28050475614}. Best is trial 38 with value: 0.47921022963535603.\u001b[0m\n",
      "\u001b[32m[I 2024-02-19 13:57:27,958]\u001b[0m Trial 70 finished with value: 0.454200327232185 and parameters: {'delta_max_dist': 2, 'neighbor_p': 2.332584242949513, 'duplicate_min_d': 2, 'step_p': 0.9685274160127758, 'out_step_size': 181.52638744732445, 'start_temp_coef': 101.07448743044893, 'end_temp_coef': 181024.67023658805}. Best is trial 38 with value: 0.47921022963535603.\u001b[0m\n",
      "\u001b[32m[I 2024-02-19 13:58:32,458]\u001b[0m Trial 71 finished with value: 0.48613224264322163 and parameters: {'delta_max_dist': 2, 'neighbor_p': 2.0130480815748517, 'duplicate_min_d': 1, 'step_p': 1.1213463590452353, 'out_step_size': 100.41986846188436, 'start_temp_coef': 722.1025458477571, 'end_temp_coef': 43417.675534323964}. Best is trial 71 with value: 0.48613224264322163.\u001b[0m\n",
      "\u001b[32m[I 2024-02-19 13:59:37,604]\u001b[0m Trial 72 finished with value: 0.48512715112661187 and parameters: {'delta_max_dist': 2, 'neighbor_p': 2.042538682606228, 'duplicate_min_d': 1, 'step_p': 1.1429338722038649, 'out_step_size': 118.46828073500745, 'start_temp_coef': 829.742974243281, 'end_temp_coef': 45400.42167483992}. Best is trial 71 with value: 0.48613224264322163.\u001b[0m\n",
      "\u001b[32m[I 2024-02-19 14:00:42,281]\u001b[0m Trial 73 finished with value: 0.4812386461496931 and parameters: {'delta_max_dist': 2, 'neighbor_p': 2.1794862686329863, 'duplicate_min_d': 1, 'step_p': 1.1697459091019358, 'out_step_size': 117.13941568259767, 'start_temp_coef': 1742.1660313743942, 'end_temp_coef': 71630.44544819207}. Best is trial 71 with value: 0.48613224264322163.\u001b[0m\n",
      "\u001b[32m[I 2024-02-19 14:01:47,800]\u001b[0m Trial 74 finished with value: 0.4694931645248965 and parameters: {'delta_max_dist': 2, 'neighbor_p': 2.196997141870775, 'duplicate_min_d': 1, 'step_p': 1.1489596333755063, 'out_step_size': 118.09726979254889, 'start_temp_coef': 1778.2455361327857, 'end_temp_coef': 45947.08753904239}. Best is trial 71 with value: 0.48613224264322163.\u001b[0m\n",
      "\u001b[32m[I 2024-02-19 14:02:50,634]\u001b[0m Trial 75 finished with value: 0.47947564459607417 and parameters: {'delta_max_dist': 2, 'neighbor_p': 2.061955922787499, 'duplicate_min_d': 1, 'step_p': 1.4034861934466085, 'out_step_size': 128.17563137152104, 'start_temp_coef': 915.7548286836804, 'end_temp_coef': 77426.63460655212}. Best is trial 71 with value: 0.48613224264322163.\u001b[0m\n",
      "\u001b[32m[I 2024-02-19 14:03:53,107]\u001b[0m Trial 76 finished with value: 0.46082105797660766 and parameters: {'delta_max_dist': 2, 'neighbor_p': 2.038260332221325, 'duplicate_min_d': 1, 'step_p': 1.425048465126895, 'out_step_size': 127.73446978627841, 'start_temp_coef': 823.9648710462693, 'end_temp_coef': 76728.9186604555}. Best is trial 71 with value: 0.48613224264322163.\u001b[0m\n",
      "\u001b[32m[I 2024-02-19 14:04:56,597]\u001b[0m Trial 77 finished with value: 0.4658998255317161 and parameters: {'delta_max_dist': 2, 'neighbor_p': 2.126112630088924, 'duplicate_min_d': 1, 'step_p': 1.451580665143107, 'out_step_size': 116.60330967553433, 'start_temp_coef': 460.7463526662511, 'end_temp_coef': 30121.503892746878}. Best is trial 71 with value: 0.48613224264322163.\u001b[0m\n",
      "\u001b[32m[I 2024-02-19 14:06:07,878]\u001b[0m Trial 78 finished with value: 0.4051587288235713 and parameters: {'delta_max_dist': 2, 'neighbor_p': 1.8498765711460148, 'duplicate_min_d': 1, 'step_p': 1.4775376743251818, 'out_step_size': 90.02628327112302, 'start_temp_coef': 5824.137477431582, 'end_temp_coef': 91897.21538191248}. Best is trial 71 with value: 0.48613224264322163.\u001b[0m\n",
      "\u001b[32m[I 2024-02-19 14:07:20,833]\u001b[0m Trial 79 finished with value: 0.40176806665457365 and parameters: {'delta_max_dist': 2, 'neighbor_p': 1.958504693859089, 'duplicate_min_d': 1, 'step_p': 1.3003464586004956, 'out_step_size': 99.13400282040038, 'start_temp_coef': 5434.455413926193, 'end_temp_coef': 113336.83981069192}. Best is trial 71 with value: 0.48613224264322163.\u001b[0m\n",
      "\u001b[32m[I 2024-02-19 14:08:23,381]\u001b[0m Trial 80 finished with value: 0.46423401370330475 and parameters: {'delta_max_dist': 2, 'neighbor_p': 2.164478375806621, 'duplicate_min_d': 1, 'step_p': 1.6708531154901318, 'out_step_size': 93.9023091356635, 'start_temp_coef': 823.4884998981727, 'end_temp_coef': 58599.00502050386}. Best is trial 71 with value: 0.48613224264322163.\u001b[0m\n",
      "\u001b[32m[I 2024-02-19 14:09:35,786]\u001b[0m Trial 81 finished with value: 0.41490572437829276 and parameters: {'delta_max_dist': 2, 'neighbor_p': 2.0498080448187874, 'duplicate_min_d': 1, 'step_p': 1.2619667911243504, 'out_step_size': 110.94312397848903, 'start_temp_coef': 9854.473453911975, 'end_temp_coef': 14325.462912562718}. Best is trial 71 with value: 0.48613224264322163.\u001b[0m\n",
      "\u001b[32m[I 2024-02-19 14:10:41,355]\u001b[0m Trial 82 finished with value: 0.47125613175733855 and parameters: {'delta_max_dist': 2, 'neighbor_p': 2.231645001216682, 'duplicate_min_d': 1, 'step_p': 1.20036627348646, 'out_step_size': 126.60901316796635, 'start_temp_coef': 1195.020717171988, 'end_temp_coef': 136576.72286435094}. Best is trial 71 with value: 0.48613224264322163.\u001b[0m\n",
      "\u001b[32m[I 2024-02-19 14:11:47,773]\u001b[0m Trial 83 finished with value: 0.4800736464798255 and parameters: {'delta_max_dist': 2, 'neighbor_p': 2.0850218893997243, 'duplicate_min_d': 1, 'step_p': 1.0554261904355875, 'out_step_size': 121.78184948987752, 'start_temp_coef': 1558.2896826022823, 'end_temp_coef': 40105.161731918466}. Best is trial 71 with value: 0.48613224264322163.\u001b[0m\n",
      "\u001b[32m[I 2024-02-19 14:13:03,038]\u001b[0m Trial 84 finished with value: 0.4268348763221362 and parameters: {'delta_max_dist': 2, 'neighbor_p': 2.0907731253124977, 'duplicate_min_d': 1, 'step_p': 1.0516634862128926, 'out_step_size': 120.1167989846426, 'start_temp_coef': 6769.9611498322665, 'end_temp_coef': 44956.70037315397}. Best is trial 71 with value: 0.48613224264322163.\u001b[0m\n",
      "\u001b[32m[I 2024-02-19 14:14:11,911]\u001b[0m Trial 85 finished with value: 0.4674590717989627 and parameters: {'delta_max_dist': 2, 'neighbor_p': 2.295749506174997, 'duplicate_min_d': 1, 'step_p': 0.6444174306469075, 'out_step_size': 114.48933949410322, 'start_temp_coef': 1593.8645239470025, 'end_temp_coef': 75399.53932321467}. Best is trial 71 with value: 0.48613224264322163.\u001b[0m\n",
      "\u001b[32m[I 2024-02-19 14:15:19,270]\u001b[0m Trial 86 finished with value: 0.4646915597092274 and parameters: {'delta_max_dist': 2, 'neighbor_p': 2.226201795922501, 'duplicate_min_d': 1, 'step_p': 1.1305785468840626, 'out_step_size': 133.33710924022364, 'start_temp_coef': 355.0431055919811, 'end_temp_coef': 151146.8420006769}. Best is trial 71 with value: 0.48613224264322163.\u001b[0m\n",
      "\u001b[32m[I 2024-02-19 14:16:27,562]\u001b[0m Trial 87 finished with value: 0.43956014021983186 and parameters: {'delta_max_dist': 2, 'neighbor_p': 2.007632848270102, 'duplicate_min_d': 1, 'step_p': 1.3498501157743068, 'out_step_size': 107.30127227198327, 'start_temp_coef': 2685.518905950766, 'end_temp_coef': 111216.57036974805}. Best is trial 71 with value: 0.48613224264322163.\u001b[0m\n",
      "\u001b[32m[I 2024-02-19 14:17:34,451]\u001b[0m Trial 88 finished with value: 0.4841463922656634 and parameters: {'delta_max_dist': 2, 'neighbor_p': 2.0918903345837467, 'duplicate_min_d': 1, 'step_p': 0.7972244182506305, 'out_step_size': 149.97043274090663, 'start_temp_coef': 1982.7075580166097, 'end_temp_coef': 39557.36048210424}. Best is trial 71 with value: 0.48613224264322163.\u001b[0m\n",
      "\u001b[32m[I 2024-02-19 14:18:40,141]\u001b[0m Trial 89 finished with value: 0.48559855417827735 and parameters: {'delta_max_dist': 2, 'neighbor_p': 1.9606351100037858, 'duplicate_min_d': 1, 'step_p': 0.8075109641165257, 'out_step_size': 149.04362614651225, 'start_temp_coef': 2277.032598581354, 'end_temp_coef': 10557.145189986259}. Best is trial 71 with value: 0.48613224264322163.\u001b[0m\n",
      "\u001b[33m[W 2024-02-19 14:19:17,499]\u001b[0m Trial 90 failed because of the following error: KeyboardInterrupt()\n",
      "Traceback (most recent call last):\n",
      "  File \"/Users/tatsuyaishii/.pyenv/versions/3.10.4/lib/python3.10/site-packages/optuna/study/_optimize.py\", line 196, in _run_trial\n",
      "    value_or_values = func(trial)\n",
      "  File \"/var/folders/3n/z49mbd414cx0_x991z2fyqjc0000gn/T/ipykernel_19556/4235223316.py\", line 79, in objective\n",
      "    runner.run(cases=cases, verbose=0)\n",
      "  File \"/Users/tatsuyaishii/dev/heuristics-contests/ahc030/notebooks/../run.py\", line 64, in run\n",
      "    results = Parallel(n_jobs=-1, verbose=verbose)(\n",
      "  File \"/Users/tatsuyaishii/.pyenv/versions/3.10.4/lib/python3.10/site-packages/joblib/parallel.py\", line 1056, in __call__\n",
      "    self.retrieve()\n",
      "  File \"/Users/tatsuyaishii/.pyenv/versions/3.10.4/lib/python3.10/site-packages/joblib/parallel.py\", line 935, in retrieve\n",
      "    self._output.extend(job.get(timeout=self.timeout))\n",
      "  File \"/Users/tatsuyaishii/.pyenv/versions/3.10.4/lib/python3.10/site-packages/joblib/_parallel_backends.py\", line 542, in wrap_future_result\n",
      "    return future.result(timeout=timeout)\n",
      "  File \"/Users/tatsuyaishii/.pyenv/versions/3.10.4/lib/python3.10/concurrent/futures/_base.py\", line 441, in result\n",
      "    self._condition.wait(timeout)\n",
      "  File \"/Users/tatsuyaishii/.pyenv/versions/3.10.4/lib/python3.10/threading.py\", line 320, in wait\n",
      "    waiter.acquire()\n",
      "KeyboardInterrupt\u001b[0m\n"
     ]
    },
    {
     "ename": "KeyboardInterrupt",
     "evalue": "",
     "output_type": "error",
     "traceback": [
      "\u001b[0;31m---------------------------------------------------------------------------\u001b[0m",
      "\u001b[0;31mKeyboardInterrupt\u001b[0m                         Traceback (most recent call last)",
      "\u001b[1;32m/Users/tatsuyaishii/dev/heuristics-contests/ahc030/notebooks/tune_params.ipynb Cell 2\u001b[0m line \u001b[0;36m1\n\u001b[1;32m     <a href='vscode-notebook-cell:/Users/tatsuyaishii/dev/heuristics-contests/ahc030/notebooks/tune_params.ipynb#W5sZmlsZQ%3D%3D?line=95'>96</a>\u001b[0m \u001b[39mprint\u001b[39m(\u001b[39m\"\u001b[39m\u001b[39mstart optimize\u001b[39m\u001b[39m\"\u001b[39m)\n\u001b[1;32m     <a href='vscode-notebook-cell:/Users/tatsuyaishii/dev/heuristics-contests/ahc030/notebooks/tune_params.ipynb#W5sZmlsZQ%3D%3D?line=96'>97</a>\u001b[0m study\u001b[39m.\u001b[39menqueue_trial(\n\u001b[1;32m     <a href='vscode-notebook-cell:/Users/tatsuyaishii/dev/heuristics-contests/ahc030/notebooks/tune_params.ipynb#W5sZmlsZQ%3D%3D?line=97'>98</a>\u001b[0m     {\n\u001b[1;32m     <a href='vscode-notebook-cell:/Users/tatsuyaishii/dev/heuristics-contests/ahc030/notebooks/tune_params.ipynb#W5sZmlsZQ%3D%3D?line=98'>99</a>\u001b[0m         \u001b[39m\"\u001b[39m\u001b[39mmin_k\u001b[39m\u001b[39m\"\u001b[39m: \u001b[39m4.0\u001b[39m,\n\u001b[0;32m   (...)\u001b[0m\n\u001b[1;32m    <a href='vscode-notebook-cell:/Users/tatsuyaishii/dev/heuristics-contests/ahc030/notebooks/tune_params.ipynb#W5sZmlsZQ%3D%3D?line=115'>116</a>\u001b[0m     }\n\u001b[1;32m    <a href='vscode-notebook-cell:/Users/tatsuyaishii/dev/heuristics-contests/ahc030/notebooks/tune_params.ipynb#W5sZmlsZQ%3D%3D?line=116'>117</a>\u001b[0m )\n\u001b[0;32m--> <a href='vscode-notebook-cell:/Users/tatsuyaishii/dev/heuristics-contests/ahc030/notebooks/tune_params.ipynb#W5sZmlsZQ%3D%3D?line=117'>118</a>\u001b[0m study\u001b[39m.\u001b[39;49moptimize(objective, n_trials\u001b[39m=\u001b[39;49m\u001b[39m100\u001b[39;49m, show_progress_bar\u001b[39m=\u001b[39;49m\u001b[39mTrue\u001b[39;49;00m)\n\u001b[1;32m    <a href='vscode-notebook-cell:/Users/tatsuyaishii/dev/heuristics-contests/ahc030/notebooks/tune_params.ipynb#W5sZmlsZQ%3D%3D?line=118'>119</a>\u001b[0m study\u001b[39m.\u001b[39mbest_params\n",
      "File \u001b[0;32m~/.pyenv/versions/3.10.4/lib/python3.10/site-packages/optuna/study/study.py:419\u001b[0m, in \u001b[0;36mStudy.optimize\u001b[0;34m(self, func, n_trials, timeout, n_jobs, catch, callbacks, gc_after_trial, show_progress_bar)\u001b[0m\n\u001b[1;32m    315\u001b[0m \u001b[39mdef\u001b[39;00m \u001b[39moptimize\u001b[39m(\n\u001b[1;32m    316\u001b[0m     \u001b[39mself\u001b[39m,\n\u001b[1;32m    317\u001b[0m     func: ObjectiveFuncType,\n\u001b[0;32m   (...)\u001b[0m\n\u001b[1;32m    324\u001b[0m     show_progress_bar: \u001b[39mbool\u001b[39m \u001b[39m=\u001b[39m \u001b[39mFalse\u001b[39;00m,\n\u001b[1;32m    325\u001b[0m ) \u001b[39m-\u001b[39m\u001b[39m>\u001b[39m \u001b[39mNone\u001b[39;00m:\n\u001b[1;32m    326\u001b[0m \u001b[39m    \u001b[39m\u001b[39m\"\"\"Optimize an objective function.\u001b[39;00m\n\u001b[1;32m    327\u001b[0m \n\u001b[1;32m    328\u001b[0m \u001b[39m    Optimization is done by choosing a suitable set of hyperparameter values from a given\u001b[39;00m\n\u001b[0;32m   (...)\u001b[0m\n\u001b[1;32m    416\u001b[0m \u001b[39m            If nested invocation of this method occurs.\u001b[39;00m\n\u001b[1;32m    417\u001b[0m \u001b[39m    \"\"\"\u001b[39;00m\n\u001b[0;32m--> 419\u001b[0m     _optimize(\n\u001b[1;32m    420\u001b[0m         study\u001b[39m=\u001b[39;49m\u001b[39mself\u001b[39;49m,\n\u001b[1;32m    421\u001b[0m         func\u001b[39m=\u001b[39;49mfunc,\n\u001b[1;32m    422\u001b[0m         n_trials\u001b[39m=\u001b[39;49mn_trials,\n\u001b[1;32m    423\u001b[0m         timeout\u001b[39m=\u001b[39;49mtimeout,\n\u001b[1;32m    424\u001b[0m         n_jobs\u001b[39m=\u001b[39;49mn_jobs,\n\u001b[1;32m    425\u001b[0m         catch\u001b[39m=\u001b[39;49mcatch,\n\u001b[1;32m    426\u001b[0m         callbacks\u001b[39m=\u001b[39;49mcallbacks,\n\u001b[1;32m    427\u001b[0m         gc_after_trial\u001b[39m=\u001b[39;49mgc_after_trial,\n\u001b[1;32m    428\u001b[0m         show_progress_bar\u001b[39m=\u001b[39;49mshow_progress_bar,\n\u001b[1;32m    429\u001b[0m     )\n",
      "File \u001b[0;32m~/.pyenv/versions/3.10.4/lib/python3.10/site-packages/optuna/study/_optimize.py:66\u001b[0m, in \u001b[0;36m_optimize\u001b[0;34m(study, func, n_trials, timeout, n_jobs, catch, callbacks, gc_after_trial, show_progress_bar)\u001b[0m\n\u001b[1;32m     64\u001b[0m \u001b[39mtry\u001b[39;00m:\n\u001b[1;32m     65\u001b[0m     \u001b[39mif\u001b[39;00m n_jobs \u001b[39m==\u001b[39m \u001b[39m1\u001b[39m:\n\u001b[0;32m---> 66\u001b[0m         _optimize_sequential(\n\u001b[1;32m     67\u001b[0m             study,\n\u001b[1;32m     68\u001b[0m             func,\n\u001b[1;32m     69\u001b[0m             n_trials,\n\u001b[1;32m     70\u001b[0m             timeout,\n\u001b[1;32m     71\u001b[0m             catch,\n\u001b[1;32m     72\u001b[0m             callbacks,\n\u001b[1;32m     73\u001b[0m             gc_after_trial,\n\u001b[1;32m     74\u001b[0m             reseed_sampler_rng\u001b[39m=\u001b[39;49m\u001b[39mFalse\u001b[39;49;00m,\n\u001b[1;32m     75\u001b[0m             time_start\u001b[39m=\u001b[39;49m\u001b[39mNone\u001b[39;49;00m,\n\u001b[1;32m     76\u001b[0m             progress_bar\u001b[39m=\u001b[39;49mprogress_bar,\n\u001b[1;32m     77\u001b[0m         )\n\u001b[1;32m     78\u001b[0m     \u001b[39melse\u001b[39;00m:\n\u001b[1;32m     79\u001b[0m         \u001b[39mif\u001b[39;00m n_jobs \u001b[39m==\u001b[39m \u001b[39m-\u001b[39m\u001b[39m1\u001b[39m:\n",
      "File \u001b[0;32m~/.pyenv/versions/3.10.4/lib/python3.10/site-packages/optuna/study/_optimize.py:160\u001b[0m, in \u001b[0;36m_optimize_sequential\u001b[0;34m(study, func, n_trials, timeout, catch, callbacks, gc_after_trial, reseed_sampler_rng, time_start, progress_bar)\u001b[0m\n\u001b[1;32m    157\u001b[0m         \u001b[39mbreak\u001b[39;00m\n\u001b[1;32m    159\u001b[0m \u001b[39mtry\u001b[39;00m:\n\u001b[0;32m--> 160\u001b[0m     frozen_trial \u001b[39m=\u001b[39m _run_trial(study, func, catch)\n\u001b[1;32m    161\u001b[0m \u001b[39mfinally\u001b[39;00m:\n\u001b[1;32m    162\u001b[0m     \u001b[39m# The following line mitigates memory problems that can be occurred in some\u001b[39;00m\n\u001b[1;32m    163\u001b[0m     \u001b[39m# environments (e.g., services that use computing containers such as CircleCI).\u001b[39;00m\n\u001b[1;32m    164\u001b[0m     \u001b[39m# Please refer to the following PR for further details:\u001b[39;00m\n\u001b[1;32m    165\u001b[0m     \u001b[39m# https://github.com/optuna/optuna/pull/325.\u001b[39;00m\n\u001b[1;32m    166\u001b[0m     \u001b[39mif\u001b[39;00m gc_after_trial:\n",
      "File \u001b[0;32m~/.pyenv/versions/3.10.4/lib/python3.10/site-packages/optuna/study/_optimize.py:234\u001b[0m, in \u001b[0;36m_run_trial\u001b[0;34m(study, func, catch)\u001b[0m\n\u001b[1;32m    227\u001b[0m         \u001b[39massert\u001b[39;00m \u001b[39mFalse\u001b[39;00m, \u001b[39m\"\u001b[39m\u001b[39mShould not reach.\u001b[39m\u001b[39m\"\u001b[39m\n\u001b[1;32m    229\u001b[0m \u001b[39mif\u001b[39;00m (\n\u001b[1;32m    230\u001b[0m     frozen_trial\u001b[39m.\u001b[39mstate \u001b[39m==\u001b[39m TrialState\u001b[39m.\u001b[39mFAIL\n\u001b[1;32m    231\u001b[0m     \u001b[39mand\u001b[39;00m func_err \u001b[39mis\u001b[39;00m \u001b[39mnot\u001b[39;00m \u001b[39mNone\u001b[39;00m\n\u001b[1;32m    232\u001b[0m     \u001b[39mand\u001b[39;00m \u001b[39mnot\u001b[39;00m \u001b[39misinstance\u001b[39m(func_err, catch)\n\u001b[1;32m    233\u001b[0m ):\n\u001b[0;32m--> 234\u001b[0m     \u001b[39mraise\u001b[39;00m func_err\n\u001b[1;32m    235\u001b[0m \u001b[39mreturn\u001b[39;00m frozen_trial\n",
      "File \u001b[0;32m~/.pyenv/versions/3.10.4/lib/python3.10/site-packages/optuna/study/_optimize.py:196\u001b[0m, in \u001b[0;36m_run_trial\u001b[0;34m(study, func, catch)\u001b[0m\n\u001b[1;32m    194\u001b[0m \u001b[39mwith\u001b[39;00m get_heartbeat_thread(trial\u001b[39m.\u001b[39m_trial_id, study\u001b[39m.\u001b[39m_storage):\n\u001b[1;32m    195\u001b[0m     \u001b[39mtry\u001b[39;00m:\n\u001b[0;32m--> 196\u001b[0m         value_or_values \u001b[39m=\u001b[39m func(trial)\n\u001b[1;32m    197\u001b[0m     \u001b[39mexcept\u001b[39;00m exceptions\u001b[39m.\u001b[39mTrialPruned \u001b[39mas\u001b[39;00m e:\n\u001b[1;32m    198\u001b[0m         \u001b[39m# TODO(mamu): Handle multi-objective cases.\u001b[39;00m\n\u001b[1;32m    199\u001b[0m         state \u001b[39m=\u001b[39m TrialState\u001b[39m.\u001b[39mPRUNED\n",
      "\u001b[1;32m/Users/tatsuyaishii/dev/heuristics-contests/ahc030/notebooks/tune_params.ipynb Cell 2\u001b[0m line \u001b[0;36m7\n\u001b[1;32m     <a href='vscode-notebook-cell:/Users/tatsuyaishii/dev/heuristics-contests/ahc030/notebooks/tune_params.ipynb#W5sZmlsZQ%3D%3D?line=68'>69</a>\u001b[0m solver_version \u001b[39m=\u001b[39m \u001b[39mf\u001b[39m\u001b[39m\"\u001b[39m\u001b[39moptuna-anneal-01-\u001b[39m\u001b[39m{\u001b[39;00margs\u001b[39m}\u001b[39;00m\u001b[39m\"\u001b[39m\n\u001b[1;32m     <a href='vscode-notebook-cell:/Users/tatsuyaishii/dev/heuristics-contests/ahc030/notebooks/tune_params.ipynb#W5sZmlsZQ%3D%3D?line=69'>70</a>\u001b[0m runner \u001b[39m=\u001b[39m Runner(\n\u001b[1;32m     <a href='vscode-notebook-cell:/Users/tatsuyaishii/dev/heuristics-contests/ahc030/notebooks/tune_params.ipynb#W5sZmlsZQ%3D%3D?line=70'>71</a>\u001b[0m     Input,\n\u001b[1;32m     <a href='vscode-notebook-cell:/Users/tatsuyaishii/dev/heuristics-contests/ahc030/notebooks/tune_params.ipynb#W5sZmlsZQ%3D%3D?line=71'>72</a>\u001b[0m     Result,\n\u001b[0;32m   (...)\u001b[0m\n\u001b[1;32m     <a href='vscode-notebook-cell:/Users/tatsuyaishii/dev/heuristics-contests/ahc030/notebooks/tune_params.ipynb#W5sZmlsZQ%3D%3D?line=76'>77</a>\u001b[0m     verbose\u001b[39m=\u001b[39m\u001b[39m0\u001b[39m,\n\u001b[1;32m     <a href='vscode-notebook-cell:/Users/tatsuyaishii/dev/heuristics-contests/ahc030/notebooks/tune_params.ipynb#W5sZmlsZQ%3D%3D?line=77'>78</a>\u001b[0m )\n\u001b[0;32m---> <a href='vscode-notebook-cell:/Users/tatsuyaishii/dev/heuristics-contests/ahc030/notebooks/tune_params.ipynb#W5sZmlsZQ%3D%3D?line=78'>79</a>\u001b[0m runner\u001b[39m.\u001b[39;49mrun(cases\u001b[39m=\u001b[39;49mcases, verbose\u001b[39m=\u001b[39;49m\u001b[39m0\u001b[39;49m)\n\u001b[1;32m     <a href='vscode-notebook-cell:/Users/tatsuyaishii/dev/heuristics-contests/ahc030/notebooks/tune_params.ipynb#W5sZmlsZQ%3D%3D?line=79'>80</a>\u001b[0m score_df \u001b[39m=\u001b[39m runner\u001b[39m.\u001b[39mevaluate_overall_relative_score(\n\u001b[1;32m     <a href='vscode-notebook-cell:/Users/tatsuyaishii/dev/heuristics-contests/ahc030/notebooks/tune_params.ipynb#W5sZmlsZQ%3D%3D?line=80'>81</a>\u001b[0m     ignore_solver_prefix\u001b[39m=\u001b[39m\u001b[39m\"\u001b[39m\u001b[39moptuna-anneal-01-\u001b[39m\u001b[39m\"\u001b[39m\n\u001b[1;32m     <a href='vscode-notebook-cell:/Users/tatsuyaishii/dev/heuristics-contests/ahc030/notebooks/tune_params.ipynb#W5sZmlsZQ%3D%3D?line=81'>82</a>\u001b[0m )\n\u001b[1;32m     <a href='vscode-notebook-cell:/Users/tatsuyaishii/dev/heuristics-contests/ahc030/notebooks/tune_params.ipynb#W5sZmlsZQ%3D%3D?line=82'>83</a>\u001b[0m \u001b[39mreturn\u001b[39;00m score_df\u001b[39m.\u001b[39mrelative_score\u001b[39m.\u001b[39mmean()\n",
      "File \u001b[0;32m~/dev/heuristics-contests/ahc030/notebooks/../run.py:64\u001b[0m, in \u001b[0;36mRunner.run\u001b[0;34m(self, cases, verbose, ignore)\u001b[0m\n\u001b[1;32m     58\u001b[0m \u001b[39mdef\u001b[39;00m \u001b[39mrun\u001b[39m(\n\u001b[1;32m     59\u001b[0m     \u001b[39mself\u001b[39m,\n\u001b[1;32m     60\u001b[0m     cases: \u001b[39mlist\u001b[39m[\u001b[39mtuple\u001b[39m[\u001b[39mstr\u001b[39m, \u001b[39mstr\u001b[39m]],\n\u001b[1;32m     61\u001b[0m     verbose: \u001b[39mint\u001b[39m \u001b[39m=\u001b[39m \u001b[39m10\u001b[39m,\n\u001b[1;32m     62\u001b[0m     ignore: \u001b[39mbool\u001b[39m \u001b[39m=\u001b[39m \u001b[39mFalse\u001b[39;00m,\n\u001b[1;32m     63\u001b[0m ) \u001b[39m-\u001b[39m\u001b[39m>\u001b[39m pd\u001b[39m.\u001b[39mDataFrame:\n\u001b[0;32m---> 64\u001b[0m     results \u001b[39m=\u001b[39m Parallel(n_jobs\u001b[39m=\u001b[39;49m\u001b[39m-\u001b[39;49m\u001b[39m1\u001b[39;49m, verbose\u001b[39m=\u001b[39;49mverbose)(\n\u001b[1;32m     65\u001b[0m         delayed(\u001b[39mself\u001b[39;49m\u001b[39m.\u001b[39;49mrun_case)(input_file, output_file)\n\u001b[1;32m     66\u001b[0m         \u001b[39mfor\u001b[39;49;00m input_file, output_file \u001b[39min\u001b[39;49;00m cases\n\u001b[1;32m     67\u001b[0m     )\n\u001b[1;32m     68\u001b[0m     df \u001b[39m=\u001b[39m pd\u001b[39m.\u001b[39mDataFrame(\u001b[39mlist\u001b[39m(\u001b[39mmap\u001b[39m(\u001b[39mlambda\u001b[39;00m x: \u001b[39mvars\u001b[39m(x), results)))\n\u001b[1;32m     69\u001b[0m     \u001b[39mif\u001b[39;00m \u001b[39mnot\u001b[39;00m ignore:\n",
      "File \u001b[0;32m~/.pyenv/versions/3.10.4/lib/python3.10/site-packages/joblib/parallel.py:1056\u001b[0m, in \u001b[0;36mParallel.__call__\u001b[0;34m(self, iterable)\u001b[0m\n\u001b[1;32m   1053\u001b[0m     \u001b[39mself\u001b[39m\u001b[39m.\u001b[39m_iterating \u001b[39m=\u001b[39m \u001b[39mFalse\u001b[39;00m\n\u001b[1;32m   1055\u001b[0m \u001b[39mwith\u001b[39;00m \u001b[39mself\u001b[39m\u001b[39m.\u001b[39m_backend\u001b[39m.\u001b[39mretrieval_context():\n\u001b[0;32m-> 1056\u001b[0m     \u001b[39mself\u001b[39;49m\u001b[39m.\u001b[39;49mretrieve()\n\u001b[1;32m   1057\u001b[0m \u001b[39m# Make sure that we get a last message telling us we are done\u001b[39;00m\n\u001b[1;32m   1058\u001b[0m elapsed_time \u001b[39m=\u001b[39m time\u001b[39m.\u001b[39mtime() \u001b[39m-\u001b[39m \u001b[39mself\u001b[39m\u001b[39m.\u001b[39m_start_time\n",
      "File \u001b[0;32m~/.pyenv/versions/3.10.4/lib/python3.10/site-packages/joblib/parallel.py:935\u001b[0m, in \u001b[0;36mParallel.retrieve\u001b[0;34m(self)\u001b[0m\n\u001b[1;32m    933\u001b[0m \u001b[39mtry\u001b[39;00m:\n\u001b[1;32m    934\u001b[0m     \u001b[39mif\u001b[39;00m \u001b[39mgetattr\u001b[39m(\u001b[39mself\u001b[39m\u001b[39m.\u001b[39m_backend, \u001b[39m'\u001b[39m\u001b[39msupports_timeout\u001b[39m\u001b[39m'\u001b[39m, \u001b[39mFalse\u001b[39;00m):\n\u001b[0;32m--> 935\u001b[0m         \u001b[39mself\u001b[39m\u001b[39m.\u001b[39m_output\u001b[39m.\u001b[39mextend(job\u001b[39m.\u001b[39;49mget(timeout\u001b[39m=\u001b[39;49m\u001b[39mself\u001b[39;49m\u001b[39m.\u001b[39;49mtimeout))\n\u001b[1;32m    936\u001b[0m     \u001b[39melse\u001b[39;00m:\n\u001b[1;32m    937\u001b[0m         \u001b[39mself\u001b[39m\u001b[39m.\u001b[39m_output\u001b[39m.\u001b[39mextend(job\u001b[39m.\u001b[39mget())\n",
      "File \u001b[0;32m~/.pyenv/versions/3.10.4/lib/python3.10/site-packages/joblib/_parallel_backends.py:542\u001b[0m, in \u001b[0;36mLokyBackend.wrap_future_result\u001b[0;34m(future, timeout)\u001b[0m\n\u001b[1;32m    539\u001b[0m \u001b[39m\u001b[39m\u001b[39m\"\"\"Wrapper for Future.result to implement the same behaviour as\u001b[39;00m\n\u001b[1;32m    540\u001b[0m \u001b[39mAsyncResults.get from multiprocessing.\"\"\"\u001b[39;00m\n\u001b[1;32m    541\u001b[0m \u001b[39mtry\u001b[39;00m:\n\u001b[0;32m--> 542\u001b[0m     \u001b[39mreturn\u001b[39;00m future\u001b[39m.\u001b[39;49mresult(timeout\u001b[39m=\u001b[39;49mtimeout)\n\u001b[1;32m    543\u001b[0m \u001b[39mexcept\u001b[39;00m CfTimeoutError \u001b[39mas\u001b[39;00m e:\n\u001b[1;32m    544\u001b[0m     \u001b[39mraise\u001b[39;00m \u001b[39mTimeoutError\u001b[39;00m \u001b[39mfrom\u001b[39;00m \u001b[39me\u001b[39;00m\n",
      "File \u001b[0;32m~/.pyenv/versions/3.10.4/lib/python3.10/concurrent/futures/_base.py:441\u001b[0m, in \u001b[0;36mFuture.result\u001b[0;34m(self, timeout)\u001b[0m\n\u001b[1;32m    438\u001b[0m \u001b[39melif\u001b[39;00m \u001b[39mself\u001b[39m\u001b[39m.\u001b[39m_state \u001b[39m==\u001b[39m FINISHED:\n\u001b[1;32m    439\u001b[0m     \u001b[39mreturn\u001b[39;00m \u001b[39mself\u001b[39m\u001b[39m.\u001b[39m__get_result()\n\u001b[0;32m--> 441\u001b[0m \u001b[39mself\u001b[39;49m\u001b[39m.\u001b[39;49m_condition\u001b[39m.\u001b[39;49mwait(timeout)\n\u001b[1;32m    443\u001b[0m \u001b[39mif\u001b[39;00m \u001b[39mself\u001b[39m\u001b[39m.\u001b[39m_state \u001b[39min\u001b[39;00m [CANCELLED, CANCELLED_AND_NOTIFIED]:\n\u001b[1;32m    444\u001b[0m     \u001b[39mraise\u001b[39;00m CancelledError()\n",
      "File \u001b[0;32m~/.pyenv/versions/3.10.4/lib/python3.10/threading.py:320\u001b[0m, in \u001b[0;36mCondition.wait\u001b[0;34m(self, timeout)\u001b[0m\n\u001b[1;32m    318\u001b[0m \u001b[39mtry\u001b[39;00m:    \u001b[39m# restore state no matter what (e.g., KeyboardInterrupt)\u001b[39;00m\n\u001b[1;32m    319\u001b[0m     \u001b[39mif\u001b[39;00m timeout \u001b[39mis\u001b[39;00m \u001b[39mNone\u001b[39;00m:\n\u001b[0;32m--> 320\u001b[0m         waiter\u001b[39m.\u001b[39;49macquire()\n\u001b[1;32m    321\u001b[0m         gotit \u001b[39m=\u001b[39m \u001b[39mTrue\u001b[39;00m\n\u001b[1;32m    322\u001b[0m     \u001b[39melse\u001b[39;00m:\n",
      "\u001b[0;31mKeyboardInterrupt\u001b[0m: "
     ]
    }
   ],
   "source": [
    "start_case = 500\n",
    "case_num = 500\n",
    "\n",
    "cases = [\n",
    "    (f\"tools/in/{seed:04}.txt\", f\"tools/out/{seed:04}.txt\")\n",
    "    for seed in range(start_case, start_case + case_num)\n",
    "]\n",
    "\n",
    "\n",
    "def objective(trial: optuna.trial.Trial) -> float:\n",
    "    min_k = 4\n",
    "    max_k = 5.5\n",
    "    k_p = 0.85\n",
    "    start_step = 0.75\n",
    "    end_step = 1.8\n",
    "    step_cnt = 5\n",
    "    v_prob_mean_w = 1.460\n",
    "    v_prob_min_var = 0.027\n",
    "    p_max = 0.9\n",
    "    p_min = 0.4\n",
    "\n",
    "    # min_k = trial.suggest_float(\"max_k\", low=1.5, high=4.5)\n",
    "    # max_k = trial.suggest_float(\"min_k\", low=5.0, high=7.0)\n",
    "    # k_p = trial.suggest_float(\"k_p\", low=0.5, high=2.0)\n",
    "    # start_step = trial.suggest_float(\"start_step\", low=0.2, high=1.5)\n",
    "    # end_step = trial.suggest_float(\"end_step\", low=max(1.2, start_step + 0.1), high=3.2)\n",
    "    # step_cnt = trial.suggest_int(\"step_cnt\", low=2, high=12)\n",
    "    # v_prob_mean_w = trial.suggest_float(\"v_prob_mean_w\", low=0.0, high=3.0)\n",
    "    # v_prob_min_var = trial.suggest_float(\"v_prob_min_var\", low=0.01, high=0.5)\n",
    "    # p_max = trial.suggest_float(\"p_max\", low=0.5, high=0.99)\n",
    "    # p_min = trial.suggest_float(\"p_min\", low=0.1, high=min(0.9, p_max + 0.01))\n",
    "\n",
    "\n",
    "    delta_max_dist = trial.suggest_int(\"delta_max_dist\", low=1, high=3)\n",
    "    neighbor_p = trial.suggest_float(\"neighbor_p\", low=1., high=3.)\n",
    "    duplicate_min_d = trial.suggest_int(\"duplicate_min_d\", low=1, high=5)\n",
    "    step_p = trial.suggest_float(\"step_p\", low=0.5, high=2.)\n",
    "    out_step_size = trial.suggest_float(\"out_step_size\", low=50., high=200.)\n",
    "    start_temp_coef = trial.suggest_float(\"start_temp_coef\", low=1e2, high=1e4)\n",
    "    end_temp_coef = trial.suggest_float(\"end_temp_coef\", low=1e4+1, high=1e6)\n",
    "\n",
    "    args = \" \".join(\n",
    "        map(\n",
    "            str,\n",
    "            [\n",
    "                min_k,\n",
    "                max_k,\n",
    "                k_p,\n",
    "                start_step,\n",
    "                end_step,\n",
    "                step_cnt,\n",
    "                v_prob_mean_w,\n",
    "                v_prob_min_var,\n",
    "                p_max,\n",
    "                p_min,\n",
    "                delta_max_dist,\n",
    "                neighbor_p,\n",
    "                duplicate_min_d,\n",
    "                step_p,\n",
    "                out_step_size,\n",
    "                start_temp_coef,\n",
    "                end_temp_coef\n",
    "            ],\n",
    "        )\n",
    "    )\n",
    "\n",
    "    solver_path = \"./target/release/ahc030\"\n",
    "    solver_cmd = f\"./tools/target/release/tester {solver_path} {args}\"\n",
    "    solver_version = f\"optuna-anneal-01-{args}\"\n",
    "    runner = Runner(\n",
    "        Input,\n",
    "        Result,\n",
    "        solver_cmd=solver_cmd,\n",
    "        solver_version=solver_version,\n",
    "        database_csv=\"../log/database.csv\",\n",
    "        log_file=\"../log/a.log\",\n",
    "        verbose=0,\n",
    "    )\n",
    "    runner.run(cases=cases, verbose=0)\n",
    "    score_df = runner.evaluate_overall_relative_score(\n",
    "        ignore_solver_prefix=\"optuna-anneal-01-\"\n",
    "    )\n",
    "    return score_df.relative_score.mean()\n",
    "\n",
    "\n",
    "subprocess.run(\n",
    "    \"cargo build --features local --release --manifest-path=../Cargo.toml\", shell=True\n",
    ")\n",
    "\n",
    "study = optuna.create_study(\n",
    "    direction=\"maximize\",\n",
    "    storage=\"sqlite:///ahc030.db\",\n",
    "    study_name=\"tune-anneal-02\",\n",
    "    load_if_exists=True,\n",
    ")\n",
    "print(\"start optimize\")\n",
    "study.enqueue_trial(\n",
    "    {\n",
    "        \"min_k\": 4.0,\n",
    "        \"max_k\": 5.5,\n",
    "        \"k_p\": 0.85,\n",
    "        \"start_step\": 0.75,\n",
    "        \"end_step\": 1.8,\n",
    "        \"step_cnt\": 5,\n",
    "        \"v_prob_mean_w\": 1.0,\n",
    "        \"v_prob_min_var\": 0.1,\n",
    "        \"p_max\": 0.9,\n",
    "        \"p_min\": 0.5,\n",
    "        \"delta_max_dist\": 2,\n",
    "        \"neighbor_p\": 2.,\n",
    "        \"duplicate_min_d\": 1,\n",
    "        \"step_p\": 1.0,\n",
    "        \"out_step_size\": 100.0,\n",
    "        \"start_temp_coef\": 1e3,\n",
    "        \"end_temp_coef\": 1e5,\n",
    "    }\n",
    ")\n",
    "study.optimize(objective, n_trials=100, show_progress_bar=True)\n",
    "study.best_params"
   ]
  },
  {
   "cell_type": "code",
   "execution_count": 51,
   "metadata": {},
   "outputs": [
    {
     "data": {
      "text/plain": [
       "{'delta_max_dist': 2,\n",
       " 'duplicate_min_d': 1,\n",
       " 'end_temp_coef': 43417.675534323964,\n",
       " 'neighbor_p': 2.0130480815748517,\n",
       " 'out_step_size': 100.41986846188436,\n",
       " 'start_temp_coef': 722.1025458477571,\n",
       " 'step_p': 1.1213463590452353}"
      ]
     },
     "execution_count": 51,
     "metadata": {},
     "output_type": "execute_result"
    }
   ],
   "source": [
    "study = optuna.load_study(\n",
    "    storage=\"sqlite:///ahc030.db\",\n",
    "    study_name=\"tune-anneal-02\",\n",
    ")\n",
    "study.best_params"
   ]
  },
  {
   "cell_type": "code",
   "execution_count": 54,
   "metadata": {},
   "outputs": [
    {
     "data": {
      "application/vnd.plotly.v1+json": {
       "config": {
        "plotlyServerURL": "https://plot.ly"
       },
       "data": [
        {
         "marker": {
          "color": [
           0,
           1,
           2,
           3,
           4,
           5,
           6,
           7,
           8,
           9,
           10,
           11,
           12,
           13,
           14,
           15,
           16,
           17,
           18,
           19,
           20,
           21,
           22,
           23,
           24,
           25,
           26,
           27,
           28,
           29,
           30,
           31,
           32,
           33,
           34,
           35,
           36,
           37,
           38,
           39,
           40,
           41,
           42,
           43,
           44,
           45,
           46,
           47,
           48,
           49,
           50,
           51,
           52,
           53,
           54,
           55,
           56,
           57,
           58,
           59,
           60,
           61,
           62,
           63,
           64,
           65,
           66,
           67,
           68,
           69,
           70,
           71,
           72,
           73,
           74,
           75,
           76,
           77,
           78,
           79,
           80,
           81,
           82,
           83,
           84,
           85,
           86,
           87,
           88,
           89
          ],
          "colorbar": {
           "title": {
            "text": "Trial"
           },
           "x": 1,
           "xpad": 40
          },
          "colorscale": [
           [
            0,
            "rgb(247,251,255)"
           ],
           [
            0.125,
            "rgb(222,235,247)"
           ],
           [
            0.25,
            "rgb(198,219,239)"
           ],
           [
            0.375,
            "rgb(158,202,225)"
           ],
           [
            0.5,
            "rgb(107,174,214)"
           ],
           [
            0.625,
            "rgb(66,146,198)"
           ],
           [
            0.75,
            "rgb(33,113,181)"
           ],
           [
            0.875,
            "rgb(8,81,156)"
           ],
           [
            1,
            "rgb(8,48,107)"
           ]
          ],
          "line": {
           "color": "Grey",
           "width": 0.5
          },
          "showscale": true
         },
         "mode": "markers",
         "showlegend": false,
         "type": "scatter",
         "x": [
          2,
          2,
          2,
          1,
          3,
          2,
          1,
          3,
          1,
          1,
          3,
          2,
          2,
          2,
          2,
          3,
          2,
          1,
          3,
          2,
          2,
          2,
          2,
          2,
          2,
          1,
          3,
          2,
          2,
          1,
          3,
          2,
          2,
          2,
          2,
          2,
          2,
          2,
          2,
          2,
          2,
          2,
          2,
          2,
          1,
          2,
          2,
          3,
          2,
          1,
          1,
          1,
          1,
          2,
          2,
          1,
          2,
          3,
          2,
          2,
          2,
          2,
          2,
          2,
          2,
          2,
          2,
          3,
          2,
          1,
          2,
          2,
          2,
          2,
          2,
          2,
          2,
          2,
          2,
          2,
          2,
          2,
          2,
          2,
          2,
          2,
          2,
          2,
          2,
          2
         ],
         "xaxis": "x",
         "y": [
          0.47468504827740327,
          0.3972344514080676,
          0.3780410731344945,
          0.43621566256670496,
          0.32717064147550873,
          0.4483049923304552,
          0.4348343282921813,
          0.3472494669519965,
          0.3229240400646214,
          0.3329839770551166,
          0.41436681420562843,
          0.44213850978130387,
          0.4181162734480454,
          0.4765861652633903,
          0.4695046804686197,
          0.4092455843976271,
          0.46162237397133593,
          0.41620319595585253,
          0.3341153024184408,
          0.401257600032126,
          0.4487842610213023,
          0.4634710669298082,
          0.46630340639447726,
          0.46001798004073163,
          0.44171186017234937,
          0.40905634182434863,
          0.45188516442470666,
          0.46656979131114973,
          0.39797445624100514,
          0.4223383452257416,
          0.44021080632017867,
          0.4738993189852325,
          0.477030427268685,
          0.4604543763667646,
          0.4660142969181955,
          0.4784719494281092,
          0.47737275885598285,
          0.4744128945546703,
          0.47921022963535603,
          0.40681270568705696,
          0.4631302431144396,
          0.47209718411667667,
          0.4699261801865643,
          0.4602271204895114,
          0.46662207785998033,
          0.37217056840946966,
          0.4542205703680395,
          0.4361979249033071,
          0.46241779706414654,
          0.47674976297438965,
          0.4742687824486745,
          0.4733889479049099,
          0.4579030754551808,
          0.4445902170885555,
          0.456229686592578,
          0.4552548943318889,
          0.46809534848615086,
          0.429535181300032,
          0.4660440445593994,
          0.4436442784320958,
          0.47563143968366567,
          0.4541779469366085,
          0.472481328366316,
          0.43040247874401955,
          0.4650835029341734,
          0.45830426410014663,
          0.46139508700160975,
          0.43993005474682023,
          0.3882014945681246,
          0.4290711251403526,
          0.454200327232185,
          0.48613224264322163,
          0.48512715112661187,
          0.4812386461496931,
          0.4694931645248965,
          0.47947564459607417,
          0.46082105797660766,
          0.4658998255317161,
          0.4051587288235713,
          0.40176806665457365,
          0.46423401370330475,
          0.41490572437829276,
          0.47125613175733855,
          0.4800736464798255,
          0.4268348763221362,
          0.4674590717989627,
          0.4646915597092274,
          0.43956014021983186,
          0.4841463922656634,
          0.48559855417827735
         ],
         "yaxis": "y"
        },
        {
         "marker": {
          "color": [
           0,
           1,
           2,
           3,
           4,
           5,
           6,
           7,
           8,
           9,
           10,
           11,
           12,
           13,
           14,
           15,
           16,
           17,
           18,
           19,
           20,
           21,
           22,
           23,
           24,
           25,
           26,
           27,
           28,
           29,
           30,
           31,
           32,
           33,
           34,
           35,
           36,
           37,
           38,
           39,
           40,
           41,
           42,
           43,
           44,
           45,
           46,
           47,
           48,
           49,
           50,
           51,
           52,
           53,
           54,
           55,
           56,
           57,
           58,
           59,
           60,
           61,
           62,
           63,
           64,
           65,
           66,
           67,
           68,
           69,
           70,
           71,
           72,
           73,
           74,
           75,
           76,
           77,
           78,
           79,
           80,
           81,
           82,
           83,
           84,
           85,
           86,
           87,
           88,
           89
          ],
          "colorbar": {
           "title": {
            "text": "Trial"
           },
           "x": 1,
           "xpad": 40
          },
          "colorscale": [
           [
            0,
            "rgb(247,251,255)"
           ],
           [
            0.125,
            "rgb(222,235,247)"
           ],
           [
            0.25,
            "rgb(198,219,239)"
           ],
           [
            0.375,
            "rgb(158,202,225)"
           ],
           [
            0.5,
            "rgb(107,174,214)"
           ],
           [
            0.625,
            "rgb(66,146,198)"
           ],
           [
            0.75,
            "rgb(33,113,181)"
           ],
           [
            0.875,
            "rgb(8,81,156)"
           ],
           [
            1,
            "rgb(8,48,107)"
           ]
          ],
          "line": {
           "color": "Grey",
           "width": 0.5
          },
          "showscale": false
         },
         "mode": "markers",
         "showlegend": false,
         "type": "scatter",
         "x": [
          1,
          4,
          3,
          3,
          5,
          4,
          5,
          1,
          1,
          4,
          2,
          2,
          4,
          2,
          2,
          1,
          2,
          1,
          2,
          1,
          3,
          2,
          2,
          3,
          1,
          2,
          2,
          1,
          3,
          2,
          1,
          1,
          1,
          1,
          1,
          1,
          1,
          1,
          1,
          1,
          1,
          1,
          1,
          2,
          1,
          5,
          1,
          2,
          1,
          2,
          1,
          3,
          2,
          3,
          4,
          2,
          1,
          2,
          2,
          1,
          1,
          1,
          1,
          1,
          1,
          3,
          2,
          1,
          4,
          1,
          2,
          1,
          1,
          1,
          1,
          1,
          1,
          1,
          1,
          1,
          1,
          1,
          1,
          1,
          1,
          1,
          1,
          1,
          1,
          1
         ],
         "xaxis": "x2",
         "y": [
          0.47468504827740327,
          0.3972344514080676,
          0.3780410731344945,
          0.43621566256670496,
          0.32717064147550873,
          0.4483049923304552,
          0.4348343282921813,
          0.3472494669519965,
          0.3229240400646214,
          0.3329839770551166,
          0.41436681420562843,
          0.44213850978130387,
          0.4181162734480454,
          0.4765861652633903,
          0.4695046804686197,
          0.4092455843976271,
          0.46162237397133593,
          0.41620319595585253,
          0.3341153024184408,
          0.401257600032126,
          0.4487842610213023,
          0.4634710669298082,
          0.46630340639447726,
          0.46001798004073163,
          0.44171186017234937,
          0.40905634182434863,
          0.45188516442470666,
          0.46656979131114973,
          0.39797445624100514,
          0.4223383452257416,
          0.44021080632017867,
          0.4738993189852325,
          0.477030427268685,
          0.4604543763667646,
          0.4660142969181955,
          0.4784719494281092,
          0.47737275885598285,
          0.4744128945546703,
          0.47921022963535603,
          0.40681270568705696,
          0.4631302431144396,
          0.47209718411667667,
          0.4699261801865643,
          0.4602271204895114,
          0.46662207785998033,
          0.37217056840946966,
          0.4542205703680395,
          0.4361979249033071,
          0.46241779706414654,
          0.47674976297438965,
          0.4742687824486745,
          0.4733889479049099,
          0.4579030754551808,
          0.4445902170885555,
          0.456229686592578,
          0.4552548943318889,
          0.46809534848615086,
          0.429535181300032,
          0.4660440445593994,
          0.4436442784320958,
          0.47563143968366567,
          0.4541779469366085,
          0.472481328366316,
          0.43040247874401955,
          0.4650835029341734,
          0.45830426410014663,
          0.46139508700160975,
          0.43993005474682023,
          0.3882014945681246,
          0.4290711251403526,
          0.454200327232185,
          0.48613224264322163,
          0.48512715112661187,
          0.4812386461496931,
          0.4694931645248965,
          0.47947564459607417,
          0.46082105797660766,
          0.4658998255317161,
          0.4051587288235713,
          0.40176806665457365,
          0.46423401370330475,
          0.41490572437829276,
          0.47125613175733855,
          0.4800736464798255,
          0.4268348763221362,
          0.4674590717989627,
          0.4646915597092274,
          0.43956014021983186,
          0.4841463922656634,
          0.48559855417827735
         ],
         "yaxis": "y2"
        },
        {
         "marker": {
          "color": [
           0,
           1,
           2,
           3,
           4,
           5,
           6,
           7,
           8,
           9,
           10,
           11,
           12,
           13,
           14,
           15,
           16,
           17,
           18,
           19,
           20,
           21,
           22,
           23,
           24,
           25,
           26,
           27,
           28,
           29,
           30,
           31,
           32,
           33,
           34,
           35,
           36,
           37,
           38,
           39,
           40,
           41,
           42,
           43,
           44,
           45,
           46,
           47,
           48,
           49,
           50,
           51,
           52,
           53,
           54,
           55,
           56,
           57,
           58,
           59,
           60,
           61,
           62,
           63,
           64,
           65,
           66,
           67,
           68,
           69,
           70,
           71,
           72,
           73,
           74,
           75,
           76,
           77,
           78,
           79,
           80,
           81,
           82,
           83,
           84,
           85,
           86,
           87,
           88,
           89
          ],
          "colorbar": {
           "title": {
            "text": "Trial"
           },
           "x": 1,
           "xpad": 40
          },
          "colorscale": [
           [
            0,
            "rgb(247,251,255)"
           ],
           [
            0.125,
            "rgb(222,235,247)"
           ],
           [
            0.25,
            "rgb(198,219,239)"
           ],
           [
            0.375,
            "rgb(158,202,225)"
           ],
           [
            0.5,
            "rgb(107,174,214)"
           ],
           [
            0.625,
            "rgb(66,146,198)"
           ],
           [
            0.75,
            "rgb(33,113,181)"
           ],
           [
            0.875,
            "rgb(8,81,156)"
           ],
           [
            1,
            "rgb(8,48,107)"
           ]
          ],
          "line": {
           "color": "Grey",
           "width": 0.5
          },
          "showscale": false
         },
         "mode": "markers",
         "showlegend": false,
         "type": "scatter",
         "x": [
          100000,
          262817.82791369304,
          460605.6518207593,
          881549.1703000756,
          738909.1802181227,
          117261.08676392896,
          851302.0798850628,
          968615.5290916044,
          597089.5856026018,
          902641.4180862068,
          62128.566497899825,
          71075.95273530764,
          314671.3926610565,
          208296.8824269621,
          261002.21896004828,
          417131.52899930085,
          180216.2831257413,
          594841.3242988377,
          367372.4090425109,
          207818.02623698142,
          31247.563818945142,
          169707.79156649613,
          282987.2175213876,
          11769.85954975149,
          546063.9323882841,
          224040.41052220657,
          129468.78603723762,
          338958.8376195906,
          407466.37923759536,
          266637.14336484997,
          121670.09831896548,
          311019.2941855363,
          247131.91496043012,
          233580.86755672516,
          455236.0890927145,
          145249.25791028846,
          147113.81736220347,
          155633.51784075057,
          88218.21461575298,
          85346.51583986919,
          756128.2480253729,
          191799.75209152306,
          83615.51019854544,
          132123.31566530527,
          13491.044028326549,
          64201.85323702553,
          245511.0763324986,
          158020.46313766146,
          381912.89087694493,
          296613.4041191469,
          107554.8183963658,
          298886.848131684,
          201817.10644845353,
          47406.32214452919,
          168959.12626188106,
          330351.4985825772,
          491771.8038211167,
          140425.669850457,
          220329.96726467417,
          272200.23744397477,
          358377.7075812169,
          366497.8313964458,
          249710.41694994908,
          198245.30809412082,
          446553.2485086742,
          102949.23866010137,
          344228.6957075348,
          285855.4100210052,
          686080.4994885218,
          419708.28050475614,
          181024.67023658805,
          43417.675534323964,
          45400.42167483992,
          71630.44544819207,
          45947.08753904239,
          77426.63460655212,
          76728.9186604555,
          30121.503892746878,
          91897.21538191248,
          113336.83981069192,
          58599.00502050386,
          14325.462912562718,
          136576.72286435094,
          40105.161731918466,
          44956.70037315397,
          75399.53932321467,
          151146.8420006769,
          111216.57036974805,
          39557.36048210424,
          10557.145189986259
         ],
         "xaxis": "x3",
         "y": [
          0.47468504827740327,
          0.3972344514080676,
          0.3780410731344945,
          0.43621566256670496,
          0.32717064147550873,
          0.4483049923304552,
          0.4348343282921813,
          0.3472494669519965,
          0.3229240400646214,
          0.3329839770551166,
          0.41436681420562843,
          0.44213850978130387,
          0.4181162734480454,
          0.4765861652633903,
          0.4695046804686197,
          0.4092455843976271,
          0.46162237397133593,
          0.41620319595585253,
          0.3341153024184408,
          0.401257600032126,
          0.4487842610213023,
          0.4634710669298082,
          0.46630340639447726,
          0.46001798004073163,
          0.44171186017234937,
          0.40905634182434863,
          0.45188516442470666,
          0.46656979131114973,
          0.39797445624100514,
          0.4223383452257416,
          0.44021080632017867,
          0.4738993189852325,
          0.477030427268685,
          0.4604543763667646,
          0.4660142969181955,
          0.4784719494281092,
          0.47737275885598285,
          0.4744128945546703,
          0.47921022963535603,
          0.40681270568705696,
          0.4631302431144396,
          0.47209718411667667,
          0.4699261801865643,
          0.4602271204895114,
          0.46662207785998033,
          0.37217056840946966,
          0.4542205703680395,
          0.4361979249033071,
          0.46241779706414654,
          0.47674976297438965,
          0.4742687824486745,
          0.4733889479049099,
          0.4579030754551808,
          0.4445902170885555,
          0.456229686592578,
          0.4552548943318889,
          0.46809534848615086,
          0.429535181300032,
          0.4660440445593994,
          0.4436442784320958,
          0.47563143968366567,
          0.4541779469366085,
          0.472481328366316,
          0.43040247874401955,
          0.4650835029341734,
          0.45830426410014663,
          0.46139508700160975,
          0.43993005474682023,
          0.3882014945681246,
          0.4290711251403526,
          0.454200327232185,
          0.48613224264322163,
          0.48512715112661187,
          0.4812386461496931,
          0.4694931645248965,
          0.47947564459607417,
          0.46082105797660766,
          0.4658998255317161,
          0.4051587288235713,
          0.40176806665457365,
          0.46423401370330475,
          0.41490572437829276,
          0.47125613175733855,
          0.4800736464798255,
          0.4268348763221362,
          0.4674590717989627,
          0.4646915597092274,
          0.43956014021983186,
          0.4841463922656634,
          0.48559855417827735
         ],
         "yaxis": "y3"
        },
        {
         "marker": {
          "color": [
           0,
           1,
           2,
           3,
           4,
           5,
           6,
           7,
           8,
           9,
           10,
           11,
           12,
           13,
           14,
           15,
           16,
           17,
           18,
           19,
           20,
           21,
           22,
           23,
           24,
           25,
           26,
           27,
           28,
           29,
           30,
           31,
           32,
           33,
           34,
           35,
           36,
           37,
           38,
           39,
           40,
           41,
           42,
           43,
           44,
           45,
           46,
           47,
           48,
           49,
           50,
           51,
           52,
           53,
           54,
           55,
           56,
           57,
           58,
           59,
           60,
           61,
           62,
           63,
           64,
           65,
           66,
           67,
           68,
           69,
           70,
           71,
           72,
           73,
           74,
           75,
           76,
           77,
           78,
           79,
           80,
           81,
           82,
           83,
           84,
           85,
           86,
           87,
           88,
           89
          ],
          "colorbar": {
           "title": {
            "text": "Trial"
           },
           "x": 1,
           "xpad": 40
          },
          "colorscale": [
           [
            0,
            "rgb(247,251,255)"
           ],
           [
            0.125,
            "rgb(222,235,247)"
           ],
           [
            0.25,
            "rgb(198,219,239)"
           ],
           [
            0.375,
            "rgb(158,202,225)"
           ],
           [
            0.5,
            "rgb(107,174,214)"
           ],
           [
            0.625,
            "rgb(66,146,198)"
           ],
           [
            0.75,
            "rgb(33,113,181)"
           ],
           [
            0.875,
            "rgb(8,81,156)"
           ],
           [
            1,
            "rgb(8,48,107)"
           ]
          ],
          "line": {
           "color": "Grey",
           "width": 0.5
          },
          "showscale": false
         },
         "mode": "markers",
         "showlegend": false,
         "type": "scatter",
         "x": [
          2,
          2.9513793481304513,
          2.9103571666669956,
          1.7982087537304772,
          1.6868548476553131,
          2.5718717632978425,
          1.931462890540291,
          2.0486905956194983,
          1.023604632940961,
          1.8064904796915846,
          1.176849910817538,
          2.4434754158553718,
          2.437883684050105,
          2.360602143905766,
          2.199986264766503,
          1.5453204410924193,
          2.255320953871504,
          1.446002408090601,
          2.1434024964471012,
          2.663628383504528,
          2.7306801727202603,
          2.2809363047130433,
          2.2630215781759735,
          1.9347199726980657,
          2.4242608949293656,
          2.070864247831142,
          2.179513050439283,
          2.3592945504382454,
          2.560101740484361,
          2.849696248108221,
          1.8156366142054159,
          2.352009680250746,
          2.1254406349541752,
          2.0106191453798896,
          2.5490031581677033,
          1.5641039414047968,
          1.601327506144882,
          1.382750299533965,
          1.6771935432547416,
          1.6875366208231226,
          1.5775908996329102,
          1.3281008471535432,
          1.6937760303945433,
          1.2542541219588426,
          1.4833365773513814,
          1.894660323806163,
          1.653609425808911,
          1.796382012422885,
          1.098938241323789,
          1.5894065688580254,
          1.5910814837717706,
          1.4021333943937648,
          1.7820636429895107,
          1.2695041229343342,
          2.1044397857271315,
          1.9169351948038884,
          1.4907564325004112,
          1.6180314239769937,
          1.8788151482143884,
          1.7108813450920144,
          1.5037456169592935,
          1.5229201269476365,
          1.7511193074939622,
          1.4178884271353136,
          1.9770256939949873,
          1.3226732708446516,
          1.5739207383279894,
          1.1681794093651998,
          1.634792847308121,
          1.480868870661336,
          2.332584242949513,
          2.0130480815748517,
          2.042538682606228,
          2.1794862686329863,
          2.196997141870775,
          2.061955922787499,
          2.038260332221325,
          2.126112630088924,
          1.8498765711460148,
          1.958504693859089,
          2.164478375806621,
          2.0498080448187874,
          2.231645001216682,
          2.0850218893997243,
          2.0907731253124977,
          2.295749506174997,
          2.226201795922501,
          2.007632848270102,
          2.0918903345837467,
          1.9606351100037858
         ],
         "xaxis": "x4",
         "y": [
          0.47468504827740327,
          0.3972344514080676,
          0.3780410731344945,
          0.43621566256670496,
          0.32717064147550873,
          0.4483049923304552,
          0.4348343282921813,
          0.3472494669519965,
          0.3229240400646214,
          0.3329839770551166,
          0.41436681420562843,
          0.44213850978130387,
          0.4181162734480454,
          0.4765861652633903,
          0.4695046804686197,
          0.4092455843976271,
          0.46162237397133593,
          0.41620319595585253,
          0.3341153024184408,
          0.401257600032126,
          0.4487842610213023,
          0.4634710669298082,
          0.46630340639447726,
          0.46001798004073163,
          0.44171186017234937,
          0.40905634182434863,
          0.45188516442470666,
          0.46656979131114973,
          0.39797445624100514,
          0.4223383452257416,
          0.44021080632017867,
          0.4738993189852325,
          0.477030427268685,
          0.4604543763667646,
          0.4660142969181955,
          0.4784719494281092,
          0.47737275885598285,
          0.4744128945546703,
          0.47921022963535603,
          0.40681270568705696,
          0.4631302431144396,
          0.47209718411667667,
          0.4699261801865643,
          0.4602271204895114,
          0.46662207785998033,
          0.37217056840946966,
          0.4542205703680395,
          0.4361979249033071,
          0.46241779706414654,
          0.47674976297438965,
          0.4742687824486745,
          0.4733889479049099,
          0.4579030754551808,
          0.4445902170885555,
          0.456229686592578,
          0.4552548943318889,
          0.46809534848615086,
          0.429535181300032,
          0.4660440445593994,
          0.4436442784320958,
          0.47563143968366567,
          0.4541779469366085,
          0.472481328366316,
          0.43040247874401955,
          0.4650835029341734,
          0.45830426410014663,
          0.46139508700160975,
          0.43993005474682023,
          0.3882014945681246,
          0.4290711251403526,
          0.454200327232185,
          0.48613224264322163,
          0.48512715112661187,
          0.4812386461496931,
          0.4694931645248965,
          0.47947564459607417,
          0.46082105797660766,
          0.4658998255317161,
          0.4051587288235713,
          0.40176806665457365,
          0.46423401370330475,
          0.41490572437829276,
          0.47125613175733855,
          0.4800736464798255,
          0.4268348763221362,
          0.4674590717989627,
          0.4646915597092274,
          0.43956014021983186,
          0.4841463922656634,
          0.48559855417827735
         ],
         "yaxis": "y4"
        },
        {
         "marker": {
          "color": [
           0,
           1,
           2,
           3,
           4,
           5,
           6,
           7,
           8,
           9,
           10,
           11,
           12,
           13,
           14,
           15,
           16,
           17,
           18,
           19,
           20,
           21,
           22,
           23,
           24,
           25,
           26,
           27,
           28,
           29,
           30,
           31,
           32,
           33,
           34,
           35,
           36,
           37,
           38,
           39,
           40,
           41,
           42,
           43,
           44,
           45,
           46,
           47,
           48,
           49,
           50,
           51,
           52,
           53,
           54,
           55,
           56,
           57,
           58,
           59,
           60,
           61,
           62,
           63,
           64,
           65,
           66,
           67,
           68,
           69,
           70,
           71,
           72,
           73,
           74,
           75,
           76,
           77,
           78,
           79,
           80,
           81,
           82,
           83,
           84,
           85,
           86,
           87,
           88,
           89
          ],
          "colorbar": {
           "title": {
            "text": "Trial"
           },
           "x": 1,
           "xpad": 40
          },
          "colorscale": [
           [
            0,
            "rgb(247,251,255)"
           ],
           [
            0.125,
            "rgb(222,235,247)"
           ],
           [
            0.25,
            "rgb(198,219,239)"
           ],
           [
            0.375,
            "rgb(158,202,225)"
           ],
           [
            0.5,
            "rgb(107,174,214)"
           ],
           [
            0.625,
            "rgb(66,146,198)"
           ],
           [
            0.75,
            "rgb(33,113,181)"
           ],
           [
            0.875,
            "rgb(8,81,156)"
           ],
           [
            1,
            "rgb(8,48,107)"
           ]
          ],
          "line": {
           "color": "Grey",
           "width": 0.5
          },
          "showscale": false
         },
         "mode": "markers",
         "showlegend": false,
         "type": "scatter",
         "x": [
          100,
          177.32376842179178,
          140.40842440770595,
          152.86019857174108,
          177.87574156367782,
          106.98183252591554,
          166.6799332204063,
          188.65310991445804,
          161.6086940502637,
          143.83454700608638,
          61.14062905622259,
          94.04504898642766,
          103.9650151164584,
          108.97338575537303,
          73.27210503605227,
          122.69353329528612,
          83.18433579811547,
          120.28763306695173,
          52.048562466108606,
          88.31993737943367,
          109.0793902435517,
          73.52751476532131,
          67.51808283950791,
          78.86139827085172,
          96.31158908012789,
          131.61713929269038,
          113.92253303467172,
          97.39407647344144,
          60.760464147556625,
          82.00987858654278,
          129.59766895953976,
          98.55296117769176,
          114.19018342057352,
          117.24259334423121,
          136.214297573099,
          107.38459261776711,
          148.32834457364464,
          147.88776405394609,
          154.13995284400642,
          157.3611528969317,
          171.6369409834934,
          196.24366343678747,
          150.9950284062039,
          140.70249338087424,
          111.23154130118739,
          130.45315939558444,
          165.56953869344383,
          103.47311021046673,
          181.97171395118065,
          123.86190284987022,
          125.20400521667145,
          116.5779368222944,
          155.39901012761942,
          105.89527969790015,
          91.40129268664306,
          145.71893447185485,
          137.63848043240253,
          124.11997126328566,
          112.50226171275663,
          121.65119807544218,
          159.45543594423478,
          175.1211862900791,
          163.41156106817348,
          159.9799345036633,
          143.02603674362612,
          153.32524227277293,
          102.32821543822432,
          135.10294085294603,
          169.7107283327979,
          107.60935487384118,
          181.52638744732445,
          100.41986846188436,
          118.46828073500745,
          117.13941568259767,
          118.09726979254889,
          128.17563137152104,
          127.73446978627841,
          116.60330967553433,
          90.02628327112302,
          99.13400282040038,
          93.9023091356635,
          110.94312397848903,
          126.60901316796635,
          121.78184948987752,
          120.1167989846426,
          114.48933949410322,
          133.33710924022364,
          107.30127227198327,
          149.97043274090663,
          149.04362614651225
         ],
         "xaxis": "x5",
         "y": [
          0.47468504827740327,
          0.3972344514080676,
          0.3780410731344945,
          0.43621566256670496,
          0.32717064147550873,
          0.4483049923304552,
          0.4348343282921813,
          0.3472494669519965,
          0.3229240400646214,
          0.3329839770551166,
          0.41436681420562843,
          0.44213850978130387,
          0.4181162734480454,
          0.4765861652633903,
          0.4695046804686197,
          0.4092455843976271,
          0.46162237397133593,
          0.41620319595585253,
          0.3341153024184408,
          0.401257600032126,
          0.4487842610213023,
          0.4634710669298082,
          0.46630340639447726,
          0.46001798004073163,
          0.44171186017234937,
          0.40905634182434863,
          0.45188516442470666,
          0.46656979131114973,
          0.39797445624100514,
          0.4223383452257416,
          0.44021080632017867,
          0.4738993189852325,
          0.477030427268685,
          0.4604543763667646,
          0.4660142969181955,
          0.4784719494281092,
          0.47737275885598285,
          0.4744128945546703,
          0.47921022963535603,
          0.40681270568705696,
          0.4631302431144396,
          0.47209718411667667,
          0.4699261801865643,
          0.4602271204895114,
          0.46662207785998033,
          0.37217056840946966,
          0.4542205703680395,
          0.4361979249033071,
          0.46241779706414654,
          0.47674976297438965,
          0.4742687824486745,
          0.4733889479049099,
          0.4579030754551808,
          0.4445902170885555,
          0.456229686592578,
          0.4552548943318889,
          0.46809534848615086,
          0.429535181300032,
          0.4660440445593994,
          0.4436442784320958,
          0.47563143968366567,
          0.4541779469366085,
          0.472481328366316,
          0.43040247874401955,
          0.4650835029341734,
          0.45830426410014663,
          0.46139508700160975,
          0.43993005474682023,
          0.3882014945681246,
          0.4290711251403526,
          0.454200327232185,
          0.48613224264322163,
          0.48512715112661187,
          0.4812386461496931,
          0.4694931645248965,
          0.47947564459607417,
          0.46082105797660766,
          0.4658998255317161,
          0.4051587288235713,
          0.40176806665457365,
          0.46423401370330475,
          0.41490572437829276,
          0.47125613175733855,
          0.4800736464798255,
          0.4268348763221362,
          0.4674590717989627,
          0.4646915597092274,
          0.43956014021983186,
          0.4841463922656634,
          0.48559855417827735
         ],
         "yaxis": "y5"
        },
        {
         "marker": {
          "color": [
           0,
           1,
           2,
           3,
           4,
           5,
           6,
           7,
           8,
           9,
           10,
           11,
           12,
           13,
           14,
           15,
           16,
           17,
           18,
           19,
           20,
           21,
           22,
           23,
           24,
           25,
           26,
           27,
           28,
           29,
           30,
           31,
           32,
           33,
           34,
           35,
           36,
           37,
           38,
           39,
           40,
           41,
           42,
           43,
           44,
           45,
           46,
           47,
           48,
           49,
           50,
           51,
           52,
           53,
           54,
           55,
           56,
           57,
           58,
           59,
           60,
           61,
           62,
           63,
           64,
           65,
           66,
           67,
           68,
           69,
           70,
           71,
           72,
           73,
           74,
           75,
           76,
           77,
           78,
           79,
           80,
           81,
           82,
           83,
           84,
           85,
           86,
           87,
           88,
           89
          ],
          "colorbar": {
           "title": {
            "text": "Trial"
           },
           "x": 1,
           "xpad": 40
          },
          "colorscale": [
           [
            0,
            "rgb(247,251,255)"
           ],
           [
            0.125,
            "rgb(222,235,247)"
           ],
           [
            0.25,
            "rgb(198,219,239)"
           ],
           [
            0.375,
            "rgb(158,202,225)"
           ],
           [
            0.5,
            "rgb(107,174,214)"
           ],
           [
            0.625,
            "rgb(66,146,198)"
           ],
           [
            0.75,
            "rgb(33,113,181)"
           ],
           [
            0.875,
            "rgb(8,81,156)"
           ],
           [
            1,
            "rgb(8,48,107)"
           ]
          ],
          "line": {
           "color": "Grey",
           "width": 0.5
          },
          "showscale": false
         },
         "mode": "markers",
         "showlegend": false,
         "type": "scatter",
         "x": [
          1000,
          3207.8509165162545,
          6280.566064171002,
          2360.5926107101945,
          5951.333561807483,
          249.72747402387913,
          2023.9484045668817,
          6645.459245938033,
          8644.595734742083,
          7136.928122361276,
          133.31337763038687,
          182.64582370999085,
          3930.0976792397596,
          1295.4218733974935,
          1543.964471834477,
          4617.5896039582585,
          1435.5576585131062,
          3321.0127633018915,
          9331.615065615228,
          5012.562188311409,
          2553.471541671353,
          1574.2289035328322,
          1092.1851197908004,
          974.0306045747585,
          2854.436130268791,
          3817.693040841369,
          1892.7953351647925,
          990.2030604341854,
          4099.461089758582,
          3240.5429066157612,
          770.2058122235751,
          843.397319183491,
          1861.6443633120948,
          2529.638876422509,
          2076.0681011482457,
          545.132128920756,
          440.29749806345785,
          498.6007654037736,
          1474.1650438403112,
          5808.198288857797,
          2155.9102698754064,
          1402.5460833454429,
          567.7327526932598,
          1740.6024737562627,
          311.3443224709444,
          7809.74944316202,
          2781.496582102736,
          1044.7926637018577,
          191.17732055357715,
          1285.7708192985235,
          2145.2956665850384,
          1165.5237238420275,
          1501.154607239187,
          680.069175137076,
          1737.566926795493,
          149.19803184512324,
          1292.333466557478,
          2963.3365211640285,
          2440.513037596116,
          3531.8657184903323,
          599.4587844866185,
          523.2850754184192,
          1283.4379411797474,
          811.2263807637651,
          1930.1311654669962,
          514.822692222252,
          1543.0561112393805,
          1064.1617661837859,
          4393.970178855294,
          2309.944291912555,
          101.07448743044893,
          722.1025458477571,
          829.742974243281,
          1742.1660313743942,
          1778.2455361327857,
          915.7548286836804,
          823.9648710462693,
          460.7463526662511,
          5824.137477431582,
          5434.455413926193,
          823.4884998981727,
          9854.473453911975,
          1195.020717171988,
          1558.2896826022823,
          6769.9611498322665,
          1593.8645239470025,
          355.0431055919811,
          2685.518905950766,
          1982.7075580166097,
          2277.032598581354
         ],
         "xaxis": "x6",
         "y": [
          0.47468504827740327,
          0.3972344514080676,
          0.3780410731344945,
          0.43621566256670496,
          0.32717064147550873,
          0.4483049923304552,
          0.4348343282921813,
          0.3472494669519965,
          0.3229240400646214,
          0.3329839770551166,
          0.41436681420562843,
          0.44213850978130387,
          0.4181162734480454,
          0.4765861652633903,
          0.4695046804686197,
          0.4092455843976271,
          0.46162237397133593,
          0.41620319595585253,
          0.3341153024184408,
          0.401257600032126,
          0.4487842610213023,
          0.4634710669298082,
          0.46630340639447726,
          0.46001798004073163,
          0.44171186017234937,
          0.40905634182434863,
          0.45188516442470666,
          0.46656979131114973,
          0.39797445624100514,
          0.4223383452257416,
          0.44021080632017867,
          0.4738993189852325,
          0.477030427268685,
          0.4604543763667646,
          0.4660142969181955,
          0.4784719494281092,
          0.47737275885598285,
          0.4744128945546703,
          0.47921022963535603,
          0.40681270568705696,
          0.4631302431144396,
          0.47209718411667667,
          0.4699261801865643,
          0.4602271204895114,
          0.46662207785998033,
          0.37217056840946966,
          0.4542205703680395,
          0.4361979249033071,
          0.46241779706414654,
          0.47674976297438965,
          0.4742687824486745,
          0.4733889479049099,
          0.4579030754551808,
          0.4445902170885555,
          0.456229686592578,
          0.4552548943318889,
          0.46809534848615086,
          0.429535181300032,
          0.4660440445593994,
          0.4436442784320958,
          0.47563143968366567,
          0.4541779469366085,
          0.472481328366316,
          0.43040247874401955,
          0.4650835029341734,
          0.45830426410014663,
          0.46139508700160975,
          0.43993005474682023,
          0.3882014945681246,
          0.4290711251403526,
          0.454200327232185,
          0.48613224264322163,
          0.48512715112661187,
          0.4812386461496931,
          0.4694931645248965,
          0.47947564459607417,
          0.46082105797660766,
          0.4658998255317161,
          0.4051587288235713,
          0.40176806665457365,
          0.46423401370330475,
          0.41490572437829276,
          0.47125613175733855,
          0.4800736464798255,
          0.4268348763221362,
          0.4674590717989627,
          0.4646915597092274,
          0.43956014021983186,
          0.4841463922656634,
          0.48559855417827735
         ],
         "yaxis": "y6"
        },
        {
         "marker": {
          "color": [
           0,
           1,
           2,
           3,
           4,
           5,
           6,
           7,
           8,
           9,
           10,
           11,
           12,
           13,
           14,
           15,
           16,
           17,
           18,
           19,
           20,
           21,
           22,
           23,
           24,
           25,
           26,
           27,
           28,
           29,
           30,
           31,
           32,
           33,
           34,
           35,
           36,
           37,
           38,
           39,
           40,
           41,
           42,
           43,
           44,
           45,
           46,
           47,
           48,
           49,
           50,
           51,
           52,
           53,
           54,
           55,
           56,
           57,
           58,
           59,
           60,
           61,
           62,
           63,
           64,
           65,
           66,
           67,
           68,
           69,
           70,
           71,
           72,
           73,
           74,
           75,
           76,
           77,
           78,
           79,
           80,
           81,
           82,
           83,
           84,
           85,
           86,
           87,
           88,
           89
          ],
          "colorbar": {
           "title": {
            "text": "Trial"
           },
           "x": 1,
           "xpad": 40
          },
          "colorscale": [
           [
            0,
            "rgb(247,251,255)"
           ],
           [
            0.125,
            "rgb(222,235,247)"
           ],
           [
            0.25,
            "rgb(198,219,239)"
           ],
           [
            0.375,
            "rgb(158,202,225)"
           ],
           [
            0.5,
            "rgb(107,174,214)"
           ],
           [
            0.625,
            "rgb(66,146,198)"
           ],
           [
            0.75,
            "rgb(33,113,181)"
           ],
           [
            0.875,
            "rgb(8,81,156)"
           ],
           [
            1,
            "rgb(8,48,107)"
           ]
          ],
          "line": {
           "color": "Grey",
           "width": 0.5
          },
          "showscale": false
         },
         "mode": "markers",
         "showlegend": false,
         "type": "scatter",
         "x": [
          1,
          1.8563271555112155,
          0.9856006924038068,
          0.756130935265225,
          0.8378569957918609,
          0.7986388665577164,
          0.696266589905509,
          1.9654379522723522,
          1.2687950089231483,
          1.3680701533077477,
          1.56041987428818,
          0.5125326095606417,
          1.0537303969374823,
          1.1038020528456995,
          1.0782444752235336,
          1.5948330149208974,
          1.3676983939070078,
          1.1484790992717138,
          0.9623283731554747,
          0.5898356442844557,
          1.5278143894482086,
          1.1677756870247755,
          0.9446981680208038,
          1.1123913874524067,
          1.2682568728293737,
          1.396060832304137,
          0.887017229146781,
          1.0611455663880227,
          0.6804386207202802,
          1.2034412680290878,
          1.684334302638872,
          1.040860714858823,
          1.01362848527563,
          0.9840421672073673,
          0.9007452729001552,
          0.7608173300413019,
          0.7834382134816031,
          0.7840526813692162,
          0.665595265563938,
          0.6567229825754257,
          0.8372381445787377,
          0.7256500955818717,
          0.6064379757460523,
          0.5478576150572394,
          0.7711945264529976,
          0.8741834593931787,
          0.6590469770591243,
          0.8240082295317452,
          0.7362301676121514,
          1.0068349847732712,
          0.9322156870159016,
          0.9948617555333548,
          1.2157684901270267,
          0.6023222108096112,
          1.3113681440781857,
          1.120991559279565,
          1.0161727355975332,
          0.8319459848034174,
          0.9232954996206106,
          0.5186322578469298,
          1.0948782111597313,
          1.1652567866290038,
          1.0839006472901336,
          1.9685992826107457,
          0.7095340075838684,
          0.8744193114789647,
          1.0199275657858118,
          1.2248016372158388,
          1.0922316045910017,
          1.3253233551273316,
          0.9685274160127758,
          1.1213463590452353,
          1.1429338722038649,
          1.1697459091019358,
          1.1489596333755063,
          1.4034861934466085,
          1.425048465126895,
          1.451580665143107,
          1.4775376743251818,
          1.3003464586004956,
          1.6708531154901318,
          1.2619667911243504,
          1.20036627348646,
          1.0554261904355875,
          1.0516634862128926,
          0.6444174306469075,
          1.1305785468840626,
          1.3498501157743068,
          0.7972244182506305,
          0.8075109641165257
         ],
         "xaxis": "x7",
         "y": [
          0.47468504827740327,
          0.3972344514080676,
          0.3780410731344945,
          0.43621566256670496,
          0.32717064147550873,
          0.4483049923304552,
          0.4348343282921813,
          0.3472494669519965,
          0.3229240400646214,
          0.3329839770551166,
          0.41436681420562843,
          0.44213850978130387,
          0.4181162734480454,
          0.4765861652633903,
          0.4695046804686197,
          0.4092455843976271,
          0.46162237397133593,
          0.41620319595585253,
          0.3341153024184408,
          0.401257600032126,
          0.4487842610213023,
          0.4634710669298082,
          0.46630340639447726,
          0.46001798004073163,
          0.44171186017234937,
          0.40905634182434863,
          0.45188516442470666,
          0.46656979131114973,
          0.39797445624100514,
          0.4223383452257416,
          0.44021080632017867,
          0.4738993189852325,
          0.477030427268685,
          0.4604543763667646,
          0.4660142969181955,
          0.4784719494281092,
          0.47737275885598285,
          0.4744128945546703,
          0.47921022963535603,
          0.40681270568705696,
          0.4631302431144396,
          0.47209718411667667,
          0.4699261801865643,
          0.4602271204895114,
          0.46662207785998033,
          0.37217056840946966,
          0.4542205703680395,
          0.4361979249033071,
          0.46241779706414654,
          0.47674976297438965,
          0.4742687824486745,
          0.4733889479049099,
          0.4579030754551808,
          0.4445902170885555,
          0.456229686592578,
          0.4552548943318889,
          0.46809534848615086,
          0.429535181300032,
          0.4660440445593994,
          0.4436442784320958,
          0.47563143968366567,
          0.4541779469366085,
          0.472481328366316,
          0.43040247874401955,
          0.4650835029341734,
          0.45830426410014663,
          0.46139508700160975,
          0.43993005474682023,
          0.3882014945681246,
          0.4290711251403526,
          0.454200327232185,
          0.48613224264322163,
          0.48512715112661187,
          0.4812386461496931,
          0.4694931645248965,
          0.47947564459607417,
          0.46082105797660766,
          0.4658998255317161,
          0.4051587288235713,
          0.40176806665457365,
          0.46423401370330475,
          0.41490572437829276,
          0.47125613175733855,
          0.4800736464798255,
          0.4268348763221362,
          0.4674590717989627,
          0.4646915597092274,
          0.43956014021983186,
          0.4841463922656634,
          0.48559855417827735
         ],
         "yaxis": "y7"
        }
       ],
       "layout": {
        "template": {
         "data": {
          "bar": [
           {
            "error_x": {
             "color": "#2a3f5f"
            },
            "error_y": {
             "color": "#2a3f5f"
            },
            "marker": {
             "line": {
              "color": "#E5ECF6",
              "width": 0.5
             },
             "pattern": {
              "fillmode": "overlay",
              "size": 10,
              "solidity": 0.2
             }
            },
            "type": "bar"
           }
          ],
          "barpolar": [
           {
            "marker": {
             "line": {
              "color": "#E5ECF6",
              "width": 0.5
             },
             "pattern": {
              "fillmode": "overlay",
              "size": 10,
              "solidity": 0.2
             }
            },
            "type": "barpolar"
           }
          ],
          "carpet": [
           {
            "aaxis": {
             "endlinecolor": "#2a3f5f",
             "gridcolor": "white",
             "linecolor": "white",
             "minorgridcolor": "white",
             "startlinecolor": "#2a3f5f"
            },
            "baxis": {
             "endlinecolor": "#2a3f5f",
             "gridcolor": "white",
             "linecolor": "white",
             "minorgridcolor": "white",
             "startlinecolor": "#2a3f5f"
            },
            "type": "carpet"
           }
          ],
          "choropleth": [
           {
            "colorbar": {
             "outlinewidth": 0,
             "ticks": ""
            },
            "type": "choropleth"
           }
          ],
          "contour": [
           {
            "colorbar": {
             "outlinewidth": 0,
             "ticks": ""
            },
            "colorscale": [
             [
              0,
              "#0d0887"
             ],
             [
              0.1111111111111111,
              "#46039f"
             ],
             [
              0.2222222222222222,
              "#7201a8"
             ],
             [
              0.3333333333333333,
              "#9c179e"
             ],
             [
              0.4444444444444444,
              "#bd3786"
             ],
             [
              0.5555555555555556,
              "#d8576b"
             ],
             [
              0.6666666666666666,
              "#ed7953"
             ],
             [
              0.7777777777777778,
              "#fb9f3a"
             ],
             [
              0.8888888888888888,
              "#fdca26"
             ],
             [
              1,
              "#f0f921"
             ]
            ],
            "type": "contour"
           }
          ],
          "contourcarpet": [
           {
            "colorbar": {
             "outlinewidth": 0,
             "ticks": ""
            },
            "type": "contourcarpet"
           }
          ],
          "heatmap": [
           {
            "colorbar": {
             "outlinewidth": 0,
             "ticks": ""
            },
            "colorscale": [
             [
              0,
              "#0d0887"
             ],
             [
              0.1111111111111111,
              "#46039f"
             ],
             [
              0.2222222222222222,
              "#7201a8"
             ],
             [
              0.3333333333333333,
              "#9c179e"
             ],
             [
              0.4444444444444444,
              "#bd3786"
             ],
             [
              0.5555555555555556,
              "#d8576b"
             ],
             [
              0.6666666666666666,
              "#ed7953"
             ],
             [
              0.7777777777777778,
              "#fb9f3a"
             ],
             [
              0.8888888888888888,
              "#fdca26"
             ],
             [
              1,
              "#f0f921"
             ]
            ],
            "type": "heatmap"
           }
          ],
          "heatmapgl": [
           {
            "colorbar": {
             "outlinewidth": 0,
             "ticks": ""
            },
            "colorscale": [
             [
              0,
              "#0d0887"
             ],
             [
              0.1111111111111111,
              "#46039f"
             ],
             [
              0.2222222222222222,
              "#7201a8"
             ],
             [
              0.3333333333333333,
              "#9c179e"
             ],
             [
              0.4444444444444444,
              "#bd3786"
             ],
             [
              0.5555555555555556,
              "#d8576b"
             ],
             [
              0.6666666666666666,
              "#ed7953"
             ],
             [
              0.7777777777777778,
              "#fb9f3a"
             ],
             [
              0.8888888888888888,
              "#fdca26"
             ],
             [
              1,
              "#f0f921"
             ]
            ],
            "type": "heatmapgl"
           }
          ],
          "histogram": [
           {
            "marker": {
             "pattern": {
              "fillmode": "overlay",
              "size": 10,
              "solidity": 0.2
             }
            },
            "type": "histogram"
           }
          ],
          "histogram2d": [
           {
            "colorbar": {
             "outlinewidth": 0,
             "ticks": ""
            },
            "colorscale": [
             [
              0,
              "#0d0887"
             ],
             [
              0.1111111111111111,
              "#46039f"
             ],
             [
              0.2222222222222222,
              "#7201a8"
             ],
             [
              0.3333333333333333,
              "#9c179e"
             ],
             [
              0.4444444444444444,
              "#bd3786"
             ],
             [
              0.5555555555555556,
              "#d8576b"
             ],
             [
              0.6666666666666666,
              "#ed7953"
             ],
             [
              0.7777777777777778,
              "#fb9f3a"
             ],
             [
              0.8888888888888888,
              "#fdca26"
             ],
             [
              1,
              "#f0f921"
             ]
            ],
            "type": "histogram2d"
           }
          ],
          "histogram2dcontour": [
           {
            "colorbar": {
             "outlinewidth": 0,
             "ticks": ""
            },
            "colorscale": [
             [
              0,
              "#0d0887"
             ],
             [
              0.1111111111111111,
              "#46039f"
             ],
             [
              0.2222222222222222,
              "#7201a8"
             ],
             [
              0.3333333333333333,
              "#9c179e"
             ],
             [
              0.4444444444444444,
              "#bd3786"
             ],
             [
              0.5555555555555556,
              "#d8576b"
             ],
             [
              0.6666666666666666,
              "#ed7953"
             ],
             [
              0.7777777777777778,
              "#fb9f3a"
             ],
             [
              0.8888888888888888,
              "#fdca26"
             ],
             [
              1,
              "#f0f921"
             ]
            ],
            "type": "histogram2dcontour"
           }
          ],
          "mesh3d": [
           {
            "colorbar": {
             "outlinewidth": 0,
             "ticks": ""
            },
            "type": "mesh3d"
           }
          ],
          "parcoords": [
           {
            "line": {
             "colorbar": {
              "outlinewidth": 0,
              "ticks": ""
             }
            },
            "type": "parcoords"
           }
          ],
          "pie": [
           {
            "automargin": true,
            "type": "pie"
           }
          ],
          "scatter": [
           {
            "fillpattern": {
             "fillmode": "overlay",
             "size": 10,
             "solidity": 0.2
            },
            "type": "scatter"
           }
          ],
          "scatter3d": [
           {
            "line": {
             "colorbar": {
              "outlinewidth": 0,
              "ticks": ""
             }
            },
            "marker": {
             "colorbar": {
              "outlinewidth": 0,
              "ticks": ""
             }
            },
            "type": "scatter3d"
           }
          ],
          "scattercarpet": [
           {
            "marker": {
             "colorbar": {
              "outlinewidth": 0,
              "ticks": ""
             }
            },
            "type": "scattercarpet"
           }
          ],
          "scattergeo": [
           {
            "marker": {
             "colorbar": {
              "outlinewidth": 0,
              "ticks": ""
             }
            },
            "type": "scattergeo"
           }
          ],
          "scattergl": [
           {
            "marker": {
             "colorbar": {
              "outlinewidth": 0,
              "ticks": ""
             }
            },
            "type": "scattergl"
           }
          ],
          "scattermapbox": [
           {
            "marker": {
             "colorbar": {
              "outlinewidth": 0,
              "ticks": ""
             }
            },
            "type": "scattermapbox"
           }
          ],
          "scatterpolar": [
           {
            "marker": {
             "colorbar": {
              "outlinewidth": 0,
              "ticks": ""
             }
            },
            "type": "scatterpolar"
           }
          ],
          "scatterpolargl": [
           {
            "marker": {
             "colorbar": {
              "outlinewidth": 0,
              "ticks": ""
             }
            },
            "type": "scatterpolargl"
           }
          ],
          "scatterternary": [
           {
            "marker": {
             "colorbar": {
              "outlinewidth": 0,
              "ticks": ""
             }
            },
            "type": "scatterternary"
           }
          ],
          "surface": [
           {
            "colorbar": {
             "outlinewidth": 0,
             "ticks": ""
            },
            "colorscale": [
             [
              0,
              "#0d0887"
             ],
             [
              0.1111111111111111,
              "#46039f"
             ],
             [
              0.2222222222222222,
              "#7201a8"
             ],
             [
              0.3333333333333333,
              "#9c179e"
             ],
             [
              0.4444444444444444,
              "#bd3786"
             ],
             [
              0.5555555555555556,
              "#d8576b"
             ],
             [
              0.6666666666666666,
              "#ed7953"
             ],
             [
              0.7777777777777778,
              "#fb9f3a"
             ],
             [
              0.8888888888888888,
              "#fdca26"
             ],
             [
              1,
              "#f0f921"
             ]
            ],
            "type": "surface"
           }
          ],
          "table": [
           {
            "cells": {
             "fill": {
              "color": "#EBF0F8"
             },
             "line": {
              "color": "white"
             }
            },
            "header": {
             "fill": {
              "color": "#C8D4E3"
             },
             "line": {
              "color": "white"
             }
            },
            "type": "table"
           }
          ]
         },
         "layout": {
          "annotationdefaults": {
           "arrowcolor": "#2a3f5f",
           "arrowhead": 0,
           "arrowwidth": 1
          },
          "autotypenumbers": "strict",
          "coloraxis": {
           "colorbar": {
            "outlinewidth": 0,
            "ticks": ""
           }
          },
          "colorscale": {
           "diverging": [
            [
             0,
             "#8e0152"
            ],
            [
             0.1,
             "#c51b7d"
            ],
            [
             0.2,
             "#de77ae"
            ],
            [
             0.3,
             "#f1b6da"
            ],
            [
             0.4,
             "#fde0ef"
            ],
            [
             0.5,
             "#f7f7f7"
            ],
            [
             0.6,
             "#e6f5d0"
            ],
            [
             0.7,
             "#b8e186"
            ],
            [
             0.8,
             "#7fbc41"
            ],
            [
             0.9,
             "#4d9221"
            ],
            [
             1,
             "#276419"
            ]
           ],
           "sequential": [
            [
             0,
             "#0d0887"
            ],
            [
             0.1111111111111111,
             "#46039f"
            ],
            [
             0.2222222222222222,
             "#7201a8"
            ],
            [
             0.3333333333333333,
             "#9c179e"
            ],
            [
             0.4444444444444444,
             "#bd3786"
            ],
            [
             0.5555555555555556,
             "#d8576b"
            ],
            [
             0.6666666666666666,
             "#ed7953"
            ],
            [
             0.7777777777777778,
             "#fb9f3a"
            ],
            [
             0.8888888888888888,
             "#fdca26"
            ],
            [
             1,
             "#f0f921"
            ]
           ],
           "sequentialminus": [
            [
             0,
             "#0d0887"
            ],
            [
             0.1111111111111111,
             "#46039f"
            ],
            [
             0.2222222222222222,
             "#7201a8"
            ],
            [
             0.3333333333333333,
             "#9c179e"
            ],
            [
             0.4444444444444444,
             "#bd3786"
            ],
            [
             0.5555555555555556,
             "#d8576b"
            ],
            [
             0.6666666666666666,
             "#ed7953"
            ],
            [
             0.7777777777777778,
             "#fb9f3a"
            ],
            [
             0.8888888888888888,
             "#fdca26"
            ],
            [
             1,
             "#f0f921"
            ]
           ]
          },
          "colorway": [
           "#636efa",
           "#EF553B",
           "#00cc96",
           "#ab63fa",
           "#FFA15A",
           "#19d3f3",
           "#FF6692",
           "#B6E880",
           "#FF97FF",
           "#FECB52"
          ],
          "font": {
           "color": "#2a3f5f"
          },
          "geo": {
           "bgcolor": "white",
           "lakecolor": "white",
           "landcolor": "#E5ECF6",
           "showlakes": true,
           "showland": true,
           "subunitcolor": "white"
          },
          "hoverlabel": {
           "align": "left"
          },
          "hovermode": "closest",
          "mapbox": {
           "style": "light"
          },
          "paper_bgcolor": "white",
          "plot_bgcolor": "#E5ECF6",
          "polar": {
           "angularaxis": {
            "gridcolor": "white",
            "linecolor": "white",
            "ticks": ""
           },
           "bgcolor": "#E5ECF6",
           "radialaxis": {
            "gridcolor": "white",
            "linecolor": "white",
            "ticks": ""
           }
          },
          "scene": {
           "xaxis": {
            "backgroundcolor": "#E5ECF6",
            "gridcolor": "white",
            "gridwidth": 2,
            "linecolor": "white",
            "showbackground": true,
            "ticks": "",
            "zerolinecolor": "white"
           },
           "yaxis": {
            "backgroundcolor": "#E5ECF6",
            "gridcolor": "white",
            "gridwidth": 2,
            "linecolor": "white",
            "showbackground": true,
            "ticks": "",
            "zerolinecolor": "white"
           },
           "zaxis": {
            "backgroundcolor": "#E5ECF6",
            "gridcolor": "white",
            "gridwidth": 2,
            "linecolor": "white",
            "showbackground": true,
            "ticks": "",
            "zerolinecolor": "white"
           }
          },
          "shapedefaults": {
           "line": {
            "color": "#2a3f5f"
           }
          },
          "ternary": {
           "aaxis": {
            "gridcolor": "white",
            "linecolor": "white",
            "ticks": ""
           },
           "baxis": {
            "gridcolor": "white",
            "linecolor": "white",
            "ticks": ""
           },
           "bgcolor": "#E5ECF6",
           "caxis": {
            "gridcolor": "white",
            "linecolor": "white",
            "ticks": ""
           }
          },
          "title": {
           "x": 0.05
          },
          "xaxis": {
           "automargin": true,
           "gridcolor": "white",
           "linecolor": "white",
           "ticks": "",
           "title": {
            "standoff": 15
           },
           "zerolinecolor": "white",
           "zerolinewidth": 2
          },
          "yaxis": {
           "automargin": true,
           "gridcolor": "white",
           "linecolor": "white",
           "ticks": "",
           "title": {
            "standoff": 15
           },
           "zerolinecolor": "white",
           "zerolinewidth": 2
          }
         }
        },
        "title": {
         "text": "Slice Plot"
        },
        "width": 2100,
        "xaxis": {
         "anchor": "y",
         "domain": [
          0,
          0.1183673469387755
         ],
         "title": {
          "text": "delta_max_dist"
         }
        },
        "xaxis2": {
         "anchor": "y2",
         "domain": [
          0.14693877551020407,
          0.26530612244897955
         ],
         "title": {
          "text": "duplicate_min_d"
         }
        },
        "xaxis3": {
         "anchor": "y3",
         "domain": [
          0.29387755102040813,
          0.4122448979591836
         ],
         "title": {
          "text": "end_temp_coef"
         }
        },
        "xaxis4": {
         "anchor": "y4",
         "domain": [
          0.4408163265306122,
          0.5591836734693877
         ],
         "title": {
          "text": "neighbor_p"
         }
        },
        "xaxis5": {
         "anchor": "y5",
         "domain": [
          0.5877551020408163,
          0.7061224489795918
         ],
         "title": {
          "text": "out_step_size"
         }
        },
        "xaxis6": {
         "anchor": "y6",
         "domain": [
          0.7346938775510204,
          0.8530612244897959
         ],
         "title": {
          "text": "start_temp_coef"
         }
        },
        "xaxis7": {
         "anchor": "y7",
         "domain": [
          0.8816326530612244,
          0.9999999999999999
         ],
         "title": {
          "text": "step_p"
         }
        },
        "yaxis": {
         "anchor": "x",
         "domain": [
          0,
          1
         ],
         "title": {
          "text": "Objective Value"
         }
        },
        "yaxis2": {
         "anchor": "x2",
         "domain": [
          0,
          1
         ],
         "matches": "y",
         "showticklabels": false
        },
        "yaxis3": {
         "anchor": "x3",
         "domain": [
          0,
          1
         ],
         "matches": "y",
         "showticklabels": false
        },
        "yaxis4": {
         "anchor": "x4",
         "domain": [
          0,
          1
         ],
         "matches": "y",
         "showticklabels": false
        },
        "yaxis5": {
         "anchor": "x5",
         "domain": [
          0,
          1
         ],
         "matches": "y",
         "showticklabels": false
        },
        "yaxis6": {
         "anchor": "x6",
         "domain": [
          0,
          1
         ],
         "matches": "y",
         "showticklabels": false
        },
        "yaxis7": {
         "anchor": "x7",
         "domain": [
          0,
          1
         ],
         "matches": "y",
         "showticklabels": false
        }
       }
      }
     },
     "metadata": {},
     "output_type": "display_data"
    }
   ],
   "source": [
    "optuna.visualization.plot_slice(study)"
   ]
  },
  {
   "cell_type": "code",
   "execution_count": 55,
   "metadata": {},
   "outputs": [
    {
     "data": {
      "application/vnd.plotly.v1+json": {
       "config": {
        "plotlyServerURL": "https://plot.ly"
       },
       "data": [
        {
         "mode": "markers",
         "name": "Objective Value",
         "type": "scatter",
         "x": [
          0,
          1,
          2,
          3,
          4,
          5,
          6,
          7,
          8,
          9,
          10,
          11,
          12,
          13,
          14,
          15,
          16,
          17,
          18,
          19,
          20,
          21,
          22,
          23,
          24,
          25,
          26,
          27,
          28,
          29,
          30,
          31,
          32,
          33,
          34,
          35,
          36,
          37,
          38,
          39,
          40,
          41,
          42,
          43,
          44,
          45,
          46,
          47,
          48,
          49,
          50,
          51,
          52,
          53,
          54,
          55,
          56,
          57,
          58,
          59,
          60,
          61,
          62,
          63,
          64,
          65,
          66,
          67,
          68,
          69,
          70,
          71,
          72,
          73,
          74,
          75,
          76,
          77,
          78,
          79,
          80,
          81,
          82,
          83,
          84,
          85,
          86,
          87,
          88,
          89
         ],
         "y": [
          0.47468504827740327,
          0.3972344514080676,
          0.3780410731344945,
          0.43621566256670496,
          0.32717064147550873,
          0.4483049923304552,
          0.4348343282921813,
          0.3472494669519965,
          0.3229240400646214,
          0.3329839770551166,
          0.41436681420562843,
          0.44213850978130387,
          0.4181162734480454,
          0.4765861652633903,
          0.4695046804686197,
          0.4092455843976271,
          0.46162237397133593,
          0.41620319595585253,
          0.3341153024184408,
          0.401257600032126,
          0.4487842610213023,
          0.4634710669298082,
          0.46630340639447726,
          0.46001798004073163,
          0.44171186017234937,
          0.40905634182434863,
          0.45188516442470666,
          0.46656979131114973,
          0.39797445624100514,
          0.4223383452257416,
          0.44021080632017867,
          0.4738993189852325,
          0.477030427268685,
          0.4604543763667646,
          0.4660142969181955,
          0.4784719494281092,
          0.47737275885598285,
          0.4744128945546703,
          0.47921022963535603,
          0.40681270568705696,
          0.4631302431144396,
          0.47209718411667667,
          0.4699261801865643,
          0.4602271204895114,
          0.46662207785998033,
          0.37217056840946966,
          0.4542205703680395,
          0.4361979249033071,
          0.46241779706414654,
          0.47674976297438965,
          0.4742687824486745,
          0.4733889479049099,
          0.4579030754551808,
          0.4445902170885555,
          0.456229686592578,
          0.4552548943318889,
          0.46809534848615086,
          0.429535181300032,
          0.4660440445593994,
          0.4436442784320958,
          0.47563143968366567,
          0.4541779469366085,
          0.472481328366316,
          0.43040247874401955,
          0.4650835029341734,
          0.45830426410014663,
          0.46139508700160975,
          0.43993005474682023,
          0.3882014945681246,
          0.4290711251403526,
          0.454200327232185,
          0.48613224264322163,
          0.48512715112661187,
          0.4812386461496931,
          0.4694931645248965,
          0.47947564459607417,
          0.46082105797660766,
          0.4658998255317161,
          0.4051587288235713,
          0.40176806665457365,
          0.46423401370330475,
          0.41490572437829276,
          0.47125613175733855,
          0.4800736464798255,
          0.4268348763221362,
          0.4674590717989627,
          0.4646915597092274,
          0.43956014021983186,
          0.4841463922656634,
          0.48559855417827735
         ]
        },
        {
         "name": "Best Value",
         "type": "scatter",
         "x": [
          0,
          1,
          2,
          3,
          4,
          5,
          6,
          7,
          8,
          9,
          10,
          11,
          12,
          13,
          14,
          15,
          16,
          17,
          18,
          19,
          20,
          21,
          22,
          23,
          24,
          25,
          26,
          27,
          28,
          29,
          30,
          31,
          32,
          33,
          34,
          35,
          36,
          37,
          38,
          39,
          40,
          41,
          42,
          43,
          44,
          45,
          46,
          47,
          48,
          49,
          50,
          51,
          52,
          53,
          54,
          55,
          56,
          57,
          58,
          59,
          60,
          61,
          62,
          63,
          64,
          65,
          66,
          67,
          68,
          69,
          70,
          71,
          72,
          73,
          74,
          75,
          76,
          77,
          78,
          79,
          80,
          81,
          82,
          83,
          84,
          85,
          86,
          87,
          88,
          89
         ],
         "y": [
          0.47468504827740327,
          0.47468504827740327,
          0.47468504827740327,
          0.47468504827740327,
          0.47468504827740327,
          0.47468504827740327,
          0.47468504827740327,
          0.47468504827740327,
          0.47468504827740327,
          0.47468504827740327,
          0.47468504827740327,
          0.47468504827740327,
          0.47468504827740327,
          0.4765861652633903,
          0.4765861652633903,
          0.4765861652633903,
          0.4765861652633903,
          0.4765861652633903,
          0.4765861652633903,
          0.4765861652633903,
          0.4765861652633903,
          0.4765861652633903,
          0.4765861652633903,
          0.4765861652633903,
          0.4765861652633903,
          0.4765861652633903,
          0.4765861652633903,
          0.4765861652633903,
          0.4765861652633903,
          0.4765861652633903,
          0.4765861652633903,
          0.4765861652633903,
          0.477030427268685,
          0.477030427268685,
          0.477030427268685,
          0.4784719494281092,
          0.4784719494281092,
          0.4784719494281092,
          0.47921022963535603,
          0.47921022963535603,
          0.47921022963535603,
          0.47921022963535603,
          0.47921022963535603,
          0.47921022963535603,
          0.47921022963535603,
          0.47921022963535603,
          0.47921022963535603,
          0.47921022963535603,
          0.47921022963535603,
          0.47921022963535603,
          0.47921022963535603,
          0.47921022963535603,
          0.47921022963535603,
          0.47921022963535603,
          0.47921022963535603,
          0.47921022963535603,
          0.47921022963535603,
          0.47921022963535603,
          0.47921022963535603,
          0.47921022963535603,
          0.47921022963535603,
          0.47921022963535603,
          0.47921022963535603,
          0.47921022963535603,
          0.47921022963535603,
          0.47921022963535603,
          0.47921022963535603,
          0.47921022963535603,
          0.47921022963535603,
          0.47921022963535603,
          0.47921022963535603,
          0.48613224264322163,
          0.48613224264322163,
          0.48613224264322163,
          0.48613224264322163,
          0.48613224264322163,
          0.48613224264322163,
          0.48613224264322163,
          0.48613224264322163,
          0.48613224264322163,
          0.48613224264322163,
          0.48613224264322163,
          0.48613224264322163,
          0.48613224264322163,
          0.48613224264322163,
          0.48613224264322163,
          0.48613224264322163,
          0.48613224264322163,
          0.48613224264322163,
          0.48613224264322163
         ]
        }
       ],
       "layout": {
        "template": {
         "data": {
          "bar": [
           {
            "error_x": {
             "color": "#2a3f5f"
            },
            "error_y": {
             "color": "#2a3f5f"
            },
            "marker": {
             "line": {
              "color": "#E5ECF6",
              "width": 0.5
             },
             "pattern": {
              "fillmode": "overlay",
              "size": 10,
              "solidity": 0.2
             }
            },
            "type": "bar"
           }
          ],
          "barpolar": [
           {
            "marker": {
             "line": {
              "color": "#E5ECF6",
              "width": 0.5
             },
             "pattern": {
              "fillmode": "overlay",
              "size": 10,
              "solidity": 0.2
             }
            },
            "type": "barpolar"
           }
          ],
          "carpet": [
           {
            "aaxis": {
             "endlinecolor": "#2a3f5f",
             "gridcolor": "white",
             "linecolor": "white",
             "minorgridcolor": "white",
             "startlinecolor": "#2a3f5f"
            },
            "baxis": {
             "endlinecolor": "#2a3f5f",
             "gridcolor": "white",
             "linecolor": "white",
             "minorgridcolor": "white",
             "startlinecolor": "#2a3f5f"
            },
            "type": "carpet"
           }
          ],
          "choropleth": [
           {
            "colorbar": {
             "outlinewidth": 0,
             "ticks": ""
            },
            "type": "choropleth"
           }
          ],
          "contour": [
           {
            "colorbar": {
             "outlinewidth": 0,
             "ticks": ""
            },
            "colorscale": [
             [
              0,
              "#0d0887"
             ],
             [
              0.1111111111111111,
              "#46039f"
             ],
             [
              0.2222222222222222,
              "#7201a8"
             ],
             [
              0.3333333333333333,
              "#9c179e"
             ],
             [
              0.4444444444444444,
              "#bd3786"
             ],
             [
              0.5555555555555556,
              "#d8576b"
             ],
             [
              0.6666666666666666,
              "#ed7953"
             ],
             [
              0.7777777777777778,
              "#fb9f3a"
             ],
             [
              0.8888888888888888,
              "#fdca26"
             ],
             [
              1,
              "#f0f921"
             ]
            ],
            "type": "contour"
           }
          ],
          "contourcarpet": [
           {
            "colorbar": {
             "outlinewidth": 0,
             "ticks": ""
            },
            "type": "contourcarpet"
           }
          ],
          "heatmap": [
           {
            "colorbar": {
             "outlinewidth": 0,
             "ticks": ""
            },
            "colorscale": [
             [
              0,
              "#0d0887"
             ],
             [
              0.1111111111111111,
              "#46039f"
             ],
             [
              0.2222222222222222,
              "#7201a8"
             ],
             [
              0.3333333333333333,
              "#9c179e"
             ],
             [
              0.4444444444444444,
              "#bd3786"
             ],
             [
              0.5555555555555556,
              "#d8576b"
             ],
             [
              0.6666666666666666,
              "#ed7953"
             ],
             [
              0.7777777777777778,
              "#fb9f3a"
             ],
             [
              0.8888888888888888,
              "#fdca26"
             ],
             [
              1,
              "#f0f921"
             ]
            ],
            "type": "heatmap"
           }
          ],
          "heatmapgl": [
           {
            "colorbar": {
             "outlinewidth": 0,
             "ticks": ""
            },
            "colorscale": [
             [
              0,
              "#0d0887"
             ],
             [
              0.1111111111111111,
              "#46039f"
             ],
             [
              0.2222222222222222,
              "#7201a8"
             ],
             [
              0.3333333333333333,
              "#9c179e"
             ],
             [
              0.4444444444444444,
              "#bd3786"
             ],
             [
              0.5555555555555556,
              "#d8576b"
             ],
             [
              0.6666666666666666,
              "#ed7953"
             ],
             [
              0.7777777777777778,
              "#fb9f3a"
             ],
             [
              0.8888888888888888,
              "#fdca26"
             ],
             [
              1,
              "#f0f921"
             ]
            ],
            "type": "heatmapgl"
           }
          ],
          "histogram": [
           {
            "marker": {
             "pattern": {
              "fillmode": "overlay",
              "size": 10,
              "solidity": 0.2
             }
            },
            "type": "histogram"
           }
          ],
          "histogram2d": [
           {
            "colorbar": {
             "outlinewidth": 0,
             "ticks": ""
            },
            "colorscale": [
             [
              0,
              "#0d0887"
             ],
             [
              0.1111111111111111,
              "#46039f"
             ],
             [
              0.2222222222222222,
              "#7201a8"
             ],
             [
              0.3333333333333333,
              "#9c179e"
             ],
             [
              0.4444444444444444,
              "#bd3786"
             ],
             [
              0.5555555555555556,
              "#d8576b"
             ],
             [
              0.6666666666666666,
              "#ed7953"
             ],
             [
              0.7777777777777778,
              "#fb9f3a"
             ],
             [
              0.8888888888888888,
              "#fdca26"
             ],
             [
              1,
              "#f0f921"
             ]
            ],
            "type": "histogram2d"
           }
          ],
          "histogram2dcontour": [
           {
            "colorbar": {
             "outlinewidth": 0,
             "ticks": ""
            },
            "colorscale": [
             [
              0,
              "#0d0887"
             ],
             [
              0.1111111111111111,
              "#46039f"
             ],
             [
              0.2222222222222222,
              "#7201a8"
             ],
             [
              0.3333333333333333,
              "#9c179e"
             ],
             [
              0.4444444444444444,
              "#bd3786"
             ],
             [
              0.5555555555555556,
              "#d8576b"
             ],
             [
              0.6666666666666666,
              "#ed7953"
             ],
             [
              0.7777777777777778,
              "#fb9f3a"
             ],
             [
              0.8888888888888888,
              "#fdca26"
             ],
             [
              1,
              "#f0f921"
             ]
            ],
            "type": "histogram2dcontour"
           }
          ],
          "mesh3d": [
           {
            "colorbar": {
             "outlinewidth": 0,
             "ticks": ""
            },
            "type": "mesh3d"
           }
          ],
          "parcoords": [
           {
            "line": {
             "colorbar": {
              "outlinewidth": 0,
              "ticks": ""
             }
            },
            "type": "parcoords"
           }
          ],
          "pie": [
           {
            "automargin": true,
            "type": "pie"
           }
          ],
          "scatter": [
           {
            "fillpattern": {
             "fillmode": "overlay",
             "size": 10,
             "solidity": 0.2
            },
            "type": "scatter"
           }
          ],
          "scatter3d": [
           {
            "line": {
             "colorbar": {
              "outlinewidth": 0,
              "ticks": ""
             }
            },
            "marker": {
             "colorbar": {
              "outlinewidth": 0,
              "ticks": ""
             }
            },
            "type": "scatter3d"
           }
          ],
          "scattercarpet": [
           {
            "marker": {
             "colorbar": {
              "outlinewidth": 0,
              "ticks": ""
             }
            },
            "type": "scattercarpet"
           }
          ],
          "scattergeo": [
           {
            "marker": {
             "colorbar": {
              "outlinewidth": 0,
              "ticks": ""
             }
            },
            "type": "scattergeo"
           }
          ],
          "scattergl": [
           {
            "marker": {
             "colorbar": {
              "outlinewidth": 0,
              "ticks": ""
             }
            },
            "type": "scattergl"
           }
          ],
          "scattermapbox": [
           {
            "marker": {
             "colorbar": {
              "outlinewidth": 0,
              "ticks": ""
             }
            },
            "type": "scattermapbox"
           }
          ],
          "scatterpolar": [
           {
            "marker": {
             "colorbar": {
              "outlinewidth": 0,
              "ticks": ""
             }
            },
            "type": "scatterpolar"
           }
          ],
          "scatterpolargl": [
           {
            "marker": {
             "colorbar": {
              "outlinewidth": 0,
              "ticks": ""
             }
            },
            "type": "scatterpolargl"
           }
          ],
          "scatterternary": [
           {
            "marker": {
             "colorbar": {
              "outlinewidth": 0,
              "ticks": ""
             }
            },
            "type": "scatterternary"
           }
          ],
          "surface": [
           {
            "colorbar": {
             "outlinewidth": 0,
             "ticks": ""
            },
            "colorscale": [
             [
              0,
              "#0d0887"
             ],
             [
              0.1111111111111111,
              "#46039f"
             ],
             [
              0.2222222222222222,
              "#7201a8"
             ],
             [
              0.3333333333333333,
              "#9c179e"
             ],
             [
              0.4444444444444444,
              "#bd3786"
             ],
             [
              0.5555555555555556,
              "#d8576b"
             ],
             [
              0.6666666666666666,
              "#ed7953"
             ],
             [
              0.7777777777777778,
              "#fb9f3a"
             ],
             [
              0.8888888888888888,
              "#fdca26"
             ],
             [
              1,
              "#f0f921"
             ]
            ],
            "type": "surface"
           }
          ],
          "table": [
           {
            "cells": {
             "fill": {
              "color": "#EBF0F8"
             },
             "line": {
              "color": "white"
             }
            },
            "header": {
             "fill": {
              "color": "#C8D4E3"
             },
             "line": {
              "color": "white"
             }
            },
            "type": "table"
           }
          ]
         },
         "layout": {
          "annotationdefaults": {
           "arrowcolor": "#2a3f5f",
           "arrowhead": 0,
           "arrowwidth": 1
          },
          "autotypenumbers": "strict",
          "coloraxis": {
           "colorbar": {
            "outlinewidth": 0,
            "ticks": ""
           }
          },
          "colorscale": {
           "diverging": [
            [
             0,
             "#8e0152"
            ],
            [
             0.1,
             "#c51b7d"
            ],
            [
             0.2,
             "#de77ae"
            ],
            [
             0.3,
             "#f1b6da"
            ],
            [
             0.4,
             "#fde0ef"
            ],
            [
             0.5,
             "#f7f7f7"
            ],
            [
             0.6,
             "#e6f5d0"
            ],
            [
             0.7,
             "#b8e186"
            ],
            [
             0.8,
             "#7fbc41"
            ],
            [
             0.9,
             "#4d9221"
            ],
            [
             1,
             "#276419"
            ]
           ],
           "sequential": [
            [
             0,
             "#0d0887"
            ],
            [
             0.1111111111111111,
             "#46039f"
            ],
            [
             0.2222222222222222,
             "#7201a8"
            ],
            [
             0.3333333333333333,
             "#9c179e"
            ],
            [
             0.4444444444444444,
             "#bd3786"
            ],
            [
             0.5555555555555556,
             "#d8576b"
            ],
            [
             0.6666666666666666,
             "#ed7953"
            ],
            [
             0.7777777777777778,
             "#fb9f3a"
            ],
            [
             0.8888888888888888,
             "#fdca26"
            ],
            [
             1,
             "#f0f921"
            ]
           ],
           "sequentialminus": [
            [
             0,
             "#0d0887"
            ],
            [
             0.1111111111111111,
             "#46039f"
            ],
            [
             0.2222222222222222,
             "#7201a8"
            ],
            [
             0.3333333333333333,
             "#9c179e"
            ],
            [
             0.4444444444444444,
             "#bd3786"
            ],
            [
             0.5555555555555556,
             "#d8576b"
            ],
            [
             0.6666666666666666,
             "#ed7953"
            ],
            [
             0.7777777777777778,
             "#fb9f3a"
            ],
            [
             0.8888888888888888,
             "#fdca26"
            ],
            [
             1,
             "#f0f921"
            ]
           ]
          },
          "colorway": [
           "#636efa",
           "#EF553B",
           "#00cc96",
           "#ab63fa",
           "#FFA15A",
           "#19d3f3",
           "#FF6692",
           "#B6E880",
           "#FF97FF",
           "#FECB52"
          ],
          "font": {
           "color": "#2a3f5f"
          },
          "geo": {
           "bgcolor": "white",
           "lakecolor": "white",
           "landcolor": "#E5ECF6",
           "showlakes": true,
           "showland": true,
           "subunitcolor": "white"
          },
          "hoverlabel": {
           "align": "left"
          },
          "hovermode": "closest",
          "mapbox": {
           "style": "light"
          },
          "paper_bgcolor": "white",
          "plot_bgcolor": "#E5ECF6",
          "polar": {
           "angularaxis": {
            "gridcolor": "white",
            "linecolor": "white",
            "ticks": ""
           },
           "bgcolor": "#E5ECF6",
           "radialaxis": {
            "gridcolor": "white",
            "linecolor": "white",
            "ticks": ""
           }
          },
          "scene": {
           "xaxis": {
            "backgroundcolor": "#E5ECF6",
            "gridcolor": "white",
            "gridwidth": 2,
            "linecolor": "white",
            "showbackground": true,
            "ticks": "",
            "zerolinecolor": "white"
           },
           "yaxis": {
            "backgroundcolor": "#E5ECF6",
            "gridcolor": "white",
            "gridwidth": 2,
            "linecolor": "white",
            "showbackground": true,
            "ticks": "",
            "zerolinecolor": "white"
           },
           "zaxis": {
            "backgroundcolor": "#E5ECF6",
            "gridcolor": "white",
            "gridwidth": 2,
            "linecolor": "white",
            "showbackground": true,
            "ticks": "",
            "zerolinecolor": "white"
           }
          },
          "shapedefaults": {
           "line": {
            "color": "#2a3f5f"
           }
          },
          "ternary": {
           "aaxis": {
            "gridcolor": "white",
            "linecolor": "white",
            "ticks": ""
           },
           "baxis": {
            "gridcolor": "white",
            "linecolor": "white",
            "ticks": ""
           },
           "bgcolor": "#E5ECF6",
           "caxis": {
            "gridcolor": "white",
            "linecolor": "white",
            "ticks": ""
           }
          },
          "title": {
           "x": 0.05
          },
          "xaxis": {
           "automargin": true,
           "gridcolor": "white",
           "linecolor": "white",
           "ticks": "",
           "title": {
            "standoff": 15
           },
           "zerolinecolor": "white",
           "zerolinewidth": 2
          },
          "yaxis": {
           "automargin": true,
           "gridcolor": "white",
           "linecolor": "white",
           "ticks": "",
           "title": {
            "standoff": 15
           },
           "zerolinecolor": "white",
           "zerolinewidth": 2
          }
         }
        },
        "title": {
         "text": "Optimization History Plot"
        },
        "xaxis": {
         "title": {
          "text": "Trial"
         }
        },
        "yaxis": {
         "title": {
          "text": "Objective Value"
         }
        }
       }
      }
     },
     "metadata": {},
     "output_type": "display_data"
    }
   ],
   "source": [
    "optuna.visualization.plot_optimization_history(study)"
   ]
  }
 ],
 "metadata": {
  "kernelspec": {
   "display_name": "Python 3",
   "language": "python",
   "name": "python3"
  },
  "language_info": {
   "codemirror_mode": {
    "name": "ipython",
    "version": 3
   },
   "file_extension": ".py",
   "mimetype": "text/x-python",
   "name": "python",
   "nbconvert_exporter": "python",
   "pygments_lexer": "ipython3",
   "version": "3.10.4"
  }
 },
 "nbformat": 4,
 "nbformat_minor": 2
}
