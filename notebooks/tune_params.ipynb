{
 "cells": [
  {
   "cell_type": "code",
   "execution_count": 1,
   "metadata": {},
   "outputs": [],
   "source": [
    "import sys\n",
    "sys.path.append(\"../\")\n",
    "\n",
    "import subprocess\n",
    "import datetime\n",
    "from joblib import Parallel, delayed\n",
    "\n",
    "import json\n",
    "import os\n",
    "\n",
    "import matplotlib.pyplot as plt\n",
    "from tqdm import tqdm\n",
    "import optuna\n",
    "\n",
    "from run import *"
   ]
  },
  {
   "cell_type": "code",
   "execution_count": null,
   "metadata": {},
   "outputs": [],
   "source": [
    "start_case = 0\n",
    "case_num = 1000\n",
    "\n",
    "cases = [\n",
    "    (f\"tools/in/{seed:04}.txt\", f\"tools/out/{seed:04}.txt\")\n",
    "    for seed in range(start_case, start_case + case_num)\n",
    "]\n",
    "\n",
    "\n",
    "def objective(trial: optuna.trial.Trial) -> float:\n",
    "    min_k = trial.suggest_float(\"max_k\", low=1.5, high=4.5)\n",
    "    max_k = trial.suggest_float(\"min_k\", low=5.0, high=7.0)\n",
    "    k_p = trial.suggest_float(\"k_p\", low=0.5, high=2.0)\n",
    "\n",
    "    start_step = trial.suggest_float(\"start_step\", low=0.4, high=1.2)\n",
    "    end_step = trial.suggest_float(\"end_step\", low=1.6, high=3.2)\n",
    "    step_cnt = trial.suggest_int(\"step_cnt\", low=2, high=10)\n",
    "\n",
    "    args = \" \".join(map(str, [min_k, max_k, k_p, start_step, end_step, step_cnt]))\n",
    "\n",
    "    solver_path = \"./target/release/ahc030\"\n",
    "    solver_cmd = f\"./tools/target/release/tester {solver_path} {args}\"\n",
    "    solver_version = f\"optuna-now-{args}\"\n",
    "    runner = Runner(\n",
    "        Input,\n",
    "        Result,\n",
    "        solver_cmd=solver_cmd,\n",
    "        solver_version=solver_version,\n",
    "        database_csv=\"../log/database.csv\",\n",
    "        log_file=\"../log/a.log\",\n",
    "        verbose=0,\n",
    "    )\n",
    "    runner.run(cases=cases, verbose=0)\n",
    "    score_df = runner.evaluate_overall_relative_score(ignore_solver_prefix=\"optuna-now-\")\n",
    "    return score_df.relative_score.median()\n",
    "\n",
    "\n",
    "subprocess.run(\"cargo build --features local --release --manifest-path=../Cargo.toml\", shell=True)\n",
    "\n",
    "study = optuna.create_study(\n",
    "    direction=\"maximize\",\n",
    "    storage=\"sqlite:///ahc030.db\",\n",
    "    study_name=\"tune-steps-01\",\n",
    "    load_if_exists=True,\n",
    ")\n",
    "print(\"start optimize\")\n",
    "study.optimize(objective, n_trials=100, show_progress_bar=True)\n",
    "study.best_params"
   ]
  },
  {
   "cell_type": "code",
   "execution_count": null,
   "metadata": {},
   "outputs": [],
   "source": [
    "optuna.visualization.plot_slice(study)"
   ]
  },
  {
   "cell_type": "code",
   "execution_count": null,
   "metadata": {},
   "outputs": [],
   "source": [
    "optuna.visualization.plot_optimization_history(study)"
   ]
  }
 ],
 "metadata": {
  "kernelspec": {
   "display_name": "Python 3",
   "language": "python",
   "name": "python3"
  },
  "language_info": {
   "codemirror_mode": {
    "name": "ipython",
    "version": 3
   },
   "file_extension": ".py",
   "mimetype": "text/x-python",
   "name": "python",
   "nbconvert_exporter": "python",
   "pygments_lexer": "ipython3",
   "version": "3.10.4"
  }
 },
 "nbformat": 4,
 "nbformat_minor": 2
}
