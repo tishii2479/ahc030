{
 "cells": [
  {
   "cell_type": "code",
   "execution_count": 21,
   "metadata": {},
   "outputs": [],
   "source": [
    "import sys\n",
    "sys.path.append(\"../\")\n",
    "\n",
    "import subprocess\n",
    "import datetime\n",
    "from joblib import Parallel, delayed\n",
    "\n",
    "import json\n",
    "import os\n",
    "\n",
    "import matplotlib.pyplot as plt\n",
    "from tqdm import tqdm\n",
    "import optuna\n",
    "\n",
    "from run import *"
   ]
  },
  {
   "cell_type": "code",
   "execution_count": 22,
   "metadata": {},
   "outputs": [
    {
     "name": "stderr",
     "output_type": "stream",
     "text": [
      "   Compiling ahc030 v0.1.0 (/Users/tatsuyaishii/dev/heuristics-contests/ahc030)\n",
      "    Finished release [optimized] target(s) in 0.65s\n",
      "\u001b[32m[I 2024-02-19 10:13:16,698]\u001b[0m Using an existing study with name 'tune-inv-01' instead of creating a new one.\u001b[0m\n"
     ]
    },
    {
     "name": "stdout",
     "output_type": "stream",
     "text": [
      "start optimize\n"
     ]
    },
    {
     "name": "stderr",
     "output_type": "stream",
     "text": [
      "/Users/tatsuyaishii/.pyenv/versions/3.10.4/lib/python3.10/site-packages/optuna/progress_bar.py:49: ExperimentalWarning:\n",
      "\n",
      "Progress bar is experimental (supported from v1.2.0). The interface can change in the future.\n",
      "\n"
     ]
    },
    {
     "data": {
      "application/vnd.jupyter.widget-view+json": {
       "model_id": "4142e2697e23460f9b57354244496838",
       "version_major": 2,
       "version_minor": 0
      },
      "text/plain": [
       "  0%|          | 0/100 [00:00<?, ?it/s]"
      ]
     },
     "metadata": {},
     "output_type": "display_data"
    },
    {
     "name": "stdout",
     "output_type": "stream",
     "text": [
      "\u001b[33m[W 2024-02-19 10:13:23,662]\u001b[0m Trial 10 failed because of the following error: KeyboardInterrupt()\n",
      "Traceback (most recent call last):\n",
      "  File \"/Users/tatsuyaishii/.pyenv/versions/3.10.4/lib/python3.10/site-packages/optuna/study/_optimize.py\", line 196, in _run_trial\n",
      "    value_or_values = func(trial)\n",
      "  File \"/var/folders/3n/z49mbd414cx0_x991z2fyqjc0000gn/T/ipykernel_19556/4258228139.py\", line 60, in objective\n",
      "    runner.run(cases=cases, verbose=0)\n",
      "  File \"/Users/tatsuyaishii/dev/heuristics-contests/ahc030/notebooks/../run.py\", line 64, in run\n",
      "    results = Parallel(n_jobs=-1, verbose=verbose)(\n",
      "  File \"/Users/tatsuyaishii/.pyenv/versions/3.10.4/lib/python3.10/site-packages/joblib/parallel.py\", line 1056, in __call__\n",
      "    self.retrieve()\n",
      "  File \"/Users/tatsuyaishii/.pyenv/versions/3.10.4/lib/python3.10/site-packages/joblib/parallel.py\", line 935, in retrieve\n",
      "    self._output.extend(job.get(timeout=self.timeout))\n",
      "  File \"/Users/tatsuyaishii/.pyenv/versions/3.10.4/lib/python3.10/site-packages/joblib/_parallel_backends.py\", line 542, in wrap_future_result\n",
      "    return future.result(timeout=timeout)\n",
      "  File \"/Users/tatsuyaishii/.pyenv/versions/3.10.4/lib/python3.10/concurrent/futures/_base.py\", line 441, in result\n",
      "    self._condition.wait(timeout)\n",
      "  File \"/Users/tatsuyaishii/.pyenv/versions/3.10.4/lib/python3.10/threading.py\", line 320, in wait\n",
      "    waiter.acquire()\n",
      "KeyboardInterrupt\u001b[0m\n"
     ]
    },
    {
     "ename": "KeyboardInterrupt",
     "evalue": "",
     "output_type": "error",
     "traceback": [
      "\u001b[0;31m---------------------------------------------------------------------------\u001b[0m",
      "\u001b[0;31mKeyboardInterrupt\u001b[0m                         Traceback (most recent call last)",
      "\u001b[1;32m/Users/tatsuyaishii/dev/heuristics-contests/ahc030/notebooks/tune_params.ipynb Cell 2\u001b[0m line \u001b[0;36m9\n\u001b[1;32m     <a href='vscode-notebook-cell:/Users/tatsuyaishii/dev/heuristics-contests/ahc030/notebooks/tune_params.ipynb#W5sZmlsZQ%3D%3D?line=76'>77</a>\u001b[0m \u001b[39mprint\u001b[39m(\u001b[39m\"\u001b[39m\u001b[39mstart optimize\u001b[39m\u001b[39m\"\u001b[39m)\n\u001b[1;32m     <a href='vscode-notebook-cell:/Users/tatsuyaishii/dev/heuristics-contests/ahc030/notebooks/tune_params.ipynb#W5sZmlsZQ%3D%3D?line=77'>78</a>\u001b[0m study\u001b[39m.\u001b[39menqueue_trial(\n\u001b[1;32m     <a href='vscode-notebook-cell:/Users/tatsuyaishii/dev/heuristics-contests/ahc030/notebooks/tune_params.ipynb#W5sZmlsZQ%3D%3D?line=78'>79</a>\u001b[0m     {\n\u001b[1;32m     <a href='vscode-notebook-cell:/Users/tatsuyaishii/dev/heuristics-contests/ahc030/notebooks/tune_params.ipynb#W5sZmlsZQ%3D%3D?line=79'>80</a>\u001b[0m         \u001b[39m\"\u001b[39m\u001b[39mmin_k\u001b[39m\u001b[39m\"\u001b[39m: \u001b[39m4.0\u001b[39m,\n\u001b[0;32m   (...)\u001b[0m\n\u001b[1;32m     <a href='vscode-notebook-cell:/Users/tatsuyaishii/dev/heuristics-contests/ahc030/notebooks/tune_params.ipynb#W5sZmlsZQ%3D%3D?line=89'>90</a>\u001b[0m     }\n\u001b[1;32m     <a href='vscode-notebook-cell:/Users/tatsuyaishii/dev/heuristics-contests/ahc030/notebooks/tune_params.ipynb#W5sZmlsZQ%3D%3D?line=90'>91</a>\u001b[0m )\n\u001b[0;32m---> <a href='vscode-notebook-cell:/Users/tatsuyaishii/dev/heuristics-contests/ahc030/notebooks/tune_params.ipynb#W5sZmlsZQ%3D%3D?line=91'>92</a>\u001b[0m study\u001b[39m.\u001b[39;49moptimize(objective, n_trials\u001b[39m=\u001b[39;49m\u001b[39m100\u001b[39;49m, show_progress_bar\u001b[39m=\u001b[39;49m\u001b[39mTrue\u001b[39;49;00m)\n\u001b[1;32m     <a href='vscode-notebook-cell:/Users/tatsuyaishii/dev/heuristics-contests/ahc030/notebooks/tune_params.ipynb#W5sZmlsZQ%3D%3D?line=92'>93</a>\u001b[0m study\u001b[39m.\u001b[39mbest_params\n",
      "File \u001b[0;32m~/.pyenv/versions/3.10.4/lib/python3.10/site-packages/optuna/study/study.py:419\u001b[0m, in \u001b[0;36mStudy.optimize\u001b[0;34m(self, func, n_trials, timeout, n_jobs, catch, callbacks, gc_after_trial, show_progress_bar)\u001b[0m\n\u001b[1;32m    315\u001b[0m \u001b[39mdef\u001b[39;00m \u001b[39moptimize\u001b[39m(\n\u001b[1;32m    316\u001b[0m     \u001b[39mself\u001b[39m,\n\u001b[1;32m    317\u001b[0m     func: ObjectiveFuncType,\n\u001b[0;32m   (...)\u001b[0m\n\u001b[1;32m    324\u001b[0m     show_progress_bar: \u001b[39mbool\u001b[39m \u001b[39m=\u001b[39m \u001b[39mFalse\u001b[39;00m,\n\u001b[1;32m    325\u001b[0m ) \u001b[39m-\u001b[39m\u001b[39m>\u001b[39m \u001b[39mNone\u001b[39;00m:\n\u001b[1;32m    326\u001b[0m \u001b[39m    \u001b[39m\u001b[39m\"\"\"Optimize an objective function.\u001b[39;00m\n\u001b[1;32m    327\u001b[0m \n\u001b[1;32m    328\u001b[0m \u001b[39m    Optimization is done by choosing a suitable set of hyperparameter values from a given\u001b[39;00m\n\u001b[0;32m   (...)\u001b[0m\n\u001b[1;32m    416\u001b[0m \u001b[39m            If nested invocation of this method occurs.\u001b[39;00m\n\u001b[1;32m    417\u001b[0m \u001b[39m    \"\"\"\u001b[39;00m\n\u001b[0;32m--> 419\u001b[0m     _optimize(\n\u001b[1;32m    420\u001b[0m         study\u001b[39m=\u001b[39;49m\u001b[39mself\u001b[39;49m,\n\u001b[1;32m    421\u001b[0m         func\u001b[39m=\u001b[39;49mfunc,\n\u001b[1;32m    422\u001b[0m         n_trials\u001b[39m=\u001b[39;49mn_trials,\n\u001b[1;32m    423\u001b[0m         timeout\u001b[39m=\u001b[39;49mtimeout,\n\u001b[1;32m    424\u001b[0m         n_jobs\u001b[39m=\u001b[39;49mn_jobs,\n\u001b[1;32m    425\u001b[0m         catch\u001b[39m=\u001b[39;49mcatch,\n\u001b[1;32m    426\u001b[0m         callbacks\u001b[39m=\u001b[39;49mcallbacks,\n\u001b[1;32m    427\u001b[0m         gc_after_trial\u001b[39m=\u001b[39;49mgc_after_trial,\n\u001b[1;32m    428\u001b[0m         show_progress_bar\u001b[39m=\u001b[39;49mshow_progress_bar,\n\u001b[1;32m    429\u001b[0m     )\n",
      "File \u001b[0;32m~/.pyenv/versions/3.10.4/lib/python3.10/site-packages/optuna/study/_optimize.py:66\u001b[0m, in \u001b[0;36m_optimize\u001b[0;34m(study, func, n_trials, timeout, n_jobs, catch, callbacks, gc_after_trial, show_progress_bar)\u001b[0m\n\u001b[1;32m     64\u001b[0m \u001b[39mtry\u001b[39;00m:\n\u001b[1;32m     65\u001b[0m     \u001b[39mif\u001b[39;00m n_jobs \u001b[39m==\u001b[39m \u001b[39m1\u001b[39m:\n\u001b[0;32m---> 66\u001b[0m         _optimize_sequential(\n\u001b[1;32m     67\u001b[0m             study,\n\u001b[1;32m     68\u001b[0m             func,\n\u001b[1;32m     69\u001b[0m             n_trials,\n\u001b[1;32m     70\u001b[0m             timeout,\n\u001b[1;32m     71\u001b[0m             catch,\n\u001b[1;32m     72\u001b[0m             callbacks,\n\u001b[1;32m     73\u001b[0m             gc_after_trial,\n\u001b[1;32m     74\u001b[0m             reseed_sampler_rng\u001b[39m=\u001b[39;49m\u001b[39mFalse\u001b[39;49;00m,\n\u001b[1;32m     75\u001b[0m             time_start\u001b[39m=\u001b[39;49m\u001b[39mNone\u001b[39;49;00m,\n\u001b[1;32m     76\u001b[0m             progress_bar\u001b[39m=\u001b[39;49mprogress_bar,\n\u001b[1;32m     77\u001b[0m         )\n\u001b[1;32m     78\u001b[0m     \u001b[39melse\u001b[39;00m:\n\u001b[1;32m     79\u001b[0m         \u001b[39mif\u001b[39;00m n_jobs \u001b[39m==\u001b[39m \u001b[39m-\u001b[39m\u001b[39m1\u001b[39m:\n",
      "File \u001b[0;32m~/.pyenv/versions/3.10.4/lib/python3.10/site-packages/optuna/study/_optimize.py:160\u001b[0m, in \u001b[0;36m_optimize_sequential\u001b[0;34m(study, func, n_trials, timeout, catch, callbacks, gc_after_trial, reseed_sampler_rng, time_start, progress_bar)\u001b[0m\n\u001b[1;32m    157\u001b[0m         \u001b[39mbreak\u001b[39;00m\n\u001b[1;32m    159\u001b[0m \u001b[39mtry\u001b[39;00m:\n\u001b[0;32m--> 160\u001b[0m     frozen_trial \u001b[39m=\u001b[39m _run_trial(study, func, catch)\n\u001b[1;32m    161\u001b[0m \u001b[39mfinally\u001b[39;00m:\n\u001b[1;32m    162\u001b[0m     \u001b[39m# The following line mitigates memory problems that can be occurred in some\u001b[39;00m\n\u001b[1;32m    163\u001b[0m     \u001b[39m# environments (e.g., services that use computing containers such as CircleCI).\u001b[39;00m\n\u001b[1;32m    164\u001b[0m     \u001b[39m# Please refer to the following PR for further details:\u001b[39;00m\n\u001b[1;32m    165\u001b[0m     \u001b[39m# https://github.com/optuna/optuna/pull/325.\u001b[39;00m\n\u001b[1;32m    166\u001b[0m     \u001b[39mif\u001b[39;00m gc_after_trial:\n",
      "File \u001b[0;32m~/.pyenv/versions/3.10.4/lib/python3.10/site-packages/optuna/study/_optimize.py:234\u001b[0m, in \u001b[0;36m_run_trial\u001b[0;34m(study, func, catch)\u001b[0m\n\u001b[1;32m    227\u001b[0m         \u001b[39massert\u001b[39;00m \u001b[39mFalse\u001b[39;00m, \u001b[39m\"\u001b[39m\u001b[39mShould not reach.\u001b[39m\u001b[39m\"\u001b[39m\n\u001b[1;32m    229\u001b[0m \u001b[39mif\u001b[39;00m (\n\u001b[1;32m    230\u001b[0m     frozen_trial\u001b[39m.\u001b[39mstate \u001b[39m==\u001b[39m TrialState\u001b[39m.\u001b[39mFAIL\n\u001b[1;32m    231\u001b[0m     \u001b[39mand\u001b[39;00m func_err \u001b[39mis\u001b[39;00m \u001b[39mnot\u001b[39;00m \u001b[39mNone\u001b[39;00m\n\u001b[1;32m    232\u001b[0m     \u001b[39mand\u001b[39;00m \u001b[39mnot\u001b[39;00m \u001b[39misinstance\u001b[39m(func_err, catch)\n\u001b[1;32m    233\u001b[0m ):\n\u001b[0;32m--> 234\u001b[0m     \u001b[39mraise\u001b[39;00m func_err\n\u001b[1;32m    235\u001b[0m \u001b[39mreturn\u001b[39;00m frozen_trial\n",
      "File \u001b[0;32m~/.pyenv/versions/3.10.4/lib/python3.10/site-packages/optuna/study/_optimize.py:196\u001b[0m, in \u001b[0;36m_run_trial\u001b[0;34m(study, func, catch)\u001b[0m\n\u001b[1;32m    194\u001b[0m \u001b[39mwith\u001b[39;00m get_heartbeat_thread(trial\u001b[39m.\u001b[39m_trial_id, study\u001b[39m.\u001b[39m_storage):\n\u001b[1;32m    195\u001b[0m     \u001b[39mtry\u001b[39;00m:\n\u001b[0;32m--> 196\u001b[0m         value_or_values \u001b[39m=\u001b[39m func(trial)\n\u001b[1;32m    197\u001b[0m     \u001b[39mexcept\u001b[39;00m exceptions\u001b[39m.\u001b[39mTrialPruned \u001b[39mas\u001b[39;00m e:\n\u001b[1;32m    198\u001b[0m         \u001b[39m# TODO(mamu): Handle multi-objective cases.\u001b[39;00m\n\u001b[1;32m    199\u001b[0m         state \u001b[39m=\u001b[39m TrialState\u001b[39m.\u001b[39mPRUNED\n",
      "\u001b[1;32m/Users/tatsuyaishii/dev/heuristics-contests/ahc030/notebooks/tune_params.ipynb Cell 2\u001b[0m line \u001b[0;36m6\n\u001b[1;32m     <a href='vscode-notebook-cell:/Users/tatsuyaishii/dev/heuristics-contests/ahc030/notebooks/tune_params.ipynb#W5sZmlsZQ%3D%3D?line=49'>50</a>\u001b[0m solver_version \u001b[39m=\u001b[39m \u001b[39mf\u001b[39m\u001b[39m\"\u001b[39m\u001b[39moptuna-inv-01-\u001b[39m\u001b[39m{\u001b[39;00margs\u001b[39m}\u001b[39;00m\u001b[39m\"\u001b[39m\n\u001b[1;32m     <a href='vscode-notebook-cell:/Users/tatsuyaishii/dev/heuristics-contests/ahc030/notebooks/tune_params.ipynb#W5sZmlsZQ%3D%3D?line=50'>51</a>\u001b[0m runner \u001b[39m=\u001b[39m Runner(\n\u001b[1;32m     <a href='vscode-notebook-cell:/Users/tatsuyaishii/dev/heuristics-contests/ahc030/notebooks/tune_params.ipynb#W5sZmlsZQ%3D%3D?line=51'>52</a>\u001b[0m     Input,\n\u001b[1;32m     <a href='vscode-notebook-cell:/Users/tatsuyaishii/dev/heuristics-contests/ahc030/notebooks/tune_params.ipynb#W5sZmlsZQ%3D%3D?line=52'>53</a>\u001b[0m     Result,\n\u001b[0;32m   (...)\u001b[0m\n\u001b[1;32m     <a href='vscode-notebook-cell:/Users/tatsuyaishii/dev/heuristics-contests/ahc030/notebooks/tune_params.ipynb#W5sZmlsZQ%3D%3D?line=57'>58</a>\u001b[0m     verbose\u001b[39m=\u001b[39m\u001b[39m0\u001b[39m,\n\u001b[1;32m     <a href='vscode-notebook-cell:/Users/tatsuyaishii/dev/heuristics-contests/ahc030/notebooks/tune_params.ipynb#W5sZmlsZQ%3D%3D?line=58'>59</a>\u001b[0m )\n\u001b[0;32m---> <a href='vscode-notebook-cell:/Users/tatsuyaishii/dev/heuristics-contests/ahc030/notebooks/tune_params.ipynb#W5sZmlsZQ%3D%3D?line=59'>60</a>\u001b[0m runner\u001b[39m.\u001b[39;49mrun(cases\u001b[39m=\u001b[39;49mcases, verbose\u001b[39m=\u001b[39;49m\u001b[39m0\u001b[39;49m)\n\u001b[1;32m     <a href='vscode-notebook-cell:/Users/tatsuyaishii/dev/heuristics-contests/ahc030/notebooks/tune_params.ipynb#W5sZmlsZQ%3D%3D?line=60'>61</a>\u001b[0m score_df \u001b[39m=\u001b[39m runner\u001b[39m.\u001b[39mevaluate_overall_relative_score(\n\u001b[1;32m     <a href='vscode-notebook-cell:/Users/tatsuyaishii/dev/heuristics-contests/ahc030/notebooks/tune_params.ipynb#W5sZmlsZQ%3D%3D?line=61'>62</a>\u001b[0m     ignore_solver_prefix\u001b[39m=\u001b[39m\u001b[39m\"\u001b[39m\u001b[39moptuna-inv-01-\u001b[39m\u001b[39m\"\u001b[39m\n\u001b[1;32m     <a href='vscode-notebook-cell:/Users/tatsuyaishii/dev/heuristics-contests/ahc030/notebooks/tune_params.ipynb#W5sZmlsZQ%3D%3D?line=62'>63</a>\u001b[0m )\n\u001b[1;32m     <a href='vscode-notebook-cell:/Users/tatsuyaishii/dev/heuristics-contests/ahc030/notebooks/tune_params.ipynb#W5sZmlsZQ%3D%3D?line=63'>64</a>\u001b[0m \u001b[39mreturn\u001b[39;00m score_df\u001b[39m.\u001b[39mrelative_score\u001b[39m.\u001b[39mmean()\n",
      "File \u001b[0;32m~/dev/heuristics-contests/ahc030/notebooks/../run.py:64\u001b[0m, in \u001b[0;36mRunner.run\u001b[0;34m(self, cases, verbose, ignore)\u001b[0m\n\u001b[1;32m     58\u001b[0m \u001b[39mdef\u001b[39;00m \u001b[39mrun\u001b[39m(\n\u001b[1;32m     59\u001b[0m     \u001b[39mself\u001b[39m,\n\u001b[1;32m     60\u001b[0m     cases: \u001b[39mlist\u001b[39m[\u001b[39mtuple\u001b[39m[\u001b[39mstr\u001b[39m, \u001b[39mstr\u001b[39m]],\n\u001b[1;32m     61\u001b[0m     verbose: \u001b[39mint\u001b[39m \u001b[39m=\u001b[39m \u001b[39m10\u001b[39m,\n\u001b[1;32m     62\u001b[0m     ignore: \u001b[39mbool\u001b[39m \u001b[39m=\u001b[39m \u001b[39mFalse\u001b[39;00m,\n\u001b[1;32m     63\u001b[0m ) \u001b[39m-\u001b[39m\u001b[39m>\u001b[39m pd\u001b[39m.\u001b[39mDataFrame:\n\u001b[0;32m---> 64\u001b[0m     results \u001b[39m=\u001b[39m Parallel(n_jobs\u001b[39m=\u001b[39;49m\u001b[39m-\u001b[39;49m\u001b[39m1\u001b[39;49m, verbose\u001b[39m=\u001b[39;49mverbose)(\n\u001b[1;32m     65\u001b[0m         delayed(\u001b[39mself\u001b[39;49m\u001b[39m.\u001b[39;49mrun_case)(input_file, output_file)\n\u001b[1;32m     66\u001b[0m         \u001b[39mfor\u001b[39;49;00m input_file, output_file \u001b[39min\u001b[39;49;00m cases\n\u001b[1;32m     67\u001b[0m     )\n\u001b[1;32m     68\u001b[0m     df \u001b[39m=\u001b[39m pd\u001b[39m.\u001b[39mDataFrame(\u001b[39mlist\u001b[39m(\u001b[39mmap\u001b[39m(\u001b[39mlambda\u001b[39;00m x: \u001b[39mvars\u001b[39m(x), results)))\n\u001b[1;32m     69\u001b[0m     \u001b[39mif\u001b[39;00m \u001b[39mnot\u001b[39;00m ignore:\n",
      "File \u001b[0;32m~/.pyenv/versions/3.10.4/lib/python3.10/site-packages/joblib/parallel.py:1056\u001b[0m, in \u001b[0;36mParallel.__call__\u001b[0;34m(self, iterable)\u001b[0m\n\u001b[1;32m   1053\u001b[0m     \u001b[39mself\u001b[39m\u001b[39m.\u001b[39m_iterating \u001b[39m=\u001b[39m \u001b[39mFalse\u001b[39;00m\n\u001b[1;32m   1055\u001b[0m \u001b[39mwith\u001b[39;00m \u001b[39mself\u001b[39m\u001b[39m.\u001b[39m_backend\u001b[39m.\u001b[39mretrieval_context():\n\u001b[0;32m-> 1056\u001b[0m     \u001b[39mself\u001b[39;49m\u001b[39m.\u001b[39;49mretrieve()\n\u001b[1;32m   1057\u001b[0m \u001b[39m# Make sure that we get a last message telling us we are done\u001b[39;00m\n\u001b[1;32m   1058\u001b[0m elapsed_time \u001b[39m=\u001b[39m time\u001b[39m.\u001b[39mtime() \u001b[39m-\u001b[39m \u001b[39mself\u001b[39m\u001b[39m.\u001b[39m_start_time\n",
      "File \u001b[0;32m~/.pyenv/versions/3.10.4/lib/python3.10/site-packages/joblib/parallel.py:935\u001b[0m, in \u001b[0;36mParallel.retrieve\u001b[0;34m(self)\u001b[0m\n\u001b[1;32m    933\u001b[0m \u001b[39mtry\u001b[39;00m:\n\u001b[1;32m    934\u001b[0m     \u001b[39mif\u001b[39;00m \u001b[39mgetattr\u001b[39m(\u001b[39mself\u001b[39m\u001b[39m.\u001b[39m_backend, \u001b[39m'\u001b[39m\u001b[39msupports_timeout\u001b[39m\u001b[39m'\u001b[39m, \u001b[39mFalse\u001b[39;00m):\n\u001b[0;32m--> 935\u001b[0m         \u001b[39mself\u001b[39m\u001b[39m.\u001b[39m_output\u001b[39m.\u001b[39mextend(job\u001b[39m.\u001b[39;49mget(timeout\u001b[39m=\u001b[39;49m\u001b[39mself\u001b[39;49m\u001b[39m.\u001b[39;49mtimeout))\n\u001b[1;32m    936\u001b[0m     \u001b[39melse\u001b[39;00m:\n\u001b[1;32m    937\u001b[0m         \u001b[39mself\u001b[39m\u001b[39m.\u001b[39m_output\u001b[39m.\u001b[39mextend(job\u001b[39m.\u001b[39mget())\n",
      "File \u001b[0;32m~/.pyenv/versions/3.10.4/lib/python3.10/site-packages/joblib/_parallel_backends.py:542\u001b[0m, in \u001b[0;36mLokyBackend.wrap_future_result\u001b[0;34m(future, timeout)\u001b[0m\n\u001b[1;32m    539\u001b[0m \u001b[39m\u001b[39m\u001b[39m\"\"\"Wrapper for Future.result to implement the same behaviour as\u001b[39;00m\n\u001b[1;32m    540\u001b[0m \u001b[39mAsyncResults.get from multiprocessing.\"\"\"\u001b[39;00m\n\u001b[1;32m    541\u001b[0m \u001b[39mtry\u001b[39;00m:\n\u001b[0;32m--> 542\u001b[0m     \u001b[39mreturn\u001b[39;00m future\u001b[39m.\u001b[39;49mresult(timeout\u001b[39m=\u001b[39;49mtimeout)\n\u001b[1;32m    543\u001b[0m \u001b[39mexcept\u001b[39;00m CfTimeoutError \u001b[39mas\u001b[39;00m e:\n\u001b[1;32m    544\u001b[0m     \u001b[39mraise\u001b[39;00m \u001b[39mTimeoutError\u001b[39;00m \u001b[39mfrom\u001b[39;00m \u001b[39me\u001b[39;00m\n",
      "File \u001b[0;32m~/.pyenv/versions/3.10.4/lib/python3.10/concurrent/futures/_base.py:441\u001b[0m, in \u001b[0;36mFuture.result\u001b[0;34m(self, timeout)\u001b[0m\n\u001b[1;32m    438\u001b[0m \u001b[39melif\u001b[39;00m \u001b[39mself\u001b[39m\u001b[39m.\u001b[39m_state \u001b[39m==\u001b[39m FINISHED:\n\u001b[1;32m    439\u001b[0m     \u001b[39mreturn\u001b[39;00m \u001b[39mself\u001b[39m\u001b[39m.\u001b[39m__get_result()\n\u001b[0;32m--> 441\u001b[0m \u001b[39mself\u001b[39;49m\u001b[39m.\u001b[39;49m_condition\u001b[39m.\u001b[39;49mwait(timeout)\n\u001b[1;32m    443\u001b[0m \u001b[39mif\u001b[39;00m \u001b[39mself\u001b[39m\u001b[39m.\u001b[39m_state \u001b[39min\u001b[39;00m [CANCELLED, CANCELLED_AND_NOTIFIED]:\n\u001b[1;32m    444\u001b[0m     \u001b[39mraise\u001b[39;00m CancelledError()\n",
      "File \u001b[0;32m~/.pyenv/versions/3.10.4/lib/python3.10/threading.py:320\u001b[0m, in \u001b[0;36mCondition.wait\u001b[0;34m(self, timeout)\u001b[0m\n\u001b[1;32m    318\u001b[0m \u001b[39mtry\u001b[39;00m:    \u001b[39m# restore state no matter what (e.g., KeyboardInterrupt)\u001b[39;00m\n\u001b[1;32m    319\u001b[0m     \u001b[39mif\u001b[39;00m timeout \u001b[39mis\u001b[39;00m \u001b[39mNone\u001b[39;00m:\n\u001b[0;32m--> 320\u001b[0m         waiter\u001b[39m.\u001b[39;49macquire()\n\u001b[1;32m    321\u001b[0m         gotit \u001b[39m=\u001b[39m \u001b[39mTrue\u001b[39;00m\n\u001b[1;32m    322\u001b[0m     \u001b[39melse\u001b[39;00m:\n",
      "\u001b[0;31mKeyboardInterrupt\u001b[0m: "
     ]
    }
   ],
   "source": [
    "start_case = 500\n",
    "case_num = 500\n",
    "\n",
    "cases = [\n",
    "    (f\"tools/in/{seed:04}.txt\", f\"tools/out/{seed:04}.txt\")\n",
    "    for seed in range(start_case, start_case + case_num)\n",
    "]\n",
    "\n",
    "\n",
    "def objective(trial: optuna.trial.Trial) -> float:\n",
    "    min_k = 4\n",
    "    max_k = 5.5\n",
    "    k_p = 0.85\n",
    "    start_step = 0.75\n",
    "    end_step = 1.8\n",
    "    step_cnt = 5\n",
    "\n",
    "    # min_k = trial.suggest_float(\"max_k\", low=1.5, high=4.5)\n",
    "    # max_k = trial.suggest_float(\"min_k\", low=5.0, high=7.0)\n",
    "    # k_p = trial.suggest_float(\"k_p\", low=0.5, high=2.0)\n",
    "    # start_step = trial.suggest_float(\"start_step\", low=0.2, high=1.5)\n",
    "    # end_step = trial.suggest_float(\"end_step\", low=max(1.2, start_step + 0.1), high=3.2)\n",
    "    # step_cnt = trial.suggest_int(\"step_cnt\", low=2, high=12)\n",
    "\n",
    "    v_prob_mean_w = trial.suggest_float(\"v_prob_mean_w\", low=0.0, high=3.0)\n",
    "    v_prob_min_var = trial.suggest_float(\"v_prob_min_var\", low=0.01, high=0.5)\n",
    "    p_max = trial.suggest_float(\"p_max\", low=0.5, high=0.99)\n",
    "    p_min = trial.suggest_float(\"p_min\", low=0.1, high=min(0.9, p_max + 0.01))\n",
    "\n",
    "    args = \" \".join(\n",
    "        map(\n",
    "            str,\n",
    "            [\n",
    "                min_k,\n",
    "                max_k,\n",
    "                k_p,\n",
    "                start_step,\n",
    "                end_step,\n",
    "                step_cnt,\n",
    "                v_prob_mean_w,\n",
    "                v_prob_min_var,\n",
    "                p_max,\n",
    "                p_min,\n",
    "            ],\n",
    "        )\n",
    "    )\n",
    "\n",
    "    solver_path = \"./target/release/ahc030\"\n",
    "    solver_cmd = f\"./tools/target/release/tester {solver_path} {args}\"\n",
    "    solver_version = f\"optuna-inv-01-{args}\"\n",
    "    runner = Runner(\n",
    "        Input,\n",
    "        Result,\n",
    "        solver_cmd=solver_cmd,\n",
    "        solver_version=solver_version,\n",
    "        database_csv=\"../log/database.csv\",\n",
    "        log_file=\"../log/a.log\",\n",
    "        verbose=0,\n",
    "    )\n",
    "    runner.run(cases=cases, verbose=0)\n",
    "    score_df = runner.evaluate_overall_relative_score(\n",
    "        ignore_solver_prefix=\"optuna-inv-01-\"\n",
    "    )\n",
    "    return score_df.relative_score.mean()\n",
    "\n",
    "\n",
    "subprocess.run(\n",
    "    \"cargo build --features local --release --manifest-path=../Cargo.toml\", shell=True\n",
    ")\n",
    "\n",
    "study = optuna.create_study(\n",
    "    direction=\"maximize\",\n",
    "    storage=\"sqlite:///ahc030.db\",\n",
    "    study_name=\"tune-inv-02\",\n",
    "    load_if_exists=True,\n",
    ")\n",
    "print(\"start optimize\")\n",
    "study.enqueue_trial(\n",
    "    {\n",
    "        \"min_k\": 4.0,\n",
    "        \"max_k\": 5.5,\n",
    "        \"k_p\": 0.85,\n",
    "        \"start_step\": 0.75,\n",
    "        \"end_step\": 1.8,\n",
    "        \"step_cnt\": 5,\n",
    "        \"v_prob_mean_w\": 1.0,\n",
    "        \"v_prob_min_var\": 0.1,\n",
    "        \"p_max\": 0.9,\n",
    "        \"p_min\": 0.5,\n",
    "    }\n",
    ")\n",
    "study.optimize(objective, n_trials=100, show_progress_bar=True)\n",
    "study.best_params"
   ]
  },
  {
   "cell_type": "code",
   "execution_count": null,
   "metadata": {},
   "outputs": [
    {
     "data": {
      "application/vnd.plotly.v1+json": {
       "config": {
        "plotlyServerURL": "https://plot.ly"
       },
       "data": [
        {
         "marker": {
          "color": [
           0,
           3,
           4,
           5,
           6,
           7,
           8,
           9,
           10,
           11,
           12,
           13,
           14,
           15,
           16,
           17,
           18,
           19,
           20,
           21,
           22,
           23,
           24,
           25,
           26,
           27,
           28,
           29,
           30,
           31,
           32,
           33,
           34,
           35,
           36,
           37,
           38,
           39,
           40,
           41,
           42,
           43,
           44,
           45,
           46,
           47,
           48,
           49,
           50,
           51,
           52,
           53,
           54,
           55,
           56,
           57,
           58,
           59,
           60,
           61,
           62,
           63,
           64,
           65,
           66,
           67,
           68,
           69,
           70,
           71,
           72,
           73,
           74,
           75,
           76,
           77,
           78,
           79,
           80,
           81,
           82,
           83,
           84,
           85,
           86,
           87,
           88,
           89,
           90,
           91,
           92,
           93,
           94,
           95,
           96,
           97,
           98,
           99,
           100,
           101,
           102,
           103,
           104,
           105,
           106,
           107,
           108,
           109,
           110,
           111,
           112,
           113,
           114,
           115,
           116,
           117,
           118,
           119,
           120,
           121,
           122,
           123,
           124,
           125,
           126,
           127,
           128,
           129,
           130,
           131,
           132,
           133,
           134,
           135,
           136,
           137,
           138,
           139,
           140,
           141,
           142,
           143,
           144,
           145,
           146,
           147,
           148,
           149,
           150,
           151,
           152,
           153,
           154,
           155,
           156,
           157,
           158,
           159,
           160,
           161,
           162,
           163,
           164,
           165,
           166,
           167,
           168,
           169,
           170,
           171,
           172,
           173,
           174,
           175,
           176,
           177,
           178,
           179,
           180,
           181,
           182,
           183,
           184,
           185,
           186,
           187,
           188,
           189,
           190,
           191,
           192,
           193,
           194,
           195,
           196,
           197,
           198,
           199,
           200,
           201,
           202,
           203,
           204,
           205,
           206,
           207,
           208,
           209,
           210,
           211,
           212,
           213,
           214,
           215,
           216,
           217,
           218,
           219,
           220,
           221,
           222,
           223
          ],
          "colorbar": {
           "title": {
            "text": "Trial"
           },
           "x": 1,
           "xpad": 40
          },
          "colorscale": [
           [
            0,
            "rgb(247,251,255)"
           ],
           [
            0.125,
            "rgb(222,235,247)"
           ],
           [
            0.25,
            "rgb(198,219,239)"
           ],
           [
            0.375,
            "rgb(158,202,225)"
           ],
           [
            0.5,
            "rgb(107,174,214)"
           ],
           [
            0.625,
            "rgb(66,146,198)"
           ],
           [
            0.75,
            "rgb(33,113,181)"
           ],
           [
            0.875,
            "rgb(8,81,156)"
           ],
           [
            1,
            "rgb(8,48,107)"
           ]
          ],
          "line": {
           "color": "Grey",
           "width": 0.5
          },
          "showscale": true
         },
         "mode": "markers",
         "showlegend": false,
         "type": "scatter",
         "x": [
          1.848183339984748,
          2,
          1.5060896317894887,
          2.338843811482895,
          1.5098531267122715,
          3.0317743078410877,
          1.5780051049792232,
          3.1487162130467334,
          1.8611751571785433,
          1.8894074172485613,
          2.494848488684121,
          3.1641740712832274,
          2.7325485576449084,
          2.6888721915318525,
          2.6612585334391516,
          2.1590859977459735,
          2.1441613719253616,
          2.1164929827364634,
          1.3074370679037117,
          2.3607512436209928,
          2.037652449831128,
          2.8497451387854835,
          2.8938942177850384,
          2.3471728995210377,
          1.7088178051288638,
          1.6435626181381202,
          1.6832124928188632,
          1.2006061711283627,
          1.7121942452946939,
          1.3704291993265523,
          1.7102782002430874,
          1.709935671423208,
          1.7732154278441579,
          1.977056086490248,
          1.8034653703489407,
          1.5025793809482357,
          1.5723830422322578,
          1.4080788976917908,
          1.9324245549378554,
          1.4400834027343554,
          1.502725945398713,
          1.592669289393375,
          1.751458152701098,
          2.0427850491311883,
          2.2369251294605847,
          1.8479435527982209,
          1.2870185926434847,
          1.5088146656394803,
          1.536667574500764,
          1.654726342079153,
          1.4631352525034027,
          1.8809398506130885,
          2.4485051560958855,
          1.349220751411429,
          1.6016272968972254,
          1.2195829875752278,
          1.7319131861873036,
          2.2126120143894425,
          1.4976446165913644,
          1.8106282096657456,
          1.9352831530336556,
          1.686898182018333,
          1.7559805801627355,
          1.5990280732907876,
          2.0974812221285104,
          1.6483611668393363,
          2.6027528057674307,
          1.8129075867851672,
          1.55102235635083,
          1.4337602696606673,
          2.2819509346570674,
          1.9521436623559305,
          1.9015801118019766,
          2.0136254588759455,
          1.710232670390134,
          1.7386468351286193,
          1.6375420630031314,
          1.3884908805250078,
          1.5157500815095486,
          1.7051834174921177,
          1.8372055911717167,
          1.8362126943291208,
          1.773892052710098,
          2.0616069314899876,
          1.824514671847028,
          1.8670414742479404,
          2.133288818127126,
          1.6181827179165271,
          1.6797219136269448,
          1.977054894749375,
          1.3282557447335914,
          1.4709443866873442,
          1.7578574320819444,
          1.7081346469836058,
          1.54831963218383,
          1.5449761364123662,
          1.5393629840869119,
          1.5739575470258984,
          1.5568213974605114,
          1.2747666042383727,
          1.6776514494201613,
          1.6149528348436513,
          1.7175101780675919,
          1.4147668083098512,
          1.4717509099957957,
          1.7054671456363786,
          1.5343218664086082,
          1.6511325363058509,
          1.7942667182709213,
          1.7046722786839197,
          3.0715972444717483,
          1.8437273896205093,
          1.9010514693249436,
          1.7274413059433433,
          1.578427036828288,
          1.78357963185913,
          1.6552638147636543,
          1.6063456832615395,
          1.4938751074969758,
          1.6028632675183967,
          1.5352471371592955,
          1.7218083356831804,
          1.6769579861238233,
          1.6187558337983612,
          1.4454332566966672,
          1.678969759276627,
          1.5858612496541924,
          1.6505128038955716,
          1.7517954107786768,
          1.5233759102400866,
          1.3779883074502701,
          1.6187815237136687,
          1.7079611223188298,
          1.547838118660354,
          1.624889112241139,
          1.6752519457722337,
          1.7817256401898776,
          1.5663939300101668,
          1.4868883929226209,
          1.7395135674805444,
          1.625164134442365,
          1.8353929839869454,
          1.8133933239819777,
          1.6978309710572446,
          1.7955981727140897,
          1.8861877239685625,
          1.5929340255663307,
          1.6581580603998594,
          1.5840465004618676,
          1.4411465639895167,
          1.4252986941973764,
          1.5213964578708643,
          1.5313470295389124,
          1.74647846562508,
          1.4626773899769878,
          1.7020113153995398,
          1.5743238715498007,
          1.5610514069240096,
          1.5020084706774224,
          1.5046451323322494,
          1.6439952661238406,
          1.4208305568915187,
          1.362957073984441,
          1.5762600583293973,
          1.453657873908645,
          1.4897251287924043,
          1.6035719195559335,
          1.5302361700832021,
          1.678630736179898,
          1.5711122097208408,
          1.534521893809426,
          1.4694767485991123,
          1.5049566820929383,
          1.6385312608587457,
          1.7198409437528155,
          1.539274839224825,
          1.3905913437961592,
          1.5987617819298818,
          1.6727660550175576,
          1.7612649105701559,
          1.675221584897075,
          1.6293782267407062,
          1.709759173165277,
          1.5971865605098106,
          1.6586022327862837,
          1.6066604465960315,
          1.5608471676315872,
          1.7345636329674365,
          1.6854145730302037,
          1.7949908594982964,
          1.5929922577727251,
          1.5176318789974432,
          1.4804039221727345,
          1.6477922168268302,
          1.4642511974988384,
          1.4476403910922802,
          1.633660142919657,
          1.4672696396023794,
          2.465409220444279,
          2.791149461863718,
          1.4034143723973191,
          1.563954352546015,
          1.5124511178720843,
          1.5548549043054156,
          1.3369729714691787,
          1.4771790770144744,
          1.5969503156056846,
          1.7225427216483855,
          1.5372936001504636,
          1.6780983468037136,
          1.7693774306096925,
          1.4638652812329598,
          1.4933368001084872,
          1.4329218928326595,
          1.3862602769721157,
          1.4261503853502817,
          1.4928823177206632,
          1.4300815524082076,
          1.5999250888103844,
          1.6982498945471975,
          1.2893538707098655,
          1.532207948659685
         ],
         "xaxis": "x",
         "y": [
          0.4219993165623746,
          0.5426187407347611,
          0.4649712265141733,
          0.37686616923785915,
          0.4365833122574677,
          0.4040662259923367,
          0.5075150126125914,
          0.5318674789040096,
          0.5171711083960242,
          0.40957872327437667,
          0.47052281912349025,
          0.5392943172493874,
          0.5393187578715402,
          0.5238167583242548,
          0.505317719581571,
          0.5495512806164079,
          0.49673363548167454,
          0.5313229660121275,
          0.5317285558046433,
          0.5079942333199089,
          0.4993661756579262,
          0.5439468596935704,
          0.5304411307736163,
          0.5183813061636194,
          0.5504802832975101,
          0.5447752670183068,
          0.53727145181093,
          0.5214534315361876,
          0.37652130836884595,
          0.5017488535050286,
          0.5542206601833153,
          0.5528733360671604,
          0.5448434115962211,
          0.5328302697809247,
          0.48850789982318793,
          0.5497446376397347,
          0.44454433153341166,
          0.5242698712579665,
          0.5481069788314931,
          0.5278848487507125,
          0.4641723306578772,
          0.5457850136857622,
          0.5484775456823586,
          0.5359248780350184,
          0.5367893016373173,
          0.5399543326152377,
          0.4920121697986368,
          0.551426927002566,
          0.5262101540528326,
          0.5331365187868423,
          0.5058122486075526,
          0.5403704830139113,
          0.5427523937841962,
          0.5312703303159919,
          0.5069108058616153,
          0.5112820434971136,
          0.5474959908856549,
          0.5395847758587599,
          0.5354498120888804,
          0.5395839765282269,
          0.5439288036225023,
          0.5453992993263235,
          0.541055971541746,
          0.5469454522874735,
          0.539529216205118,
          0.5323420665754515,
          0.5260452056376758,
          0.536345013248526,
          0.5457284448897358,
          0.5199093359952524,
          0.510932203521887,
          0.5421095094405769,
          0.5418773684196867,
          0.5377602311408894,
          0.5586051370815676,
          0.5482745444458385,
          0.5477539654901253,
          0.5393674926336474,
          0.5095201071693208,
          0.5474028895578501,
          0.5506555433546846,
          0.5514841725819046,
          0.4012921177951639,
          0.5417353009147499,
          0.5477314803306073,
          0.5337653180692297,
          0.5416541890525439,
          0.5413719987803723,
          0.5419092174032819,
          0.5372654769489046,
          0.5374114428366856,
          0.538168015131969,
          0.540710488627066,
          0.555426716829558,
          0.5555172766330436,
          0.5603354157411432,
          0.5524674528408718,
          0.5393197814797945,
          0.5386395129713194,
          0.5077739006423673,
          0.5288030005268817,
          0.5318170322713501,
          0.5527464712522421,
          0.5469974056596939,
          0.5480338182655775,
          0.5576828744382667,
          0.5498814168231653,
          0.5151496829222819,
          0.5418950077792154,
          0.5298120613021279,
          0.44831373620100967,
          0.5440005201944557,
          0.5425816702322095,
          0.546130985162915,
          0.550536733319051,
          0.525068277312043,
          0.5489247459626669,
          0.5554757072017612,
          0.49953744669467587,
          0.540565999801332,
          0.5452684085783127,
          0.5442601050463381,
          0.5558219657298736,
          0.5508358154797284,
          0.5472711524522529,
          0.5409200224340958,
          0.5484317868939734,
          0.5488739258090605,
          0.5406756044017147,
          0.5230859462104748,
          0.5478797554498772,
          0.5422565667084435,
          0.5386768843013476,
          0.543156321378691,
          0.5312447158228379,
          0.5481274006872593,
          0.5419743555964522,
          0.5498721414158573,
          0.5500576561344894,
          0.5494783834961908,
          0.45236568588566595,
          0.5470837701698963,
          0.5540193731839018,
          0.5433679077203205,
          0.5390954730560396,
          0.5416451447781379,
          0.5568170407424821,
          0.5464288527318683,
          0.4879626228450072,
          0.5520680260871496,
          0.5425087129312931,
          0.5532764901358725,
          0.5507828696647896,
          0.548181750647633,
          0.5492305748325986,
          0.5484527502709855,
          0.5583322103469563,
          0.5303690940099955,
          0.5524211600427243,
          0.5410774296993611,
          0.5470215900985017,
          0.5458096777876976,
          0.5484862651466237,
          0.5472055453246444,
          0.5600898708364619,
          0.5382693544794677,
          0.5432253532977186,
          0.5530842893246015,
          0.5436016201122192,
          0.5447089143526845,
          0.5431807519606,
          0.5439749695845123,
          0.5500466592158837,
          0.5486854673987388,
          0.5490879801975311,
          0.5400258838344136,
          0.5483406954184749,
          0.5517303318266183,
          0.5528193886914253,
          0.5448839575793897,
          0.5510527827609824,
          0.5490672837532542,
          0.5478938991326822,
          0.5549985571818026,
          0.5523507075380361,
          0.5501814109776658,
          0.5508814069581219,
          0.5224175348995691,
          0.5501024670589022,
          0.5414433526992849,
          0.5474505362980315,
          0.5495365228855447,
          0.5615728282832518,
          0.5515343607010114,
          0.5631981141899325,
          0.5501872658987516,
          0.43667000857023924,
          0.5469450811005779,
          0.5209612744423403,
          0.5024958430746922,
          0.5500389378681347,
          0.5455419826113734,
          0.5382686551885054,
          0.5393712456678621,
          0.545367009126162,
          0.5524604237867276,
          0.534510575096511,
          0.5318635818073459,
          0.5476051561807629,
          0.5433380708152005,
          0.548970178077238,
          0.5459451661564071,
          0.5529665253351504,
          0.5540751623632886,
          0.5423098597069288,
          0.55217055160634,
          0.5448646183602064,
          0.5406620302143653,
          0.5516616712387418,
          0.5497036683184433,
          0.5431691346642317,
          0.5423337395705713
         ],
         "yaxis": "y"
        },
        {
         "marker": {
          "color": [
           0,
           3,
           4,
           5,
           6,
           7,
           8,
           9,
           10,
           11,
           12,
           13,
           14,
           15,
           16,
           17,
           18,
           19,
           20,
           21,
           22,
           23,
           24,
           25,
           26,
           27,
           28,
           29,
           30,
           31,
           32,
           33,
           34,
           35,
           36,
           37,
           38,
           39,
           40,
           41,
           42,
           43,
           44,
           45,
           46,
           47,
           48,
           49,
           50,
           51,
           52,
           53,
           54,
           55,
           56,
           57,
           58,
           59,
           60,
           61,
           62,
           63,
           64,
           65,
           66,
           67,
           68,
           69,
           70,
           71,
           72,
           73,
           74,
           75,
           76,
           77,
           78,
           79,
           80,
           81,
           82,
           83,
           84,
           85,
           86,
           87,
           88,
           89,
           90,
           91,
           92,
           93,
           94,
           95,
           96,
           97,
           98,
           99,
           100,
           101,
           102,
           103,
           104,
           105,
           106,
           107,
           108,
           109,
           110,
           111,
           112,
           113,
           114,
           115,
           116,
           117,
           118,
           119,
           120,
           121,
           122,
           123,
           124,
           125,
           126,
           127,
           128,
           129,
           130,
           131,
           132,
           133,
           134,
           135,
           136,
           137,
           138,
           139,
           140,
           141,
           142,
           143,
           144,
           145,
           146,
           147,
           148,
           149,
           150,
           151,
           152,
           153,
           154,
           155,
           156,
           157,
           158,
           159,
           160,
           161,
           162,
           163,
           164,
           165,
           166,
           167,
           168,
           169,
           170,
           171,
           172,
           173,
           174,
           175,
           176,
           177,
           178,
           179,
           180,
           181,
           182,
           183,
           184,
           185,
           186,
           187,
           188,
           189,
           190,
           191,
           192,
           193,
           194,
           195,
           196,
           197,
           198,
           199,
           200,
           201,
           202,
           203,
           204,
           205,
           206,
           207,
           208,
           209,
           210,
           211,
           212,
           213,
           214,
           215,
           216,
           217,
           218,
           219,
           220,
           221,
           222,
           223
          ],
          "colorbar": {
           "title": {
            "text": "Trial"
           },
           "x": 1,
           "xpad": 40
          },
          "colorscale": [
           [
            0,
            "rgb(247,251,255)"
           ],
           [
            0.125,
            "rgb(222,235,247)"
           ],
           [
            0.25,
            "rgb(198,219,239)"
           ],
           [
            0.375,
            "rgb(158,202,225)"
           ],
           [
            0.5,
            "rgb(107,174,214)"
           ],
           [
            0.625,
            "rgb(66,146,198)"
           ],
           [
            0.75,
            "rgb(33,113,181)"
           ],
           [
            0.875,
            "rgb(8,81,156)"
           ],
           [
            1,
            "rgb(8,48,107)"
           ]
          ],
          "line": {
           "color": "Grey",
           "width": 0.5
          },
          "showscale": false
         },
         "mode": "markers",
         "showlegend": false,
         "type": "scatter",
         "x": [
          1.38535250560772,
          0.8,
          1.232752112189356,
          0.598945991664918,
          1.3446575569749704,
          1.4468463828925988,
          0.5372056666341234,
          0.9110240731102219,
          1.0308069100585893,
          1.4308098102075928,
          0.21269997092686954,
          0.8352857713089864,
          0.7016115323826375,
          0.6395978365290492,
          0.3929816083746433,
          0.7707104059536816,
          1.0876664694951903,
          0.763136797380011,
          0.9591792952667965,
          0.3979624238315525,
          1.131039284805512,
          0.7327512203495841,
          0.8150387534566015,
          0.49181202263071727,
          0.753789333923063,
          0.6783424327750031,
          0.9408149677715262,
          0.646444573717418,
          0.4469974012497824,
          0.2972327501619541,
          0.8775665613182848,
          0.8925209509856499,
          0.868760461963213,
          1.0083653219538573,
          1.1638029363041773,
          0.7852862867891417,
          1.3127768446968477,
          0.5767803255601208,
          0.8732871965367418,
          1.032673912042565,
          1.2570453158213954,
          0.7808988758578105,
          0.9107752750350808,
          0.7471883076946618,
          0.8264277348856217,
          0.9538792723908343,
          0.6002556529734939,
          0.7210475684704362,
          0.6852770250952075,
          0.8826031299931105,
          0.5298163471693828,
          0.8094052607173832,
          0.7431624604999568,
          0.9829994532750114,
          1.0730406621911959,
          0.7098755989399593,
          0.790904473918972,
          0.6397384357654735,
          0.9015258500970363,
          0.84211703945989,
          0.599508000730413,
          0.9203885992132236,
          0.7835977736973349,
          0.9226938130265755,
          0.852657118571722,
          0.9971314060746157,
          0.7188163282094867,
          0.6634024157676657,
          0.827365230620066,
          0.7654443109902791,
          1.0436682335163951,
          0.8854300985423731,
          0.9659361692584245,
          0.8641953890812746,
          0.7116916616300862,
          0.747032031218016,
          0.6869134056487813,
          0.6246638103671452,
          0.5551162542177385,
          0.789486363080823,
          0.72718706395028,
          0.7154430473154135,
          1.4938628276026573,
          0.7176174316057342,
          0.663855854270683,
          0.8131686278962436,
          0.7560982359376917,
          0.5098845723303717,
          0.6184331947987026,
          0.7060731203011491,
          0.5725914199616832,
          0.9343191178527165,
          0.8414233221916678,
          0.7357035021504584,
          0.7708530465342331,
          0.7395611394948846,
          0.6710093812234077,
          0.6732440773842345,
          0.7307418994620541,
          0.6407214172033314,
          0.4614809954185447,
          0.6953646294592484,
          0.8112945425986354,
          0.8043743075219377,
          0.7724795231908994,
          0.7255343008734634,
          0.6632820534786684,
          0.8865341188195638,
          0.8301292585651125,
          0.7539878055604197,
          0.6983740991726329,
          0.7273854689944431,
          0.8022710632849906,
          0.732322792482458,
          0.7686270919690193,
          0.6581736387229987,
          0.6173648853696402,
          0.682142716185565,
          0.5825617201843427,
          0.7840996245954864,
          0.852141559251172,
          0.6907951397632497,
          0.713186781527477,
          0.7070288066218954,
          0.6406827796366243,
          0.7460552921958002,
          0.690313480905113,
          0.8094022278689704,
          0.9034070910929048,
          0.6080286867075404,
          0.8714193775562344,
          0.702602828984516,
          0.6764502010521468,
          0.7617488602459825,
          0.7214670163256106,
          0.7805835329457589,
          0.6494498939585309,
          0.8240563594792244,
          0.7400703451459977,
          0.7122974021869701,
          0.6320144595935633,
          0.6763615041530331,
          0.7243417085549458,
          0.7594089648518023,
          0.7074842702307815,
          0.7950096180911588,
          0.7353666334256979,
          0.8409829119110596,
          0.228564775755709,
          0.7349197620098261,
          0.7682860068306018,
          0.7379101102508872,
          0.753158096194391,
          0.7343338135926047,
          0.6832556389545268,
          0.7974459185935551,
          0.7331871297412763,
          0.6627791631506033,
          0.8258474638209281,
          0.861066796759605,
          0.8284471995170543,
          0.7750845408481813,
          0.7319796167369303,
          0.8037171860725807,
          0.7487917053886503,
          0.9465552374065779,
          0.8913353537997069,
          0.7779417321351643,
          0.7568310752762524,
          0.690681387793827,
          0.7836784982653657,
          0.8292290114150036,
          0.8112221930984911,
          0.7428950158959174,
          0.8553206564661905,
          0.6981620124254184,
          0.7808958233352057,
          0.6673458312582257,
          0.7418356986519323,
          0.7186317806752238,
          0.7488851226385591,
          0.7212363575596074,
          0.7687136499591496,
          0.8002123526428652,
          0.7896153103980718,
          0.7001530274447005,
          0.7475879159364044,
          0.6597674024207331,
          0.720164869355777,
          0.9155197232044778,
          0.7676840015924038,
          0.822300277248103,
          0.805770547736886,
          0.7990999030882289,
          0.7476624349317118,
          0.744620370007614,
          1.3499803673964865,
          0.8608222491938744,
          0.7760333185005571,
          0.7266386949715867,
          0.8005953088240698,
          0.6849245931955009,
          0.7552003187604605,
          0.6996260692519051,
          0.7301870251950173,
          0.7639679686972681,
          0.6331040595036961,
          0.710813793661593,
          0.6778531638811619,
          0.844132571911805,
          0.7865602086400432,
          0.7626902494823793,
          0.736786812105122,
          0.7357055041876337,
          0.7360274050675362,
          0.7328050614025008,
          0.8113745256358325,
          0.7081969176547134,
          0.7501067415641345,
          0.778235808881946,
          0.7129290849546213,
          0.6733402700205103
         ],
         "xaxis": "x2",
         "y": [
          0.4219993165623746,
          0.5426187407347611,
          0.4649712265141733,
          0.37686616923785915,
          0.4365833122574677,
          0.4040662259923367,
          0.5075150126125914,
          0.5318674789040096,
          0.5171711083960242,
          0.40957872327437667,
          0.47052281912349025,
          0.5392943172493874,
          0.5393187578715402,
          0.5238167583242548,
          0.505317719581571,
          0.5495512806164079,
          0.49673363548167454,
          0.5313229660121275,
          0.5317285558046433,
          0.5079942333199089,
          0.4993661756579262,
          0.5439468596935704,
          0.5304411307736163,
          0.5183813061636194,
          0.5504802832975101,
          0.5447752670183068,
          0.53727145181093,
          0.5214534315361876,
          0.37652130836884595,
          0.5017488535050286,
          0.5542206601833153,
          0.5528733360671604,
          0.5448434115962211,
          0.5328302697809247,
          0.48850789982318793,
          0.5497446376397347,
          0.44454433153341166,
          0.5242698712579665,
          0.5481069788314931,
          0.5278848487507125,
          0.4641723306578772,
          0.5457850136857622,
          0.5484775456823586,
          0.5359248780350184,
          0.5367893016373173,
          0.5399543326152377,
          0.4920121697986368,
          0.551426927002566,
          0.5262101540528326,
          0.5331365187868423,
          0.5058122486075526,
          0.5403704830139113,
          0.5427523937841962,
          0.5312703303159919,
          0.5069108058616153,
          0.5112820434971136,
          0.5474959908856549,
          0.5395847758587599,
          0.5354498120888804,
          0.5395839765282269,
          0.5439288036225023,
          0.5453992993263235,
          0.541055971541746,
          0.5469454522874735,
          0.539529216205118,
          0.5323420665754515,
          0.5260452056376758,
          0.536345013248526,
          0.5457284448897358,
          0.5199093359952524,
          0.510932203521887,
          0.5421095094405769,
          0.5418773684196867,
          0.5377602311408894,
          0.5586051370815676,
          0.5482745444458385,
          0.5477539654901253,
          0.5393674926336474,
          0.5095201071693208,
          0.5474028895578501,
          0.5506555433546846,
          0.5514841725819046,
          0.4012921177951639,
          0.5417353009147499,
          0.5477314803306073,
          0.5337653180692297,
          0.5416541890525439,
          0.5413719987803723,
          0.5419092174032819,
          0.5372654769489046,
          0.5374114428366856,
          0.538168015131969,
          0.540710488627066,
          0.555426716829558,
          0.5555172766330436,
          0.5603354157411432,
          0.5524674528408718,
          0.5393197814797945,
          0.5386395129713194,
          0.5077739006423673,
          0.5288030005268817,
          0.5318170322713501,
          0.5527464712522421,
          0.5469974056596939,
          0.5480338182655775,
          0.5576828744382667,
          0.5498814168231653,
          0.5151496829222819,
          0.5418950077792154,
          0.5298120613021279,
          0.44831373620100967,
          0.5440005201944557,
          0.5425816702322095,
          0.546130985162915,
          0.550536733319051,
          0.525068277312043,
          0.5489247459626669,
          0.5554757072017612,
          0.49953744669467587,
          0.540565999801332,
          0.5452684085783127,
          0.5442601050463381,
          0.5558219657298736,
          0.5508358154797284,
          0.5472711524522529,
          0.5409200224340958,
          0.5484317868939734,
          0.5488739258090605,
          0.5406756044017147,
          0.5230859462104748,
          0.5478797554498772,
          0.5422565667084435,
          0.5386768843013476,
          0.543156321378691,
          0.5312447158228379,
          0.5481274006872593,
          0.5419743555964522,
          0.5498721414158573,
          0.5500576561344894,
          0.5494783834961908,
          0.45236568588566595,
          0.5470837701698963,
          0.5540193731839018,
          0.5433679077203205,
          0.5390954730560396,
          0.5416451447781379,
          0.5568170407424821,
          0.5464288527318683,
          0.4879626228450072,
          0.5520680260871496,
          0.5425087129312931,
          0.5532764901358725,
          0.5507828696647896,
          0.548181750647633,
          0.5492305748325986,
          0.5484527502709855,
          0.5583322103469563,
          0.5303690940099955,
          0.5524211600427243,
          0.5410774296993611,
          0.5470215900985017,
          0.5458096777876976,
          0.5484862651466237,
          0.5472055453246444,
          0.5600898708364619,
          0.5382693544794677,
          0.5432253532977186,
          0.5530842893246015,
          0.5436016201122192,
          0.5447089143526845,
          0.5431807519606,
          0.5439749695845123,
          0.5500466592158837,
          0.5486854673987388,
          0.5490879801975311,
          0.5400258838344136,
          0.5483406954184749,
          0.5517303318266183,
          0.5528193886914253,
          0.5448839575793897,
          0.5510527827609824,
          0.5490672837532542,
          0.5478938991326822,
          0.5549985571818026,
          0.5523507075380361,
          0.5501814109776658,
          0.5508814069581219,
          0.5224175348995691,
          0.5501024670589022,
          0.5414433526992849,
          0.5474505362980315,
          0.5495365228855447,
          0.5615728282832518,
          0.5515343607010114,
          0.5631981141899325,
          0.5501872658987516,
          0.43667000857023924,
          0.5469450811005779,
          0.5209612744423403,
          0.5024958430746922,
          0.5500389378681347,
          0.5455419826113734,
          0.5382686551885054,
          0.5393712456678621,
          0.545367009126162,
          0.5524604237867276,
          0.534510575096511,
          0.5318635818073459,
          0.5476051561807629,
          0.5433380708152005,
          0.548970178077238,
          0.5459451661564071,
          0.5529665253351504,
          0.5540751623632886,
          0.5423098597069288,
          0.55217055160634,
          0.5448646183602064,
          0.5406620302143653,
          0.5516616712387418,
          0.5497036683184433,
          0.5431691346642317,
          0.5423337395705713
         ],
         "yaxis": "y2"
        },
        {
         "marker": {
          "color": [
           0,
           3,
           4,
           5,
           6,
           7,
           8,
           9,
           10,
           11,
           12,
           13,
           14,
           15,
           16,
           17,
           18,
           19,
           20,
           21,
           22,
           23,
           24,
           25,
           26,
           27,
           28,
           29,
           30,
           31,
           32,
           33,
           34,
           35,
           36,
           37,
           38,
           39,
           40,
           41,
           42,
           43,
           44,
           45,
           46,
           47,
           48,
           49,
           50,
           51,
           52,
           53,
           54,
           55,
           56,
           57,
           58,
           59,
           60,
           61,
           62,
           63,
           64,
           65,
           66,
           67,
           68,
           69,
           70,
           71,
           72,
           73,
           74,
           75,
           76,
           77,
           78,
           79,
           80,
           81,
           82,
           83,
           84,
           85,
           86,
           87,
           88,
           89,
           90,
           91,
           92,
           93,
           94,
           95,
           96,
           97,
           98,
           99,
           100,
           101,
           102,
           103,
           104,
           105,
           106,
           107,
           108,
           109,
           110,
           111,
           112,
           113,
           114,
           115,
           116,
           117,
           118,
           119,
           120,
           121,
           122,
           123,
           124,
           125,
           126,
           127,
           128,
           129,
           130,
           131,
           132,
           133,
           134,
           135,
           136,
           137,
           138,
           139,
           140,
           141,
           142,
           143,
           144,
           145,
           146,
           147,
           148,
           149,
           150,
           151,
           152,
           153,
           154,
           155,
           156,
           157,
           158,
           159,
           160,
           161,
           162,
           163,
           164,
           165,
           166,
           167,
           168,
           169,
           170,
           171,
           172,
           173,
           174,
           175,
           176,
           177,
           178,
           179,
           180,
           181,
           182,
           183,
           184,
           185,
           186,
           187,
           188,
           189,
           190,
           191,
           192,
           193,
           194,
           195,
           196,
           197,
           198,
           199,
           200,
           201,
           202,
           203,
           204,
           205,
           206,
           207,
           208,
           209,
           210,
           211,
           212,
           213,
           214,
           215,
           216,
           217,
           218,
           219,
           220,
           221,
           222,
           223
          ],
          "colorbar": {
           "title": {
            "text": "Trial"
           },
           "x": 1,
           "xpad": 40
          },
          "colorscale": [
           [
            0,
            "rgb(247,251,255)"
           ],
           [
            0.125,
            "rgb(222,235,247)"
           ],
           [
            0.25,
            "rgb(198,219,239)"
           ],
           [
            0.375,
            "rgb(158,202,225)"
           ],
           [
            0.5,
            "rgb(107,174,214)"
           ],
           [
            0.625,
            "rgb(66,146,198)"
           ],
           [
            0.75,
            "rgb(33,113,181)"
           ],
           [
            0.875,
            "rgb(8,81,156)"
           ],
           [
            1,
            "rgb(8,48,107)"
           ]
          ],
          "line": {
           "color": "Grey",
           "width": 0.5
          },
          "showscale": false
         },
         "mode": "markers",
         "showlegend": false,
         "type": "scatter",
         "x": [
          10,
          7,
          5,
          2,
          4,
          9,
          3,
          6,
          6,
          12,
          8,
          7,
          7,
          11,
          8,
          7,
          9,
          4,
          6,
          8,
          5,
          7,
          9,
          7,
          5,
          5,
          4,
          5,
          2,
          3,
          5,
          5,
          6,
          3,
          4,
          5,
          5,
          4,
          5,
          3,
          6,
          6,
          5,
          4,
          6,
          7,
          10,
          8,
          8,
          9,
          3,
          8,
          7,
          5,
          6,
          10,
          4,
          7,
          9,
          12,
          6,
          5,
          5,
          5,
          4,
          6,
          5,
          8,
          4,
          2,
          7,
          5,
          5,
          6,
          4,
          4,
          3,
          4,
          8,
          4,
          5,
          5,
          5,
          5,
          6,
          3,
          5,
          6,
          4,
          6,
          5,
          5,
          5,
          4,
          4,
          4,
          3,
          3,
          3,
          2,
          4,
          3,
          4,
          4,
          4,
          4,
          4,
          2,
          4,
          3,
          3,
          4,
          4,
          4,
          4,
          3,
          4,
          4,
          11,
          3,
          3,
          4,
          4,
          4,
          4,
          9,
          4,
          4,
          5,
          3,
          4,
          4,
          4,
          5,
          3,
          4,
          5,
          4,
          3,
          4,
          2,
          5,
          5,
          5,
          4,
          4,
          5,
          5,
          5,
          5,
          6,
          5,
          5,
          5,
          5,
          5,
          6,
          6,
          6,
          6,
          6,
          5,
          6,
          5,
          4,
          4,
          7,
          4,
          4,
          4,
          4,
          4,
          4,
          4,
          7,
          3,
          4,
          4,
          4,
          4,
          4,
          4,
          4,
          5,
          5,
          5,
          5,
          3,
          4,
          5,
          4,
          5,
          4,
          4,
          4,
          4,
          4,
          4,
          4,
          4,
          4,
          4,
          5,
          3,
          4,
          5,
          4,
          3,
          4,
          5,
          5,
          5,
          5,
          5,
          5,
          5,
          4,
          5,
          4,
          5,
          4,
          5
         ],
         "xaxis": "x3",
         "y": [
          0.4219993165623746,
          0.5426187407347611,
          0.4649712265141733,
          0.37686616923785915,
          0.4365833122574677,
          0.4040662259923367,
          0.5075150126125914,
          0.5318674789040096,
          0.5171711083960242,
          0.40957872327437667,
          0.47052281912349025,
          0.5392943172493874,
          0.5393187578715402,
          0.5238167583242548,
          0.505317719581571,
          0.5495512806164079,
          0.49673363548167454,
          0.5313229660121275,
          0.5317285558046433,
          0.5079942333199089,
          0.4993661756579262,
          0.5439468596935704,
          0.5304411307736163,
          0.5183813061636194,
          0.5504802832975101,
          0.5447752670183068,
          0.53727145181093,
          0.5214534315361876,
          0.37652130836884595,
          0.5017488535050286,
          0.5542206601833153,
          0.5528733360671604,
          0.5448434115962211,
          0.5328302697809247,
          0.48850789982318793,
          0.5497446376397347,
          0.44454433153341166,
          0.5242698712579665,
          0.5481069788314931,
          0.5278848487507125,
          0.4641723306578772,
          0.5457850136857622,
          0.5484775456823586,
          0.5359248780350184,
          0.5367893016373173,
          0.5399543326152377,
          0.4920121697986368,
          0.551426927002566,
          0.5262101540528326,
          0.5331365187868423,
          0.5058122486075526,
          0.5403704830139113,
          0.5427523937841962,
          0.5312703303159919,
          0.5069108058616153,
          0.5112820434971136,
          0.5474959908856549,
          0.5395847758587599,
          0.5354498120888804,
          0.5395839765282269,
          0.5439288036225023,
          0.5453992993263235,
          0.541055971541746,
          0.5469454522874735,
          0.539529216205118,
          0.5323420665754515,
          0.5260452056376758,
          0.536345013248526,
          0.5457284448897358,
          0.5199093359952524,
          0.510932203521887,
          0.5421095094405769,
          0.5418773684196867,
          0.5377602311408894,
          0.5586051370815676,
          0.5482745444458385,
          0.5477539654901253,
          0.5393674926336474,
          0.5095201071693208,
          0.5474028895578501,
          0.5506555433546846,
          0.5514841725819046,
          0.4012921177951639,
          0.5417353009147499,
          0.5477314803306073,
          0.5337653180692297,
          0.5416541890525439,
          0.5413719987803723,
          0.5419092174032819,
          0.5372654769489046,
          0.5374114428366856,
          0.538168015131969,
          0.540710488627066,
          0.555426716829558,
          0.5555172766330436,
          0.5603354157411432,
          0.5524674528408718,
          0.5393197814797945,
          0.5386395129713194,
          0.5077739006423673,
          0.5288030005268817,
          0.5318170322713501,
          0.5527464712522421,
          0.5469974056596939,
          0.5480338182655775,
          0.5576828744382667,
          0.5498814168231653,
          0.5151496829222819,
          0.5418950077792154,
          0.5298120613021279,
          0.44831373620100967,
          0.5440005201944557,
          0.5425816702322095,
          0.546130985162915,
          0.550536733319051,
          0.525068277312043,
          0.5489247459626669,
          0.5554757072017612,
          0.49953744669467587,
          0.540565999801332,
          0.5452684085783127,
          0.5442601050463381,
          0.5558219657298736,
          0.5508358154797284,
          0.5472711524522529,
          0.5409200224340958,
          0.5484317868939734,
          0.5488739258090605,
          0.5406756044017147,
          0.5230859462104748,
          0.5478797554498772,
          0.5422565667084435,
          0.5386768843013476,
          0.543156321378691,
          0.5312447158228379,
          0.5481274006872593,
          0.5419743555964522,
          0.5498721414158573,
          0.5500576561344894,
          0.5494783834961908,
          0.45236568588566595,
          0.5470837701698963,
          0.5540193731839018,
          0.5433679077203205,
          0.5390954730560396,
          0.5416451447781379,
          0.5568170407424821,
          0.5464288527318683,
          0.4879626228450072,
          0.5520680260871496,
          0.5425087129312931,
          0.5532764901358725,
          0.5507828696647896,
          0.548181750647633,
          0.5492305748325986,
          0.5484527502709855,
          0.5583322103469563,
          0.5303690940099955,
          0.5524211600427243,
          0.5410774296993611,
          0.5470215900985017,
          0.5458096777876976,
          0.5484862651466237,
          0.5472055453246444,
          0.5600898708364619,
          0.5382693544794677,
          0.5432253532977186,
          0.5530842893246015,
          0.5436016201122192,
          0.5447089143526845,
          0.5431807519606,
          0.5439749695845123,
          0.5500466592158837,
          0.5486854673987388,
          0.5490879801975311,
          0.5400258838344136,
          0.5483406954184749,
          0.5517303318266183,
          0.5528193886914253,
          0.5448839575793897,
          0.5510527827609824,
          0.5490672837532542,
          0.5478938991326822,
          0.5549985571818026,
          0.5523507075380361,
          0.5501814109776658,
          0.5508814069581219,
          0.5224175348995691,
          0.5501024670589022,
          0.5414433526992849,
          0.5474505362980315,
          0.5495365228855447,
          0.5615728282832518,
          0.5515343607010114,
          0.5631981141899325,
          0.5501872658987516,
          0.43667000857023924,
          0.5469450811005779,
          0.5209612744423403,
          0.5024958430746922,
          0.5500389378681347,
          0.5455419826113734,
          0.5382686551885054,
          0.5393712456678621,
          0.545367009126162,
          0.5524604237867276,
          0.534510575096511,
          0.5318635818073459,
          0.5476051561807629,
          0.5433380708152005,
          0.548970178077238,
          0.5459451661564071,
          0.5529665253351504,
          0.5540751623632886,
          0.5423098597069288,
          0.55217055160634,
          0.5448646183602064,
          0.5406620302143653,
          0.5516616712387418,
          0.5497036683184433,
          0.5431691346642317,
          0.5423337395705713
         ],
         "yaxis": "y3"
        }
       ],
       "layout": {
        "template": {
         "data": {
          "bar": [
           {
            "error_x": {
             "color": "#2a3f5f"
            },
            "error_y": {
             "color": "#2a3f5f"
            },
            "marker": {
             "line": {
              "color": "#E5ECF6",
              "width": 0.5
             },
             "pattern": {
              "fillmode": "overlay",
              "size": 10,
              "solidity": 0.2
             }
            },
            "type": "bar"
           }
          ],
          "barpolar": [
           {
            "marker": {
             "line": {
              "color": "#E5ECF6",
              "width": 0.5
             },
             "pattern": {
              "fillmode": "overlay",
              "size": 10,
              "solidity": 0.2
             }
            },
            "type": "barpolar"
           }
          ],
          "carpet": [
           {
            "aaxis": {
             "endlinecolor": "#2a3f5f",
             "gridcolor": "white",
             "linecolor": "white",
             "minorgridcolor": "white",
             "startlinecolor": "#2a3f5f"
            },
            "baxis": {
             "endlinecolor": "#2a3f5f",
             "gridcolor": "white",
             "linecolor": "white",
             "minorgridcolor": "white",
             "startlinecolor": "#2a3f5f"
            },
            "type": "carpet"
           }
          ],
          "choropleth": [
           {
            "colorbar": {
             "outlinewidth": 0,
             "ticks": ""
            },
            "type": "choropleth"
           }
          ],
          "contour": [
           {
            "colorbar": {
             "outlinewidth": 0,
             "ticks": ""
            },
            "colorscale": [
             [
              0,
              "#0d0887"
             ],
             [
              0.1111111111111111,
              "#46039f"
             ],
             [
              0.2222222222222222,
              "#7201a8"
             ],
             [
              0.3333333333333333,
              "#9c179e"
             ],
             [
              0.4444444444444444,
              "#bd3786"
             ],
             [
              0.5555555555555556,
              "#d8576b"
             ],
             [
              0.6666666666666666,
              "#ed7953"
             ],
             [
              0.7777777777777778,
              "#fb9f3a"
             ],
             [
              0.8888888888888888,
              "#fdca26"
             ],
             [
              1,
              "#f0f921"
             ]
            ],
            "type": "contour"
           }
          ],
          "contourcarpet": [
           {
            "colorbar": {
             "outlinewidth": 0,
             "ticks": ""
            },
            "type": "contourcarpet"
           }
          ],
          "heatmap": [
           {
            "colorbar": {
             "outlinewidth": 0,
             "ticks": ""
            },
            "colorscale": [
             [
              0,
              "#0d0887"
             ],
             [
              0.1111111111111111,
              "#46039f"
             ],
             [
              0.2222222222222222,
              "#7201a8"
             ],
             [
              0.3333333333333333,
              "#9c179e"
             ],
             [
              0.4444444444444444,
              "#bd3786"
             ],
             [
              0.5555555555555556,
              "#d8576b"
             ],
             [
              0.6666666666666666,
              "#ed7953"
             ],
             [
              0.7777777777777778,
              "#fb9f3a"
             ],
             [
              0.8888888888888888,
              "#fdca26"
             ],
             [
              1,
              "#f0f921"
             ]
            ],
            "type": "heatmap"
           }
          ],
          "heatmapgl": [
           {
            "colorbar": {
             "outlinewidth": 0,
             "ticks": ""
            },
            "colorscale": [
             [
              0,
              "#0d0887"
             ],
             [
              0.1111111111111111,
              "#46039f"
             ],
             [
              0.2222222222222222,
              "#7201a8"
             ],
             [
              0.3333333333333333,
              "#9c179e"
             ],
             [
              0.4444444444444444,
              "#bd3786"
             ],
             [
              0.5555555555555556,
              "#d8576b"
             ],
             [
              0.6666666666666666,
              "#ed7953"
             ],
             [
              0.7777777777777778,
              "#fb9f3a"
             ],
             [
              0.8888888888888888,
              "#fdca26"
             ],
             [
              1,
              "#f0f921"
             ]
            ],
            "type": "heatmapgl"
           }
          ],
          "histogram": [
           {
            "marker": {
             "pattern": {
              "fillmode": "overlay",
              "size": 10,
              "solidity": 0.2
             }
            },
            "type": "histogram"
           }
          ],
          "histogram2d": [
           {
            "colorbar": {
             "outlinewidth": 0,
             "ticks": ""
            },
            "colorscale": [
             [
              0,
              "#0d0887"
             ],
             [
              0.1111111111111111,
              "#46039f"
             ],
             [
              0.2222222222222222,
              "#7201a8"
             ],
             [
              0.3333333333333333,
              "#9c179e"
             ],
             [
              0.4444444444444444,
              "#bd3786"
             ],
             [
              0.5555555555555556,
              "#d8576b"
             ],
             [
              0.6666666666666666,
              "#ed7953"
             ],
             [
              0.7777777777777778,
              "#fb9f3a"
             ],
             [
              0.8888888888888888,
              "#fdca26"
             ],
             [
              1,
              "#f0f921"
             ]
            ],
            "type": "histogram2d"
           }
          ],
          "histogram2dcontour": [
           {
            "colorbar": {
             "outlinewidth": 0,
             "ticks": ""
            },
            "colorscale": [
             [
              0,
              "#0d0887"
             ],
             [
              0.1111111111111111,
              "#46039f"
             ],
             [
              0.2222222222222222,
              "#7201a8"
             ],
             [
              0.3333333333333333,
              "#9c179e"
             ],
             [
              0.4444444444444444,
              "#bd3786"
             ],
             [
              0.5555555555555556,
              "#d8576b"
             ],
             [
              0.6666666666666666,
              "#ed7953"
             ],
             [
              0.7777777777777778,
              "#fb9f3a"
             ],
             [
              0.8888888888888888,
              "#fdca26"
             ],
             [
              1,
              "#f0f921"
             ]
            ],
            "type": "histogram2dcontour"
           }
          ],
          "mesh3d": [
           {
            "colorbar": {
             "outlinewidth": 0,
             "ticks": ""
            },
            "type": "mesh3d"
           }
          ],
          "parcoords": [
           {
            "line": {
             "colorbar": {
              "outlinewidth": 0,
              "ticks": ""
             }
            },
            "type": "parcoords"
           }
          ],
          "pie": [
           {
            "automargin": true,
            "type": "pie"
           }
          ],
          "scatter": [
           {
            "fillpattern": {
             "fillmode": "overlay",
             "size": 10,
             "solidity": 0.2
            },
            "type": "scatter"
           }
          ],
          "scatter3d": [
           {
            "line": {
             "colorbar": {
              "outlinewidth": 0,
              "ticks": ""
             }
            },
            "marker": {
             "colorbar": {
              "outlinewidth": 0,
              "ticks": ""
             }
            },
            "type": "scatter3d"
           }
          ],
          "scattercarpet": [
           {
            "marker": {
             "colorbar": {
              "outlinewidth": 0,
              "ticks": ""
             }
            },
            "type": "scattercarpet"
           }
          ],
          "scattergeo": [
           {
            "marker": {
             "colorbar": {
              "outlinewidth": 0,
              "ticks": ""
             }
            },
            "type": "scattergeo"
           }
          ],
          "scattergl": [
           {
            "marker": {
             "colorbar": {
              "outlinewidth": 0,
              "ticks": ""
             }
            },
            "type": "scattergl"
           }
          ],
          "scattermapbox": [
           {
            "marker": {
             "colorbar": {
              "outlinewidth": 0,
              "ticks": ""
             }
            },
            "type": "scattermapbox"
           }
          ],
          "scatterpolar": [
           {
            "marker": {
             "colorbar": {
              "outlinewidth": 0,
              "ticks": ""
             }
            },
            "type": "scatterpolar"
           }
          ],
          "scatterpolargl": [
           {
            "marker": {
             "colorbar": {
              "outlinewidth": 0,
              "ticks": ""
             }
            },
            "type": "scatterpolargl"
           }
          ],
          "scatterternary": [
           {
            "marker": {
             "colorbar": {
              "outlinewidth": 0,
              "ticks": ""
             }
            },
            "type": "scatterternary"
           }
          ],
          "surface": [
           {
            "colorbar": {
             "outlinewidth": 0,
             "ticks": ""
            },
            "colorscale": [
             [
              0,
              "#0d0887"
             ],
             [
              0.1111111111111111,
              "#46039f"
             ],
             [
              0.2222222222222222,
              "#7201a8"
             ],
             [
              0.3333333333333333,
              "#9c179e"
             ],
             [
              0.4444444444444444,
              "#bd3786"
             ],
             [
              0.5555555555555556,
              "#d8576b"
             ],
             [
              0.6666666666666666,
              "#ed7953"
             ],
             [
              0.7777777777777778,
              "#fb9f3a"
             ],
             [
              0.8888888888888888,
              "#fdca26"
             ],
             [
              1,
              "#f0f921"
             ]
            ],
            "type": "surface"
           }
          ],
          "table": [
           {
            "cells": {
             "fill": {
              "color": "#EBF0F8"
             },
             "line": {
              "color": "white"
             }
            },
            "header": {
             "fill": {
              "color": "#C8D4E3"
             },
             "line": {
              "color": "white"
             }
            },
            "type": "table"
           }
          ]
         },
         "layout": {
          "annotationdefaults": {
           "arrowcolor": "#2a3f5f",
           "arrowhead": 0,
           "arrowwidth": 1
          },
          "autotypenumbers": "strict",
          "coloraxis": {
           "colorbar": {
            "outlinewidth": 0,
            "ticks": ""
           }
          },
          "colorscale": {
           "diverging": [
            [
             0,
             "#8e0152"
            ],
            [
             0.1,
             "#c51b7d"
            ],
            [
             0.2,
             "#de77ae"
            ],
            [
             0.3,
             "#f1b6da"
            ],
            [
             0.4,
             "#fde0ef"
            ],
            [
             0.5,
             "#f7f7f7"
            ],
            [
             0.6,
             "#e6f5d0"
            ],
            [
             0.7,
             "#b8e186"
            ],
            [
             0.8,
             "#7fbc41"
            ],
            [
             0.9,
             "#4d9221"
            ],
            [
             1,
             "#276419"
            ]
           ],
           "sequential": [
            [
             0,
             "#0d0887"
            ],
            [
             0.1111111111111111,
             "#46039f"
            ],
            [
             0.2222222222222222,
             "#7201a8"
            ],
            [
             0.3333333333333333,
             "#9c179e"
            ],
            [
             0.4444444444444444,
             "#bd3786"
            ],
            [
             0.5555555555555556,
             "#d8576b"
            ],
            [
             0.6666666666666666,
             "#ed7953"
            ],
            [
             0.7777777777777778,
             "#fb9f3a"
            ],
            [
             0.8888888888888888,
             "#fdca26"
            ],
            [
             1,
             "#f0f921"
            ]
           ],
           "sequentialminus": [
            [
             0,
             "#0d0887"
            ],
            [
             0.1111111111111111,
             "#46039f"
            ],
            [
             0.2222222222222222,
             "#7201a8"
            ],
            [
             0.3333333333333333,
             "#9c179e"
            ],
            [
             0.4444444444444444,
             "#bd3786"
            ],
            [
             0.5555555555555556,
             "#d8576b"
            ],
            [
             0.6666666666666666,
             "#ed7953"
            ],
            [
             0.7777777777777778,
             "#fb9f3a"
            ],
            [
             0.8888888888888888,
             "#fdca26"
            ],
            [
             1,
             "#f0f921"
            ]
           ]
          },
          "colorway": [
           "#636efa",
           "#EF553B",
           "#00cc96",
           "#ab63fa",
           "#FFA15A",
           "#19d3f3",
           "#FF6692",
           "#B6E880",
           "#FF97FF",
           "#FECB52"
          ],
          "font": {
           "color": "#2a3f5f"
          },
          "geo": {
           "bgcolor": "white",
           "lakecolor": "white",
           "landcolor": "#E5ECF6",
           "showlakes": true,
           "showland": true,
           "subunitcolor": "white"
          },
          "hoverlabel": {
           "align": "left"
          },
          "hovermode": "closest",
          "mapbox": {
           "style": "light"
          },
          "paper_bgcolor": "white",
          "plot_bgcolor": "#E5ECF6",
          "polar": {
           "angularaxis": {
            "gridcolor": "white",
            "linecolor": "white",
            "ticks": ""
           },
           "bgcolor": "#E5ECF6",
           "radialaxis": {
            "gridcolor": "white",
            "linecolor": "white",
            "ticks": ""
           }
          },
          "scene": {
           "xaxis": {
            "backgroundcolor": "#E5ECF6",
            "gridcolor": "white",
            "gridwidth": 2,
            "linecolor": "white",
            "showbackground": true,
            "ticks": "",
            "zerolinecolor": "white"
           },
           "yaxis": {
            "backgroundcolor": "#E5ECF6",
            "gridcolor": "white",
            "gridwidth": 2,
            "linecolor": "white",
            "showbackground": true,
            "ticks": "",
            "zerolinecolor": "white"
           },
           "zaxis": {
            "backgroundcolor": "#E5ECF6",
            "gridcolor": "white",
            "gridwidth": 2,
            "linecolor": "white",
            "showbackground": true,
            "ticks": "",
            "zerolinecolor": "white"
           }
          },
          "shapedefaults": {
           "line": {
            "color": "#2a3f5f"
           }
          },
          "ternary": {
           "aaxis": {
            "gridcolor": "white",
            "linecolor": "white",
            "ticks": ""
           },
           "baxis": {
            "gridcolor": "white",
            "linecolor": "white",
            "ticks": ""
           },
           "bgcolor": "#E5ECF6",
           "caxis": {
            "gridcolor": "white",
            "linecolor": "white",
            "ticks": ""
           }
          },
          "title": {
           "x": 0.05
          },
          "xaxis": {
           "automargin": true,
           "gridcolor": "white",
           "linecolor": "white",
           "ticks": "",
           "title": {
            "standoff": 15
           },
           "zerolinecolor": "white",
           "zerolinewidth": 2
          },
          "yaxis": {
           "automargin": true,
           "gridcolor": "white",
           "linecolor": "white",
           "ticks": "",
           "title": {
            "standoff": 15
           },
           "zerolinecolor": "white",
           "zerolinewidth": 2
          }
         }
        },
        "title": {
         "text": "Slice Plot"
        },
        "xaxis": {
         "anchor": "y",
         "domain": [
          0,
          0.2888888888888889
         ],
         "title": {
          "text": "end_step"
         }
        },
        "xaxis2": {
         "anchor": "y2",
         "domain": [
          0.35555555555555557,
          0.6444444444444445
         ],
         "title": {
          "text": "start_step"
         }
        },
        "xaxis3": {
         "anchor": "y3",
         "domain": [
          0.7111111111111111,
          1
         ],
         "title": {
          "text": "step_cnt"
         }
        },
        "yaxis": {
         "anchor": "x",
         "domain": [
          0,
          1
         ],
         "title": {
          "text": "Objective Value"
         }
        },
        "yaxis2": {
         "anchor": "x2",
         "domain": [
          0,
          1
         ],
         "matches": "y",
         "showticklabels": false
        },
        "yaxis3": {
         "anchor": "x3",
         "domain": [
          0,
          1
         ],
         "matches": "y",
         "showticklabels": false
        }
       }
      }
     },
     "metadata": {},
     "output_type": "display_data"
    }
   ],
   "source": [
    "optuna.visualization.plot_slice(study)"
   ]
  },
  {
   "cell_type": "code",
   "execution_count": null,
   "metadata": {},
   "outputs": [
    {
     "data": {
      "application/vnd.plotly.v1+json": {
       "config": {
        "plotlyServerURL": "https://plot.ly"
       },
       "data": [
        {
         "mode": "markers",
         "name": "Objective Value",
         "type": "scatter",
         "x": [
          0,
          3,
          4,
          5,
          6,
          7,
          8,
          9,
          10,
          11,
          12,
          13,
          14,
          15,
          16,
          17,
          18,
          19,
          20,
          21,
          22,
          23,
          24,
          25,
          26,
          27,
          28,
          29,
          30,
          31,
          32,
          33,
          34,
          35,
          36,
          37,
          38,
          39,
          40,
          41,
          42,
          43,
          44,
          45,
          46,
          47,
          48,
          49,
          50,
          51,
          52,
          53,
          54,
          55,
          56,
          57,
          58,
          59,
          60,
          61,
          62,
          63,
          64,
          65,
          66,
          67,
          68,
          69,
          70,
          71,
          72,
          73,
          74,
          75,
          76,
          77,
          78,
          79,
          80,
          81,
          82,
          83,
          84,
          85,
          86,
          87,
          88,
          89,
          90,
          91,
          92,
          93,
          94,
          95,
          96,
          97,
          98,
          99,
          100,
          101,
          102,
          103,
          104,
          105,
          106,
          107,
          108,
          109,
          110,
          111,
          112,
          113,
          114,
          115,
          116,
          117,
          118,
          119,
          120,
          121,
          122,
          123,
          124,
          125,
          126,
          127,
          128,
          129,
          130,
          131,
          132,
          133,
          134,
          135,
          136,
          137,
          138,
          139,
          140,
          141,
          142,
          143,
          144,
          145,
          146,
          147,
          148,
          149,
          150,
          151,
          152,
          153,
          154,
          155,
          156,
          157,
          158,
          159,
          160,
          161,
          162,
          163,
          164,
          165,
          166,
          167,
          168,
          169,
          170,
          171,
          172,
          173,
          174,
          175,
          176,
          177,
          178,
          179,
          180,
          181,
          182,
          183,
          184,
          185,
          186,
          187,
          188,
          189,
          190,
          191,
          192,
          193,
          194,
          195,
          196,
          197,
          198,
          199,
          200,
          201,
          202,
          203,
          204,
          205,
          206,
          207,
          208,
          209,
          210,
          211,
          212,
          213,
          214,
          215,
          216,
          217,
          218,
          219,
          220,
          221,
          222,
          223
         ],
         "y": [
          0.4219993165623746,
          0.5426187407347611,
          0.4649712265141733,
          0.37686616923785915,
          0.4365833122574677,
          0.4040662259923367,
          0.5075150126125914,
          0.5318674789040096,
          0.5171711083960242,
          0.40957872327437667,
          0.47052281912349025,
          0.5392943172493874,
          0.5393187578715402,
          0.5238167583242548,
          0.505317719581571,
          0.5495512806164079,
          0.49673363548167454,
          0.5313229660121275,
          0.5317285558046433,
          0.5079942333199089,
          0.4993661756579262,
          0.5439468596935704,
          0.5304411307736163,
          0.5183813061636194,
          0.5504802832975101,
          0.5447752670183068,
          0.53727145181093,
          0.5214534315361876,
          0.37652130836884595,
          0.5017488535050286,
          0.5542206601833153,
          0.5528733360671604,
          0.5448434115962211,
          0.5328302697809247,
          0.48850789982318793,
          0.5497446376397347,
          0.44454433153341166,
          0.5242698712579665,
          0.5481069788314931,
          0.5278848487507125,
          0.4641723306578772,
          0.5457850136857622,
          0.5484775456823586,
          0.5359248780350184,
          0.5367893016373173,
          0.5399543326152377,
          0.4920121697986368,
          0.551426927002566,
          0.5262101540528326,
          0.5331365187868423,
          0.5058122486075526,
          0.5403704830139113,
          0.5427523937841962,
          0.5312703303159919,
          0.5069108058616153,
          0.5112820434971136,
          0.5474959908856549,
          0.5395847758587599,
          0.5354498120888804,
          0.5395839765282269,
          0.5439288036225023,
          0.5453992993263235,
          0.541055971541746,
          0.5469454522874735,
          0.539529216205118,
          0.5323420665754515,
          0.5260452056376758,
          0.536345013248526,
          0.5457284448897358,
          0.5199093359952524,
          0.510932203521887,
          0.5421095094405769,
          0.5418773684196867,
          0.5377602311408894,
          0.5586051370815676,
          0.5482745444458385,
          0.5477539654901253,
          0.5393674926336474,
          0.5095201071693208,
          0.5474028895578501,
          0.5506555433546846,
          0.5514841725819046,
          0.4012921177951639,
          0.5417353009147499,
          0.5477314803306073,
          0.5337653180692297,
          0.5416541890525439,
          0.5413719987803723,
          0.5419092174032819,
          0.5372654769489046,
          0.5374114428366856,
          0.538168015131969,
          0.540710488627066,
          0.555426716829558,
          0.5555172766330436,
          0.5603354157411432,
          0.5524674528408718,
          0.5393197814797945,
          0.5386395129713194,
          0.5077739006423673,
          0.5288030005268817,
          0.5318170322713501,
          0.5527464712522421,
          0.5469974056596939,
          0.5480338182655775,
          0.5576828744382667,
          0.5498814168231653,
          0.5151496829222819,
          0.5418950077792154,
          0.5298120613021279,
          0.44831373620100967,
          0.5440005201944557,
          0.5425816702322095,
          0.546130985162915,
          0.550536733319051,
          0.525068277312043,
          0.5489247459626669,
          0.5554757072017612,
          0.49953744669467587,
          0.540565999801332,
          0.5452684085783127,
          0.5442601050463381,
          0.5558219657298736,
          0.5508358154797284,
          0.5472711524522529,
          0.5409200224340958,
          0.5484317868939734,
          0.5488739258090605,
          0.5406756044017147,
          0.5230859462104748,
          0.5478797554498772,
          0.5422565667084435,
          0.5386768843013476,
          0.543156321378691,
          0.5312447158228379,
          0.5481274006872593,
          0.5419743555964522,
          0.5498721414158573,
          0.5500576561344894,
          0.5494783834961908,
          0.45236568588566595,
          0.5470837701698963,
          0.5540193731839018,
          0.5433679077203205,
          0.5390954730560396,
          0.5416451447781379,
          0.5568170407424821,
          0.5464288527318683,
          0.4879626228450072,
          0.5520680260871496,
          0.5425087129312931,
          0.5532764901358725,
          0.5507828696647896,
          0.548181750647633,
          0.5492305748325986,
          0.5484527502709855,
          0.5583322103469563,
          0.5303690940099955,
          0.5524211600427243,
          0.5410774296993611,
          0.5470215900985017,
          0.5458096777876976,
          0.5484862651466237,
          0.5472055453246444,
          0.5600898708364619,
          0.5382693544794677,
          0.5432253532977186,
          0.5530842893246015,
          0.5436016201122192,
          0.5447089143526845,
          0.5431807519606,
          0.5439749695845123,
          0.5500466592158837,
          0.5486854673987388,
          0.5490879801975311,
          0.5400258838344136,
          0.5483406954184749,
          0.5517303318266183,
          0.5528193886914253,
          0.5448839575793897,
          0.5510527827609824,
          0.5490672837532542,
          0.5478938991326822,
          0.5549985571818026,
          0.5523507075380361,
          0.5501814109776658,
          0.5508814069581219,
          0.5224175348995691,
          0.5501024670589022,
          0.5414433526992849,
          0.5474505362980315,
          0.5495365228855447,
          0.5615728282832518,
          0.5515343607010114,
          0.5631981141899325,
          0.5501872658987516,
          0.43667000857023924,
          0.5469450811005779,
          0.5209612744423403,
          0.5024958430746922,
          0.5500389378681347,
          0.5455419826113734,
          0.5382686551885054,
          0.5393712456678621,
          0.545367009126162,
          0.5524604237867276,
          0.534510575096511,
          0.5318635818073459,
          0.5476051561807629,
          0.5433380708152005,
          0.548970178077238,
          0.5459451661564071,
          0.5529665253351504,
          0.5540751623632886,
          0.5423098597069288,
          0.55217055160634,
          0.5448646183602064,
          0.5406620302143653,
          0.5516616712387418,
          0.5497036683184433,
          0.5431691346642317,
          0.5423337395705713
         ]
        },
        {
         "name": "Best Value",
         "type": "scatter",
         "x": [
          0,
          3,
          4,
          5,
          6,
          7,
          8,
          9,
          10,
          11,
          12,
          13,
          14,
          15,
          16,
          17,
          18,
          19,
          20,
          21,
          22,
          23,
          24,
          25,
          26,
          27,
          28,
          29,
          30,
          31,
          32,
          33,
          34,
          35,
          36,
          37,
          38,
          39,
          40,
          41,
          42,
          43,
          44,
          45,
          46,
          47,
          48,
          49,
          50,
          51,
          52,
          53,
          54,
          55,
          56,
          57,
          58,
          59,
          60,
          61,
          62,
          63,
          64,
          65,
          66,
          67,
          68,
          69,
          70,
          71,
          72,
          73,
          74,
          75,
          76,
          77,
          78,
          79,
          80,
          81,
          82,
          83,
          84,
          85,
          86,
          87,
          88,
          89,
          90,
          91,
          92,
          93,
          94,
          95,
          96,
          97,
          98,
          99,
          100,
          101,
          102,
          103,
          104,
          105,
          106,
          107,
          108,
          109,
          110,
          111,
          112,
          113,
          114,
          115,
          116,
          117,
          118,
          119,
          120,
          121,
          122,
          123,
          124,
          125,
          126,
          127,
          128,
          129,
          130,
          131,
          132,
          133,
          134,
          135,
          136,
          137,
          138,
          139,
          140,
          141,
          142,
          143,
          144,
          145,
          146,
          147,
          148,
          149,
          150,
          151,
          152,
          153,
          154,
          155,
          156,
          157,
          158,
          159,
          160,
          161,
          162,
          163,
          164,
          165,
          166,
          167,
          168,
          169,
          170,
          171,
          172,
          173,
          174,
          175,
          176,
          177,
          178,
          179,
          180,
          181,
          182,
          183,
          184,
          185,
          186,
          187,
          188,
          189,
          190,
          191,
          192,
          193,
          194,
          195,
          196,
          197,
          198,
          199,
          200,
          201,
          202,
          203,
          204,
          205,
          206,
          207,
          208,
          209,
          210,
          211,
          212,
          213,
          214,
          215,
          216,
          217,
          218,
          219,
          220,
          221,
          222,
          223
         ],
         "y": [
          0.4219993165623746,
          0.5426187407347611,
          0.5426187407347611,
          0.5426187407347611,
          0.5426187407347611,
          0.5426187407347611,
          0.5426187407347611,
          0.5426187407347611,
          0.5426187407347611,
          0.5426187407347611,
          0.5426187407347611,
          0.5426187407347611,
          0.5426187407347611,
          0.5426187407347611,
          0.5426187407347611,
          0.5495512806164079,
          0.5495512806164079,
          0.5495512806164079,
          0.5495512806164079,
          0.5495512806164079,
          0.5495512806164079,
          0.5495512806164079,
          0.5495512806164079,
          0.5495512806164079,
          0.5504802832975101,
          0.5504802832975101,
          0.5504802832975101,
          0.5504802832975101,
          0.5504802832975101,
          0.5504802832975101,
          0.5542206601833153,
          0.5542206601833153,
          0.5542206601833153,
          0.5542206601833153,
          0.5542206601833153,
          0.5542206601833153,
          0.5542206601833153,
          0.5542206601833153,
          0.5542206601833153,
          0.5542206601833153,
          0.5542206601833153,
          0.5542206601833153,
          0.5542206601833153,
          0.5542206601833153,
          0.5542206601833153,
          0.5542206601833153,
          0.5542206601833153,
          0.5542206601833153,
          0.5542206601833153,
          0.5542206601833153,
          0.5542206601833153,
          0.5542206601833153,
          0.5542206601833153,
          0.5542206601833153,
          0.5542206601833153,
          0.5542206601833153,
          0.5542206601833153,
          0.5542206601833153,
          0.5542206601833153,
          0.5542206601833153,
          0.5542206601833153,
          0.5542206601833153,
          0.5542206601833153,
          0.5542206601833153,
          0.5542206601833153,
          0.5542206601833153,
          0.5542206601833153,
          0.5542206601833153,
          0.5542206601833153,
          0.5542206601833153,
          0.5542206601833153,
          0.5542206601833153,
          0.5542206601833153,
          0.5542206601833153,
          0.5586051370815676,
          0.5586051370815676,
          0.5586051370815676,
          0.5586051370815676,
          0.5586051370815676,
          0.5586051370815676,
          0.5586051370815676,
          0.5586051370815676,
          0.5586051370815676,
          0.5586051370815676,
          0.5586051370815676,
          0.5586051370815676,
          0.5586051370815676,
          0.5586051370815676,
          0.5586051370815676,
          0.5586051370815676,
          0.5586051370815676,
          0.5586051370815676,
          0.5586051370815676,
          0.5586051370815676,
          0.5586051370815676,
          0.5603354157411432,
          0.5603354157411432,
          0.5603354157411432,
          0.5603354157411432,
          0.5603354157411432,
          0.5603354157411432,
          0.5603354157411432,
          0.5603354157411432,
          0.5603354157411432,
          0.5603354157411432,
          0.5603354157411432,
          0.5603354157411432,
          0.5603354157411432,
          0.5603354157411432,
          0.5603354157411432,
          0.5603354157411432,
          0.5603354157411432,
          0.5603354157411432,
          0.5603354157411432,
          0.5603354157411432,
          0.5603354157411432,
          0.5603354157411432,
          0.5603354157411432,
          0.5603354157411432,
          0.5603354157411432,
          0.5603354157411432,
          0.5603354157411432,
          0.5603354157411432,
          0.5603354157411432,
          0.5603354157411432,
          0.5603354157411432,
          0.5603354157411432,
          0.5603354157411432,
          0.5603354157411432,
          0.5603354157411432,
          0.5603354157411432,
          0.5603354157411432,
          0.5603354157411432,
          0.5603354157411432,
          0.5603354157411432,
          0.5603354157411432,
          0.5603354157411432,
          0.5603354157411432,
          0.5603354157411432,
          0.5603354157411432,
          0.5603354157411432,
          0.5603354157411432,
          0.5603354157411432,
          0.5603354157411432,
          0.5603354157411432,
          0.5603354157411432,
          0.5603354157411432,
          0.5603354157411432,
          0.5603354157411432,
          0.5603354157411432,
          0.5603354157411432,
          0.5603354157411432,
          0.5603354157411432,
          0.5603354157411432,
          0.5603354157411432,
          0.5603354157411432,
          0.5603354157411432,
          0.5603354157411432,
          0.5603354157411432,
          0.5603354157411432,
          0.5603354157411432,
          0.5603354157411432,
          0.5603354157411432,
          0.5603354157411432,
          0.5603354157411432,
          0.5603354157411432,
          0.5603354157411432,
          0.5603354157411432,
          0.5603354157411432,
          0.5603354157411432,
          0.5603354157411432,
          0.5603354157411432,
          0.5603354157411432,
          0.5603354157411432,
          0.5603354157411432,
          0.5603354157411432,
          0.5603354157411432,
          0.5603354157411432,
          0.5603354157411432,
          0.5603354157411432,
          0.5603354157411432,
          0.5603354157411432,
          0.5603354157411432,
          0.5603354157411432,
          0.5603354157411432,
          0.5603354157411432,
          0.5603354157411432,
          0.5603354157411432,
          0.5603354157411432,
          0.5603354157411432,
          0.5603354157411432,
          0.5603354157411432,
          0.5615728282832518,
          0.5615728282832518,
          0.5631981141899325,
          0.5631981141899325,
          0.5631981141899325,
          0.5631981141899325,
          0.5631981141899325,
          0.5631981141899325,
          0.5631981141899325,
          0.5631981141899325,
          0.5631981141899325,
          0.5631981141899325,
          0.5631981141899325,
          0.5631981141899325,
          0.5631981141899325,
          0.5631981141899325,
          0.5631981141899325,
          0.5631981141899325,
          0.5631981141899325,
          0.5631981141899325,
          0.5631981141899325,
          0.5631981141899325,
          0.5631981141899325,
          0.5631981141899325,
          0.5631981141899325,
          0.5631981141899325,
          0.5631981141899325,
          0.5631981141899325,
          0.5631981141899325,
          0.5631981141899325
         ]
        }
       ],
       "layout": {
        "template": {
         "data": {
          "bar": [
           {
            "error_x": {
             "color": "#2a3f5f"
            },
            "error_y": {
             "color": "#2a3f5f"
            },
            "marker": {
             "line": {
              "color": "#E5ECF6",
              "width": 0.5
             },
             "pattern": {
              "fillmode": "overlay",
              "size": 10,
              "solidity": 0.2
             }
            },
            "type": "bar"
           }
          ],
          "barpolar": [
           {
            "marker": {
             "line": {
              "color": "#E5ECF6",
              "width": 0.5
             },
             "pattern": {
              "fillmode": "overlay",
              "size": 10,
              "solidity": 0.2
             }
            },
            "type": "barpolar"
           }
          ],
          "carpet": [
           {
            "aaxis": {
             "endlinecolor": "#2a3f5f",
             "gridcolor": "white",
             "linecolor": "white",
             "minorgridcolor": "white",
             "startlinecolor": "#2a3f5f"
            },
            "baxis": {
             "endlinecolor": "#2a3f5f",
             "gridcolor": "white",
             "linecolor": "white",
             "minorgridcolor": "white",
             "startlinecolor": "#2a3f5f"
            },
            "type": "carpet"
           }
          ],
          "choropleth": [
           {
            "colorbar": {
             "outlinewidth": 0,
             "ticks": ""
            },
            "type": "choropleth"
           }
          ],
          "contour": [
           {
            "colorbar": {
             "outlinewidth": 0,
             "ticks": ""
            },
            "colorscale": [
             [
              0,
              "#0d0887"
             ],
             [
              0.1111111111111111,
              "#46039f"
             ],
             [
              0.2222222222222222,
              "#7201a8"
             ],
             [
              0.3333333333333333,
              "#9c179e"
             ],
             [
              0.4444444444444444,
              "#bd3786"
             ],
             [
              0.5555555555555556,
              "#d8576b"
             ],
             [
              0.6666666666666666,
              "#ed7953"
             ],
             [
              0.7777777777777778,
              "#fb9f3a"
             ],
             [
              0.8888888888888888,
              "#fdca26"
             ],
             [
              1,
              "#f0f921"
             ]
            ],
            "type": "contour"
           }
          ],
          "contourcarpet": [
           {
            "colorbar": {
             "outlinewidth": 0,
             "ticks": ""
            },
            "type": "contourcarpet"
           }
          ],
          "heatmap": [
           {
            "colorbar": {
             "outlinewidth": 0,
             "ticks": ""
            },
            "colorscale": [
             [
              0,
              "#0d0887"
             ],
             [
              0.1111111111111111,
              "#46039f"
             ],
             [
              0.2222222222222222,
              "#7201a8"
             ],
             [
              0.3333333333333333,
              "#9c179e"
             ],
             [
              0.4444444444444444,
              "#bd3786"
             ],
             [
              0.5555555555555556,
              "#d8576b"
             ],
             [
              0.6666666666666666,
              "#ed7953"
             ],
             [
              0.7777777777777778,
              "#fb9f3a"
             ],
             [
              0.8888888888888888,
              "#fdca26"
             ],
             [
              1,
              "#f0f921"
             ]
            ],
            "type": "heatmap"
           }
          ],
          "heatmapgl": [
           {
            "colorbar": {
             "outlinewidth": 0,
             "ticks": ""
            },
            "colorscale": [
             [
              0,
              "#0d0887"
             ],
             [
              0.1111111111111111,
              "#46039f"
             ],
             [
              0.2222222222222222,
              "#7201a8"
             ],
             [
              0.3333333333333333,
              "#9c179e"
             ],
             [
              0.4444444444444444,
              "#bd3786"
             ],
             [
              0.5555555555555556,
              "#d8576b"
             ],
             [
              0.6666666666666666,
              "#ed7953"
             ],
             [
              0.7777777777777778,
              "#fb9f3a"
             ],
             [
              0.8888888888888888,
              "#fdca26"
             ],
             [
              1,
              "#f0f921"
             ]
            ],
            "type": "heatmapgl"
           }
          ],
          "histogram": [
           {
            "marker": {
             "pattern": {
              "fillmode": "overlay",
              "size": 10,
              "solidity": 0.2
             }
            },
            "type": "histogram"
           }
          ],
          "histogram2d": [
           {
            "colorbar": {
             "outlinewidth": 0,
             "ticks": ""
            },
            "colorscale": [
             [
              0,
              "#0d0887"
             ],
             [
              0.1111111111111111,
              "#46039f"
             ],
             [
              0.2222222222222222,
              "#7201a8"
             ],
             [
              0.3333333333333333,
              "#9c179e"
             ],
             [
              0.4444444444444444,
              "#bd3786"
             ],
             [
              0.5555555555555556,
              "#d8576b"
             ],
             [
              0.6666666666666666,
              "#ed7953"
             ],
             [
              0.7777777777777778,
              "#fb9f3a"
             ],
             [
              0.8888888888888888,
              "#fdca26"
             ],
             [
              1,
              "#f0f921"
             ]
            ],
            "type": "histogram2d"
           }
          ],
          "histogram2dcontour": [
           {
            "colorbar": {
             "outlinewidth": 0,
             "ticks": ""
            },
            "colorscale": [
             [
              0,
              "#0d0887"
             ],
             [
              0.1111111111111111,
              "#46039f"
             ],
             [
              0.2222222222222222,
              "#7201a8"
             ],
             [
              0.3333333333333333,
              "#9c179e"
             ],
             [
              0.4444444444444444,
              "#bd3786"
             ],
             [
              0.5555555555555556,
              "#d8576b"
             ],
             [
              0.6666666666666666,
              "#ed7953"
             ],
             [
              0.7777777777777778,
              "#fb9f3a"
             ],
             [
              0.8888888888888888,
              "#fdca26"
             ],
             [
              1,
              "#f0f921"
             ]
            ],
            "type": "histogram2dcontour"
           }
          ],
          "mesh3d": [
           {
            "colorbar": {
             "outlinewidth": 0,
             "ticks": ""
            },
            "type": "mesh3d"
           }
          ],
          "parcoords": [
           {
            "line": {
             "colorbar": {
              "outlinewidth": 0,
              "ticks": ""
             }
            },
            "type": "parcoords"
           }
          ],
          "pie": [
           {
            "automargin": true,
            "type": "pie"
           }
          ],
          "scatter": [
           {
            "fillpattern": {
             "fillmode": "overlay",
             "size": 10,
             "solidity": 0.2
            },
            "type": "scatter"
           }
          ],
          "scatter3d": [
           {
            "line": {
             "colorbar": {
              "outlinewidth": 0,
              "ticks": ""
             }
            },
            "marker": {
             "colorbar": {
              "outlinewidth": 0,
              "ticks": ""
             }
            },
            "type": "scatter3d"
           }
          ],
          "scattercarpet": [
           {
            "marker": {
             "colorbar": {
              "outlinewidth": 0,
              "ticks": ""
             }
            },
            "type": "scattercarpet"
           }
          ],
          "scattergeo": [
           {
            "marker": {
             "colorbar": {
              "outlinewidth": 0,
              "ticks": ""
             }
            },
            "type": "scattergeo"
           }
          ],
          "scattergl": [
           {
            "marker": {
             "colorbar": {
              "outlinewidth": 0,
              "ticks": ""
             }
            },
            "type": "scattergl"
           }
          ],
          "scattermapbox": [
           {
            "marker": {
             "colorbar": {
              "outlinewidth": 0,
              "ticks": ""
             }
            },
            "type": "scattermapbox"
           }
          ],
          "scatterpolar": [
           {
            "marker": {
             "colorbar": {
              "outlinewidth": 0,
              "ticks": ""
             }
            },
            "type": "scatterpolar"
           }
          ],
          "scatterpolargl": [
           {
            "marker": {
             "colorbar": {
              "outlinewidth": 0,
              "ticks": ""
             }
            },
            "type": "scatterpolargl"
           }
          ],
          "scatterternary": [
           {
            "marker": {
             "colorbar": {
              "outlinewidth": 0,
              "ticks": ""
             }
            },
            "type": "scatterternary"
           }
          ],
          "surface": [
           {
            "colorbar": {
             "outlinewidth": 0,
             "ticks": ""
            },
            "colorscale": [
             [
              0,
              "#0d0887"
             ],
             [
              0.1111111111111111,
              "#46039f"
             ],
             [
              0.2222222222222222,
              "#7201a8"
             ],
             [
              0.3333333333333333,
              "#9c179e"
             ],
             [
              0.4444444444444444,
              "#bd3786"
             ],
             [
              0.5555555555555556,
              "#d8576b"
             ],
             [
              0.6666666666666666,
              "#ed7953"
             ],
             [
              0.7777777777777778,
              "#fb9f3a"
             ],
             [
              0.8888888888888888,
              "#fdca26"
             ],
             [
              1,
              "#f0f921"
             ]
            ],
            "type": "surface"
           }
          ],
          "table": [
           {
            "cells": {
             "fill": {
              "color": "#EBF0F8"
             },
             "line": {
              "color": "white"
             }
            },
            "header": {
             "fill": {
              "color": "#C8D4E3"
             },
             "line": {
              "color": "white"
             }
            },
            "type": "table"
           }
          ]
         },
         "layout": {
          "annotationdefaults": {
           "arrowcolor": "#2a3f5f",
           "arrowhead": 0,
           "arrowwidth": 1
          },
          "autotypenumbers": "strict",
          "coloraxis": {
           "colorbar": {
            "outlinewidth": 0,
            "ticks": ""
           }
          },
          "colorscale": {
           "diverging": [
            [
             0,
             "#8e0152"
            ],
            [
             0.1,
             "#c51b7d"
            ],
            [
             0.2,
             "#de77ae"
            ],
            [
             0.3,
             "#f1b6da"
            ],
            [
             0.4,
             "#fde0ef"
            ],
            [
             0.5,
             "#f7f7f7"
            ],
            [
             0.6,
             "#e6f5d0"
            ],
            [
             0.7,
             "#b8e186"
            ],
            [
             0.8,
             "#7fbc41"
            ],
            [
             0.9,
             "#4d9221"
            ],
            [
             1,
             "#276419"
            ]
           ],
           "sequential": [
            [
             0,
             "#0d0887"
            ],
            [
             0.1111111111111111,
             "#46039f"
            ],
            [
             0.2222222222222222,
             "#7201a8"
            ],
            [
             0.3333333333333333,
             "#9c179e"
            ],
            [
             0.4444444444444444,
             "#bd3786"
            ],
            [
             0.5555555555555556,
             "#d8576b"
            ],
            [
             0.6666666666666666,
             "#ed7953"
            ],
            [
             0.7777777777777778,
             "#fb9f3a"
            ],
            [
             0.8888888888888888,
             "#fdca26"
            ],
            [
             1,
             "#f0f921"
            ]
           ],
           "sequentialminus": [
            [
             0,
             "#0d0887"
            ],
            [
             0.1111111111111111,
             "#46039f"
            ],
            [
             0.2222222222222222,
             "#7201a8"
            ],
            [
             0.3333333333333333,
             "#9c179e"
            ],
            [
             0.4444444444444444,
             "#bd3786"
            ],
            [
             0.5555555555555556,
             "#d8576b"
            ],
            [
             0.6666666666666666,
             "#ed7953"
            ],
            [
             0.7777777777777778,
             "#fb9f3a"
            ],
            [
             0.8888888888888888,
             "#fdca26"
            ],
            [
             1,
             "#f0f921"
            ]
           ]
          },
          "colorway": [
           "#636efa",
           "#EF553B",
           "#00cc96",
           "#ab63fa",
           "#FFA15A",
           "#19d3f3",
           "#FF6692",
           "#B6E880",
           "#FF97FF",
           "#FECB52"
          ],
          "font": {
           "color": "#2a3f5f"
          },
          "geo": {
           "bgcolor": "white",
           "lakecolor": "white",
           "landcolor": "#E5ECF6",
           "showlakes": true,
           "showland": true,
           "subunitcolor": "white"
          },
          "hoverlabel": {
           "align": "left"
          },
          "hovermode": "closest",
          "mapbox": {
           "style": "light"
          },
          "paper_bgcolor": "white",
          "plot_bgcolor": "#E5ECF6",
          "polar": {
           "angularaxis": {
            "gridcolor": "white",
            "linecolor": "white",
            "ticks": ""
           },
           "bgcolor": "#E5ECF6",
           "radialaxis": {
            "gridcolor": "white",
            "linecolor": "white",
            "ticks": ""
           }
          },
          "scene": {
           "xaxis": {
            "backgroundcolor": "#E5ECF6",
            "gridcolor": "white",
            "gridwidth": 2,
            "linecolor": "white",
            "showbackground": true,
            "ticks": "",
            "zerolinecolor": "white"
           },
           "yaxis": {
            "backgroundcolor": "#E5ECF6",
            "gridcolor": "white",
            "gridwidth": 2,
            "linecolor": "white",
            "showbackground": true,
            "ticks": "",
            "zerolinecolor": "white"
           },
           "zaxis": {
            "backgroundcolor": "#E5ECF6",
            "gridcolor": "white",
            "gridwidth": 2,
            "linecolor": "white",
            "showbackground": true,
            "ticks": "",
            "zerolinecolor": "white"
           }
          },
          "shapedefaults": {
           "line": {
            "color": "#2a3f5f"
           }
          },
          "ternary": {
           "aaxis": {
            "gridcolor": "white",
            "linecolor": "white",
            "ticks": ""
           },
           "baxis": {
            "gridcolor": "white",
            "linecolor": "white",
            "ticks": ""
           },
           "bgcolor": "#E5ECF6",
           "caxis": {
            "gridcolor": "white",
            "linecolor": "white",
            "ticks": ""
           }
          },
          "title": {
           "x": 0.05
          },
          "xaxis": {
           "automargin": true,
           "gridcolor": "white",
           "linecolor": "white",
           "ticks": "",
           "title": {
            "standoff": 15
           },
           "zerolinecolor": "white",
           "zerolinewidth": 2
          },
          "yaxis": {
           "automargin": true,
           "gridcolor": "white",
           "linecolor": "white",
           "ticks": "",
           "title": {
            "standoff": 15
           },
           "zerolinecolor": "white",
           "zerolinewidth": 2
          }
         }
        },
        "title": {
         "text": "Optimization History Plot"
        },
        "xaxis": {
         "title": {
          "text": "Trial"
         }
        },
        "yaxis": {
         "title": {
          "text": "Objective Value"
         }
        }
       }
      }
     },
     "metadata": {},
     "output_type": "display_data"
    }
   ],
   "source": [
    "optuna.visualization.plot_optimization_history(study)"
   ]
  },
  {
   "cell_type": "code",
   "execution_count": null,
   "metadata": {},
   "outputs": [
    {
     "data": {
      "text/plain": [
       "{'end_step': 1.4642511974988384,\n",
       " 'start_step': 0.7476624349317118,\n",
       " 'step_cnt': 4}"
      ]
     },
     "execution_count": 12,
     "metadata": {},
     "output_type": "execute_result"
    }
   ],
   "source": [
    "study.best_params"
   ]
  }
 ],
 "metadata": {
  "kernelspec": {
   "display_name": "Python 3",
   "language": "python",
   "name": "python3"
  },
  "language_info": {
   "codemirror_mode": {
    "name": "ipython",
    "version": 3
   },
   "file_extension": ".py",
   "mimetype": "text/x-python",
   "name": "python",
   "nbconvert_exporter": "python",
   "pygments_lexer": "ipython3",
   "version": "3.10.4"
  }
 },
 "nbformat": 4,
 "nbformat_minor": 2
}
