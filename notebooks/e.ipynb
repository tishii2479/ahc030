{
 "cells": [
  {
   "cell_type": "code",
   "execution_count": 1,
   "metadata": {},
   "outputs": [],
   "source": [
    "import pandas as pd"
   ]
  },
  {
   "cell_type": "code",
   "execution_count": 17,
   "metadata": {},
   "outputs": [
    {
     "data": {
      "text/plain": [
       "solver_version\n",
       "baseline                      0\n",
       "py-baseline                   0\n",
       "solver-2024-02-10_17:37:50    0\n",
       "solver-2024-02-10_18:50:54    0\n",
       "solver-2024-02-10_19:00:31    0\n",
       "solver-2024-02-10_19:05:29    0\n",
       "solver-2024-02-10_21:52:14    0\n",
       "solver-2024-02-10_22:05:05    0\n",
       "Name: is_min, dtype: int64"
      ]
     },
     "execution_count": 17,
     "metadata": {},
     "output_type": "execute_result"
    }
   ],
   "source": [
    "df = pd.read_csv(\"../log/database.csv\")\n",
    "\n",
    "min_score = df.groupby(\"input_file\").score.min().rename(\"min_score\")\n",
    "df = pd.merge(df, min_score, on=\"input_file\", how=\"left\")\n",
    "df[\"is_min\"] = df.score == df.min_score\n",
    "solvers = df.groupby([\"solver_version\"]).is_min.sum()\n",
    "solvers[solvers == 0]"
   ]
  }
 ],
 "metadata": {
  "kernelspec": {
   "display_name": "Python 3",
   "language": "python",
   "name": "python3"
  },
  "language_info": {
   "codemirror_mode": {
    "name": "ipython",
    "version": 3
   },
   "file_extension": ".py",
   "mimetype": "text/x-python",
   "name": "python",
   "nbconvert_exporter": "python",
   "pygments_lexer": "ipython3",
   "version": "3.10.4"
  }
 },
 "nbformat": 4,
 "nbformat_minor": 2
}
