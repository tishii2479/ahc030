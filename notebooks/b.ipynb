{
 "cells": [
  {
   "cell_type": "code",
   "execution_count": 1,
   "metadata": {},
   "outputs": [],
   "source": [
    "import pulp"
   ]
  },
  {
   "cell_type": "code",
   "execution_count": 3,
   "metadata": {},
   "outputs": [],
   "source": [
    "pulp.LpProblem(\"aa\")\n",
    "\n",
    "with open(\"../log/a.txt\", \"r\") as f:\n",
    "    for line in f.readlines():\n",
    "        s = line.split()\n",
    "        d = int(s[1])\n",
    "        v = list(map(int, s[2:2 + d * 2]))\n",
    "        v = [(v[2 * i], v[2 * i + 1]) for i in range(d)]\n",
    "        x = int(s[-1])"
   ]
  },
  {
   "cell_type": "code",
   "execution_count": null,
   "metadata": {},
   "outputs": [],
   "source": []
  }
 ],
 "metadata": {
  "kernelspec": {
   "display_name": "Python 3",
   "language": "python",
   "name": "python3"
  },
  "language_info": {
   "codemirror_mode": {
    "name": "ipython",
    "version": 3
   },
   "file_extension": ".py",
   "mimetype": "text/x-python",
   "name": "python",
   "nbconvert_exporter": "python",
   "pygments_lexer": "ipython3",
   "version": "3.10.4"
  }
 },
 "nbformat": 4,
 "nbformat_minor": 2
}
